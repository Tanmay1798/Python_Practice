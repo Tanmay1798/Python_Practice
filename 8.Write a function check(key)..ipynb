{
 "cells": [
  {
   "cell_type": "code",
   "execution_count": null,
   "id": "a253eb67",
   "metadata": {},
   "outputs": [],
   "source": [
    "# 8.Write a function check(key) which takes a key as an argument and check whether that key is present in dictionary or not."
   ]
  },
  {
   "cell_type": "code",
   "execution_count": 1,
   "id": "c7d6e215",
   "metadata": {},
   "outputs": [
    {
     "name": "stdout",
     "output_type": "stream",
     "text": [
      "Enter key number = 7\n",
      "Key is Present\n"
     ]
    }
   ],
   "source": [
    "d = {1:1 , 2:4 , 3:9 , 4:16 , 5:25 , 6:36 , 7:49 , 8:64 , 9:81 , 10:100}\n",
    "\n",
    "def key(n):\n",
    "    if n in d:\n",
    "        print(\"Key is Present\")\n",
    "    else:\n",
    "        print(\"Key is Not Present\")\n",
    "        \n",
    "num = int(input(\"Enter key number = \"))\n",
    "key(num)"
   ]
  },
  {
   "cell_type": "code",
   "execution_count": 2,
   "id": "4eb3a276",
   "metadata": {},
   "outputs": [
    {
     "name": "stdout",
     "output_type": "stream",
     "text": [
      "Enter key number = 18\n",
      "Key is Not Present\n"
     ]
    }
   ],
   "source": [
    "d = {1:1 , 2:4 , 3:9 , 4:16 , 5:25 , 6:36 , 7:49 , 8:64 , 9:81 , 10:100}\n",
    "\n",
    "def key(n):\n",
    "    if n in d:\n",
    "        print(\"Key is Present\")\n",
    "    else:\n",
    "        print(\"Key is Not Present\")\n",
    "        \n",
    "num = int(input(\"Enter key number = \"))\n",
    "key(num)"
   ]
  },
  {
   "cell_type": "code",
   "execution_count": null,
   "id": "b28bc0ea",
   "metadata": {},
   "outputs": [],
   "source": []
  }
 ],
 "metadata": {
  "kernelspec": {
   "display_name": "Python 3 (ipykernel)",
   "language": "python",
   "name": "python3"
  },
  "language_info": {
   "codemirror_mode": {
    "name": "ipython",
    "version": 3
   },
   "file_extension": ".py",
   "mimetype": "text/x-python",
   "name": "python",
   "nbconvert_exporter": "python",
   "pygments_lexer": "ipython3",
   "version": "3.9.7"
  }
 },
 "nbformat": 4,
 "nbformat_minor": 5
}
