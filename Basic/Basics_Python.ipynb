{
 "cells": [
  {
   "cell_type": "code",
   "execution_count": 1,
   "id": "5946f8d2",
   "metadata": {},
   "outputs": [
    {
     "name": "stdout",
     "output_type": "stream",
     "text": [
      "Enter Name = tanmay\n"
     ]
    }
   ],
   "source": [
    "a =input(\"Enter Name = \")"
   ]
  },
  {
   "cell_type": "code",
   "execution_count": 2,
   "id": "6cdfdc5c",
   "metadata": {},
   "outputs": [
    {
     "name": "stdout",
     "output_type": "stream",
     "text": [
      "Enter Name = Tanmay\n",
      "Enter surname = Pednekar\n",
      "Tanmay Pednekar\n"
     ]
    }
   ],
   "source": [
    "a = input(\"Enter Name = \")\n",
    "b = input(\"Enter surname = \")\n",
    "\n",
    "print(a + \" \" + b)"
   ]
  },
  {
   "cell_type": "code",
   "execution_count": 3,
   "id": "dac9b561",
   "metadata": {},
   "outputs": [
    {
     "name": "stdout",
     "output_type": "stream",
     "text": [
      "Enter 1st number = 45\n",
      "Enter 2nd number = 15\n",
      "TanmayPednekar\n"
     ]
    }
   ],
   "source": [
    "n1 = int(input(\"Enter 1st number = \"))\n",
    "n2 = int(input(\"Enter 2nd number = \"))\n",
    "\n",
    "print(a+b)"
   ]
  },
  {
   "cell_type": "code",
   "execution_count": 4,
   "id": "9a2a903b",
   "metadata": {},
   "outputs": [
    {
     "name": "stdout",
     "output_type": "stream",
     "text": [
      "Enter 1st number = 45\n",
      "Enter 2nd number = 18\n",
      "63\n"
     ]
    }
   ],
   "source": [
    "n1 = int(input(\"Enter 1st number = \"))\n",
    "n2 = int(input(\"Enter 2nd number = \"))\n",
    "\n",
    "print(n1 + n2)"
   ]
  },
  {
   "cell_type": "code",
   "execution_count": 5,
   "id": "f74debc5",
   "metadata": {},
   "outputs": [
    {
     "name": "stdout",
     "output_type": "stream",
     "text": [
      "Enter 1st number = 4.5\n",
      "Enter 2nd number = 1.8\n",
      "6.3\n"
     ]
    }
   ],
   "source": [
    "n3 = float(input(\"Enter 1st number = \"))\n",
    "n4 = float(input(\"Enter 2nd number = \"))\n",
    "\n",
    "print(n3 + n4)"
   ]
  },
  {
   "cell_type": "code",
   "execution_count": 6,
   "id": "0920b8fa",
   "metadata": {},
   "outputs": [
    {
     "name": "stdout",
     "output_type": "stream",
     "text": [
      "Enter Name = tanmay\n",
      "Enter Name = 1798\n",
      "tanmay1798\n"
     ]
    }
   ],
   "source": [
    "c = input(\"Enter Name = \")\n",
    "d = input(\"Enter Name = \")\n",
    "\n",
    "print(c+d)"
   ]
  },
  {
   "cell_type": "code",
   "execution_count": 7,
   "id": "94e4d9ca",
   "metadata": {},
   "outputs": [
    {
     "name": "stdout",
     "output_type": "stream",
     "text": [
      "Enter Name = Tanmay\n",
      "Enter Name = 01\n",
      "Tanmay 01\n"
     ]
    }
   ],
   "source": [
    "c = input(\"Enter Name = \")\n",
    "d = input(\"Enter Name = \")\n",
    "\n",
    "print(c+\" \"+d)"
   ]
  },
  {
   "cell_type": "code",
   "execution_count": 8,
   "id": "307bcc2f",
   "metadata": {},
   "outputs": [
    {
     "ename": "NameError",
     "evalue": "name 'Tanmay' is not defined",
     "output_type": "error",
     "traceback": [
      "\u001b[1;31m---------------------------------------------------------------------------\u001b[0m",
      "\u001b[1;31mNameError\u001b[0m                                 Traceback (most recent call last)",
      "\u001b[1;32m~\\AppData\\Local\\Temp/ipykernel_12676/315243231.py\u001b[0m in \u001b[0;36m<module>\u001b[1;34m\u001b[0m\n\u001b[1;32m----> 1\u001b[1;33m \u001b[0ma1\u001b[0m \u001b[1;33m=\u001b[0m \u001b[0mTanmay\u001b[0m\u001b[1;33m\u001b[0m\u001b[1;33m\u001b[0m\u001b[0m\n\u001b[0m\u001b[0;32m      2\u001b[0m \u001b[0ma2\u001b[0m \u001b[1;33m=\u001b[0m \u001b[0mPednekar\u001b[0m\u001b[1;33m\u001b[0m\u001b[1;33m\u001b[0m\u001b[0m\n\u001b[0;32m      3\u001b[0m \u001b[1;33m\u001b[0m\u001b[0m\n\u001b[0;32m      4\u001b[0m \u001b[0mprint\u001b[0m\u001b[1;33m(\u001b[0m\u001b[0ma\u001b[0m\u001b[1;33m+\u001b[0m\u001b[0mb\u001b[0m\u001b[1;33m)\u001b[0m\u001b[1;33m\u001b[0m\u001b[1;33m\u001b[0m\u001b[0m\n\u001b[0;32m      5\u001b[0m \u001b[0mprint\u001b[0m\u001b[1;33m(\u001b[0m\u001b[0ma\u001b[0m \u001b[1;33m+\u001b[0m \u001b[1;34m\" \"\u001b[0m \u001b[1;33m+\u001b[0m \u001b[0mb\u001b[0m\u001b[1;33m)\u001b[0m\u001b[1;33m\u001b[0m\u001b[1;33m\u001b[0m\u001b[0m\n",
      "\u001b[1;31mNameError\u001b[0m: name 'Tanmay' is not defined"
     ]
    }
   ],
   "source": [
    "a1 = Tanmay\n",
    "a2 = Pednekar\n",
    "\n",
    "print(a+b)\n",
    "print(a + \" \" + b)"
   ]
  },
  {
   "cell_type": "code",
   "execution_count": 9,
   "id": "70ebf42d",
   "metadata": {},
   "outputs": [
    {
     "name": "stdout",
     "output_type": "stream",
     "text": [
      "TanmayPednekar\n",
      "Tanmay Pednekar\n"
     ]
    }
   ],
   "source": [
    "a1 = \"Tanmay\"\n",
    "a2 = \"Pednekar\"\n",
    "\n",
    "print(a+b)\n",
    "print(a + \" \" + b)"
   ]
  },
  {
   "cell_type": "code",
   "execution_count": 10,
   "id": "428d9ce1",
   "metadata": {},
   "outputs": [
    {
     "name": "stdout",
     "output_type": "stream",
     "text": [
      "10\n",
      "11.0\n"
     ]
    }
   ],
   "source": [
    "b1 = 4\n",
    "b2 = 6\n",
    "c1 = 4.6\n",
    "c2 = 6.4\n",
    "\n",
    "print (b1 + b2)\n",
    "print (c1 + c2)"
   ]
  },
  {
   "cell_type": "code",
   "execution_count": null,
   "id": "f528f2f9",
   "metadata": {},
   "outputs": [],
   "source": []
  },
  {
   "cell_type": "code",
   "execution_count": null,
   "id": "eb2e023e",
   "metadata": {},
   "outputs": [],
   "source": []
  },
  {
   "cell_type": "code",
   "execution_count": 15,
   "id": "7c838567",
   "metadata": {},
   "outputs": [
    {
     "name": "stdout",
     "output_type": "stream",
     "text": [
      "Enter Your Name = Tanmay\n",
      "Enter your ENGLISH marks = 45\n",
      "Enter your MATHS marks = 54\n",
      "Enter your PHYSICS marks = 45\n",
      "Enter your CHEMISTRY marks = 56\n",
      "Enter your BIOLOGY marks = 99\n",
      "Total marks out 500 is =  299\n"
     ]
    },
    {
     "ename": "TypeError",
     "evalue": "can only concatenate str (not \"float\") to str",
     "output_type": "error",
     "traceback": [
      "\u001b[1;31m---------------------------------------------------------------------------\u001b[0m",
      "\u001b[1;31mTypeError\u001b[0m                                 Traceback (most recent call last)",
      "\u001b[1;32m~\\AppData\\Local\\Temp/ipykernel_12676/4111263094.py\u001b[0m in \u001b[0;36m<module>\u001b[1;34m\u001b[0m\n\u001b[0;32m     11\u001b[0m \u001b[1;33m\u001b[0m\u001b[0m\n\u001b[0;32m     12\u001b[0m \u001b[0mpercentage\u001b[0m \u001b[1;33m=\u001b[0m \u001b[1;33m(\u001b[0m\u001b[0mtotalmarks\u001b[0m \u001b[1;33m/\u001b[0m \u001b[1;36m500\u001b[0m\u001b[1;33m)\u001b[0m \u001b[1;33m*\u001b[0m \u001b[1;36m100\u001b[0m\u001b[1;33m\u001b[0m\u001b[1;33m\u001b[0m\u001b[0m\n\u001b[1;32m---> 13\u001b[1;33m \u001b[0mprint\u001b[0m\u001b[1;33m(\u001b[0m\u001b[1;34m\"You got \"\u001b[0m \u001b[1;33m+\u001b[0m \u001b[0mpercentage\u001b[0m \u001b[1;33m+\u001b[0m \u001b[1;34m\"%\"\u001b[0m\u001b[1;33m)\u001b[0m\u001b[1;33m\u001b[0m\u001b[1;33m\u001b[0m\u001b[0m\n\u001b[0m",
      "\u001b[1;31mTypeError\u001b[0m: can only concatenate str (not \"float\") to str"
     ]
    }
   ],
   "source": [
    "name = input(\"Enter Your Name = \")\n",
    "\n",
    "eng = int(input(\"Enter your ENGLISH marks = \"))\n",
    "maths = int(input(\"Enter your MATHS marks = \"))\n",
    "phy = int(input(\"Enter your PHYSICS marks = \"))\n",
    "chem = int(input(\"Enter your CHEMISTRY marks = \"))\n",
    "bio = int(input(\"Enter your BIOLOGY marks = \"))\n",
    "\n",
    "totalmarks = eng + maths + phy + chem + bio\n",
    "print(\"Total marks out 500 is = \" , totalmarks)\n",
    "\n",
    "percentage = (totalmarks / 500) * 100\n",
    "print(\"You got \" + percentage + \"%\")"
   ]
  },
  {
   "cell_type": "code",
   "execution_count": 18,
   "id": "fde53b30",
   "metadata": {},
   "outputs": [
    {
     "name": "stdout",
     "output_type": "stream",
     "text": [
      "Enter Your Name = Tanmay\n",
      "Enter your ENGLISH marks = 99\n",
      "Enter your MATHS marks = 99\n",
      "Enter your PHYSICS marks = 98\n",
      "Enter your CHEMISTRY marks = 99\n",
      "Enter your BIOLOGY marks = 98\n",
      "Total marks out 500 is =  493\n",
      "Your percentage is =  98.6\n"
     ]
    }
   ],
   "source": [
    "name = input(\"Enter Your Name = \")\n",
    "\n",
    "eng = int(input(\"Enter your ENGLISH marks = \"))\n",
    "maths = int(input(\"Enter your MATHS marks = \"))\n",
    "phy = int(input(\"Enter your PHYSICS marks = \"))\n",
    "chem = int(input(\"Enter your CHEMISTRY marks = \"))\n",
    "bio = int(input(\"Enter your BIOLOGY marks = \"))\n",
    "\n",
    "totalmarks = eng + maths + phy + chem + bio\n",
    "print(\"Total marks out 500 is = \" , totalmarks)\n",
    "\n",
    "percentage = (totalmarks / 500) * 100\n",
    "print(\"Your percentage is = \" , percentage)"
   ]
  },
  {
   "cell_type": "code",
   "execution_count": 20,
   "id": "53e6ee4a",
   "metadata": {},
   "outputs": [
    {
     "name": "stdout",
     "output_type": "stream",
     "text": [
      "Enter Your Name = tp\n",
      "Enter your ENGLISH marks = 88\n",
      "Enter your MATHS marks = 78\n",
      "Enter your PHYSICS marks = 78\n",
      "Enter your CHEMISTRY marks = 78\n",
      "Enter your BIOLOGY marks = 78\n",
      "Total marks out 500 is =  400\n"
     ]
    },
    {
     "ename": "TypeError",
     "evalue": "unsupported operand type(s) for +: 'float' and 'str'",
     "output_type": "error",
     "traceback": [
      "\u001b[1;31m---------------------------------------------------------------------------\u001b[0m",
      "\u001b[1;31mTypeError\u001b[0m                                 Traceback (most recent call last)",
      "\u001b[1;32m~\\AppData\\Local\\Temp/ipykernel_12676/3565685084.py\u001b[0m in \u001b[0;36m<module>\u001b[1;34m\u001b[0m\n\u001b[0;32m     11\u001b[0m \u001b[1;33m\u001b[0m\u001b[0m\n\u001b[0;32m     12\u001b[0m \u001b[0mpercentage\u001b[0m \u001b[1;33m=\u001b[0m \u001b[1;33m(\u001b[0m\u001b[0mtotalmarks\u001b[0m \u001b[1;33m/\u001b[0m \u001b[1;36m500\u001b[0m\u001b[1;33m)\u001b[0m \u001b[1;33m*\u001b[0m \u001b[1;36m100\u001b[0m\u001b[1;33m\u001b[0m\u001b[1;33m\u001b[0m\u001b[0m\n\u001b[1;32m---> 13\u001b[1;33m \u001b[0mprint\u001b[0m\u001b[1;33m(\u001b[0m\u001b[1;34m\"You percentage is= \"\u001b[0m \u001b[1;33m,\u001b[0m \u001b[0mpercentage\u001b[0m \u001b[1;33m+\u001b[0m\u001b[1;34m\"%\"\u001b[0m\u001b[1;33m)\u001b[0m\u001b[1;33m\u001b[0m\u001b[1;33m\u001b[0m\u001b[0m\n\u001b[0m",
      "\u001b[1;31mTypeError\u001b[0m: unsupported operand type(s) for +: 'float' and 'str'"
     ]
    }
   ],
   "source": [
    "name = input(\"Enter Your Name = \")\n",
    "\n",
    "eng = int(input(\"Enter your ENGLISH marks = \"))\n",
    "maths = int(input(\"Enter your MATHS marks = \"))\n",
    "phy = int(input(\"Enter your PHYSICS marks = \"))\n",
    "chem = int(input(\"Enter your CHEMISTRY marks = \"))\n",
    "bio = int(input(\"Enter your BIOLOGY marks = \"))\n",
    "\n",
    "totalmarks = eng + maths + phy + chem + bio\n",
    "print(\"Total marks out 500 is = \" , totalmarks)\n",
    "\n",
    "percentage = (totalmarks / 500) * 100\n",
    "print(\"You percentage is= \" , percentage +\"%\")"
   ]
  },
  {
   "cell_type": "code",
   "execution_count": 21,
   "id": "d67f8d11",
   "metadata": {},
   "outputs": [
    {
     "name": "stdout",
     "output_type": "stream",
     "text": [
      "Enter Your Name = t\n",
      "Enter your ENGLISH marks = 88\n",
      "Enter your MATHS marks = 88\n",
      "Enter your PHYSICS marks = 88\n",
      "Enter your CHEMISTRY marks = 88\n",
      "Enter your BIOLOGY marks = 88\n",
      "Total marks out of 500 is =  440\n",
      "tYour percentage is =  88.0\n"
     ]
    }
   ],
   "source": [
    "name = input(\"Enter Your Name = \")\n",
    "\n",
    "eng = int(input(\"Enter your ENGLISH marks = \"))\n",
    "maths = int(input(\"Enter your MATHS marks = \"))\n",
    "phy = int(input(\"Enter your PHYSICS marks = \"))\n",
    "chem = int(input(\"Enter your CHEMISTRY marks = \"))\n",
    "bio = int(input(\"Enter your BIOLOGY marks = \"))\n",
    "\n",
    "totalmarks = eng + maths + phy + chem + bio\n",
    "print(\"Total marks out of 500 is = \" , totalmarks)\n",
    "\n",
    "percentage = (totalmarks / 500) * 100\n",
    "print(name + \"Your percentage is = \" , percentage)"
   ]
  },
  {
   "cell_type": "code",
   "execution_count": 22,
   "id": "82feb3f9",
   "metadata": {},
   "outputs": [
    {
     "name": "stdout",
     "output_type": "stream",
     "text": [
      "Enter Your Name = Tanmay\n",
      "Enter your ENGLISH marks = 99\n",
      "Enter your MATHS marks = 98\n",
      "Enter your PHYSICS marks = 99\n",
      "Enter your CHEMISTRY marks = 99\n",
      "Enter your BIOLOGY marks = 99\n",
      "Total marks out of 500 is =  494\n",
      "Tanmay Your percentage is =  98.8\n"
     ]
    }
   ],
   "source": [
    "name = input(\"Enter Your Name = \")\n",
    "\n",
    "eng = int(input(\"Enter your ENGLISH marks = \"))\n",
    "maths = int(input(\"Enter your MATHS marks = \"))\n",
    "phy = int(input(\"Enter your PHYSICS marks = \"))\n",
    "chem = int(input(\"Enter your CHEMISTRY marks = \"))\n",
    "bio = int(input(\"Enter your BIOLOGY marks = \"))\n",
    "\n",
    "totalmarks = eng + maths + phy + chem + bio\n",
    "print(\"Total marks out of 500 is = \" , totalmarks)\n",
    "\n",
    "percentage = (totalmarks / 500) * 100\n",
    "print(name +\" \" +\"Your percentage is = \" , percentage)"
   ]
  },
  {
   "cell_type": "code",
   "execution_count": null,
   "id": "3a2d0ebd",
   "metadata": {},
   "outputs": [],
   "source": []
  }
 ],
 "metadata": {
  "kernelspec": {
   "display_name": "Python 3 (ipykernel)",
   "language": "python",
   "name": "python3"
  },
  "language_info": {
   "codemirror_mode": {
    "name": "ipython",
    "version": 3
   },
   "file_extension": ".py",
   "mimetype": "text/x-python",
   "name": "python",
   "nbconvert_exporter": "python",
   "pygments_lexer": "ipython3",
   "version": "3.9.7"
  }
 },
 "nbformat": 4,
 "nbformat_minor": 5
}
