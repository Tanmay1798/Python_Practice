{
 "cells": [
  {
   "cell_type": "code",
   "execution_count": 1,
   "id": "78b48045",
   "metadata": {},
   "outputs": [
    {
     "name": "stdout",
     "output_type": "stream",
     "text": [
      "To Find Area Of Rectangle\n",
      "Enter length = 5\n",
      "Enter Breadth = 4\n",
      "Area of rectangle is  20\n"
     ]
    }
   ],
   "source": [
    "# area of rectangle\n",
    "print(\"To Find Area Of Rectangle\")\n",
    "length = int(input(\"Enter length = \"))\n",
    "breadth = int(input(\"Enter Breadth = \"))\n",
    "\n",
    "#formula  area = length * breadth\n",
    "\n",
    "area = length * breadth\n",
    "print(\"Area of rectangle is \",area)"
   ]
  },
  {
   "cell_type": "code",
   "execution_count": 2,
   "id": "45bf1c12",
   "metadata": {},
   "outputs": [
    {
     "name": "stdout",
     "output_type": "stream",
     "text": [
      "To Find Area Of Rectangle\n",
      "Enter length = 4.5\n",
      "Enter Breadth = 1.2\n",
      "Area of rectangle is  5.3999999999999995\n"
     ]
    }
   ],
   "source": [
    "# area of rectangle\n",
    "print(\"To Find Area Of Rectangle\")\n",
    "length = float(input(\"Enter length = \"))\n",
    "breadth = float(input(\"Enter Breadth = \"))\n",
    "\n",
    "#formula  area = length * breadth\n",
    "\n",
    "area = length * breadth\n",
    "print(\"Area of rectangle is \",area)"
   ]
  },
  {
   "cell_type": "code",
   "execution_count": 4,
   "id": "2f0db028",
   "metadata": {},
   "outputs": [
    {
     "name": "stdout",
     "output_type": "stream",
     "text": [
      "To Find Area Of Square\n",
      "Enter the side = 4\n",
      "Area of square is  16.00\n"
     ]
    }
   ],
   "source": [
    "# area of square\n",
    "print(\"To Find Area Of Square\")\n",
    "side = float(input(\"Enter the side = \"))\n",
    "\n",
    "#formula area sq. = side * side\n",
    "\n",
    "areasq = side * side\n",
    "print(\"Area of square is \", \"%.2f\" %areasq)"
   ]
  },
  {
   "cell_type": "code",
   "execution_count": 9,
   "id": "27d09a40",
   "metadata": {},
   "outputs": [
    {
     "name": "stdout",
     "output_type": "stream",
     "text": [
      "To Find perimeter Of Rectangle\n",
      "Enter length = 4.2\n",
      "Enter Breadth = 5\n",
      "Perimeter of rectangle is  18.40\n"
     ]
    }
   ],
   "source": [
    "# perimeter of rectangle\n",
    "print(\"To Find perimeter Of Rectangle\")\n",
    "length = float(input(\"Enter length = \"))\n",
    "breadth = float(input(\"Enter Breadth = \"))\n",
    "\n",
    "#formula  perimeter = 2(length + breadth)\n",
    "\n",
    "peri_rectangle = 2 * (length + breadth)\n",
    "print(\"Perimeter of rectangle is \", \"%.2f\" %peri_rectangle)"
   ]
  },
  {
   "cell_type": "code",
   "execution_count": 8,
   "id": "286b7154",
   "metadata": {},
   "outputs": [
    {
     "name": "stdout",
     "output_type": "stream",
     "text": [
      "To Find perimeter of square\n",
      "Enter the side = 4\n",
      "Perimeter of Square is  16.00\n"
     ]
    }
   ],
   "source": [
    "# perimeter of square\n",
    "print(\"To Find perimeter of square\")\n",
    "s1 = float(input(\"Enter the side = \"))\n",
    "\n",
    "\n",
    "#formula  perimeter square = 4 * side\n",
    "\n",
    "peri_square = 4 * s1\n",
    "print(\"Perimeter of Square is \",\"%.2f\" %peri_square)"
   ]
  },
  {
   "cell_type": "code",
   "execution_count": 19,
   "id": "80d3d362",
   "metadata": {},
   "outputs": [
    {
     "name": "stdout",
     "output_type": "stream",
     "text": [
      "To find Area of circle\n",
      "Enter the radius = 2.5\n",
      "Area of Circle is  19.64\n"
     ]
    }
   ],
   "source": [
    "#area of circle\n",
    "print(\"To find Area of circle\")\n",
    "radius = float(input(\"Enter the radius = \"))\n",
    "#formula area = (22/7)*radius * radius\n",
    "a_circle = (22/7) * radius * radius\n",
    "print(\"Area of Circle is \",\"%.2f\" %a_circle)"
   ]
  },
  {
   "cell_type": "code",
   "execution_count": 20,
   "id": "972723e8",
   "metadata": {},
   "outputs": [
    {
     "name": "stdout",
     "output_type": "stream",
     "text": [
      "To find Circumference of circle\n",
      "Enter the radius = 2.5\n",
      "Circumference of circle is =  15.71\n"
     ]
    }
   ],
   "source": [
    "#Circumference of circle\n",
    "print(\"To find Circumference of circle\")\n",
    "radius = float(input(\"Enter the radius = \"))\n",
    "#formula c = 2 * 22/7 * radius\n",
    "c = 2 * (22/7) * radius \n",
    "print(\"Circumference of circle is = \",\"%.2f\" %c)"
   ]
  },
  {
   "cell_type": "code",
   "execution_count": 21,
   "id": "78a573a8",
   "metadata": {},
   "outputs": [
    {
     "name": "stdout",
     "output_type": "stream",
     "text": [
      "To find volume of cube\n",
      "Enter side = 4\n",
      "Volume of cube is =  64.00\n"
     ]
    }
   ],
   "source": [
    "#Volume of cube\n",
    "print(\"To find volume of cube\")\n",
    "s1 = float(input(\"Enter side = \"))\n",
    "\n",
    "#formula volume of cube = side * side * side   OR  Side**3\n",
    "\n",
    "v_cube = s1 ** 3\n",
    "print(\"Volume of cube is = \" ,\"%.2f\" %v_cube)"
   ]
  },
  {
   "cell_type": "code",
   "execution_count": 24,
   "id": "ac0e4864",
   "metadata": {},
   "outputs": [
    {
     "name": "stdout",
     "output_type": "stream",
     "text": [
      "To find volume of cuboid\n",
      "Enter length = 4\n",
      "Enter width = 5\n",
      "Enter height = 6\n",
      "Volume of cuboid is =  120.00\n"
     ]
    }
   ],
   "source": [
    "#Volume of cuboid\n",
    "print(\"To find volume of cuboid\")\n",
    "l1 = float(input(\"Enter length = \"))\n",
    "w1 = float(input(\"Enter width = \"))\n",
    "h1 = float(input(\"Enter height = \"))\n",
    "\n",
    "#formula volume of cuboid = length * width * height\n",
    "v_cuboid = l1 * w1 * h1\n",
    "print(\"Volume of cuboid is = \" ,\"%.2f\" %v_cuboid)"
   ]
  },
  {
   "cell_type": "code",
   "execution_count": 23,
   "id": "d73e7d6a",
   "metadata": {},
   "outputs": [
    {
     "name": "stdout",
     "output_type": "stream",
     "text": [
      "To find Total surface area of cube\n",
      "Enter side = 4\n",
      "Total surface area of cube is =  96.00\n"
     ]
    }
   ],
   "source": [
    "# Total surface area of cube\n",
    "print(\"To find Total surface area of cube\")\n",
    "s2 = float(input(\"Enter side = \"))\n",
    "\n",
    "#formula Total surface area of cube = 6 * s2 * s2\n",
    "ts_cube = 6 * s2 * s2\n",
    "print(\"Total surface area of cube is = \" ,\"%.2f\" %ts_cube)"
   ]
  },
  {
   "cell_type": "code",
   "execution_count": 26,
   "id": "f84fa1e2",
   "metadata": {},
   "outputs": [
    {
     "name": "stdout",
     "output_type": "stream",
     "text": [
      "To find Total surface area of cuboid\n",
      "Enter length = 1\n",
      "Enter width = 2\n",
      "Enter height = 3\n",
      "Total surface area of cuboid is =  22.00\n"
     ]
    }
   ],
   "source": [
    "# Total surface area of cuboid\n",
    "print(\"To find Total surface area of cuboid\")\n",
    "l = float(input(\"Enter length = \"))\n",
    "w = float(input(\"Enter width = \"))\n",
    "h = float(input(\"Enter height = \"))\n",
    "\n",
    "# formula Total surface area of cuboid = 2 * [lw + wh + hl]\n",
    "\n",
    "ts_cuboid = 2 * ((l * w) + (w * h) + (h * l))\n",
    "print(\"Total surface area of cuboid is = \" ,\"%.2f\" %ts_cuboid)"
   ]
  },
  {
   "cell_type": "code",
   "execution_count": null,
   "id": "bb590d8f",
   "metadata": {},
   "outputs": [],
   "source": []
  }
 ],
 "metadata": {
  "kernelspec": {
   "display_name": "Python 3 (ipykernel)",
   "language": "python",
   "name": "python3"
  },
  "language_info": {
   "codemirror_mode": {
    "name": "ipython",
    "version": 3
   },
   "file_extension": ".py",
   "mimetype": "text/x-python",
   "name": "python",
   "nbconvert_exporter": "python",
   "pygments_lexer": "ipython3",
   "version": "3.9.7"
  }
 },
 "nbformat": 4,
 "nbformat_minor": 5
}
