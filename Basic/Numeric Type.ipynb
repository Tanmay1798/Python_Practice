{
 "cells": [
  {
   "cell_type": "code",
   "execution_count": 1,
   "id": "ad215190",
   "metadata": {},
   "outputs": [],
   "source": [
    "\n",
    "# Numeric Type\n"
   ]
  },
  {
   "cell_type": "code",
   "execution_count": 2,
   "id": "d9688ba1",
   "metadata": {},
   "outputs": [
    {
     "name": "stdout",
     "output_type": "stream",
     "text": [
      "Number is  25\n"
     ]
    }
   ],
   "source": [
    "number = 25\n",
    "print(\"Number is \",number)"
   ]
  },
  {
   "cell_type": "code",
   "execution_count": 3,
   "id": "99fe4b52",
   "metadata": {},
   "outputs": [
    {
     "name": "stdout",
     "output_type": "stream",
     "text": [
      "<class 'int'>\n"
     ]
    }
   ],
   "source": [
    "print(type(number))"
   ]
  },
  {
   "cell_type": "code",
   "execution_count": 4,
   "id": "60a6619d",
   "metadata": {},
   "outputs": [],
   "source": [
    "x = 99"
   ]
  },
  {
   "cell_type": "code",
   "execution_count": 5,
   "id": "06b36b96",
   "metadata": {},
   "outputs": [],
   "source": [
    "y = 99.99"
   ]
  },
  {
   "cell_type": "code",
   "execution_count": 6,
   "id": "e132b15f",
   "metadata": {},
   "outputs": [
    {
     "name": "stdout",
     "output_type": "stream",
     "text": [
      "<class 'int'>\n"
     ]
    }
   ],
   "source": [
    "print(type(x))"
   ]
  },
  {
   "cell_type": "code",
   "execution_count": 7,
   "id": "ac5857e7",
   "metadata": {},
   "outputs": [
    {
     "name": "stdout",
     "output_type": "stream",
     "text": [
      "<class 'float'>\n"
     ]
    }
   ],
   "source": [
    "print(type(y))"
   ]
  },
  {
   "cell_type": "code",
   "execution_count": 8,
   "id": "802f8a96",
   "metadata": {},
   "outputs": [],
   "source": [
    "a = 1 + 5j"
   ]
  },
  {
   "cell_type": "code",
   "execution_count": 9,
   "id": "b6df8328",
   "metadata": {},
   "outputs": [
    {
     "name": "stdout",
     "output_type": "stream",
     "text": [
      "<class 'complex'>\n"
     ]
    }
   ],
   "source": [
    "print(type(a))"
   ]
  },
  {
   "cell_type": "code",
   "execution_count": 10,
   "id": "6853383c",
   "metadata": {},
   "outputs": [
    {
     "data": {
      "text/plain": [
       "(1-2j)"
      ]
     },
     "execution_count": 10,
     "metadata": {},
     "output_type": "execute_result"
    }
   ],
   "source": [
    "complex(1,-2)"
   ]
  },
  {
   "cell_type": "code",
   "execution_count": 11,
   "id": "8d03b7f2",
   "metadata": {},
   "outputs": [
    {
     "ename": "SyntaxError",
     "evalue": "invalid syntax (Temp/ipykernel_9880/1833618829.py, line 1)",
     "output_type": "error",
     "traceback": [
      "\u001b[1;36m  File \u001b[1;32m\"C:\\Users\\User\\AppData\\Local\\Temp/ipykernel_9880/1833618829.py\"\u001b[1;36m, line \u001b[1;32m1\u001b[0m\n\u001b[1;33m    complex(,-2)\u001b[0m\n\u001b[1;37m            ^\u001b[0m\n\u001b[1;31mSyntaxError\u001b[0m\u001b[1;31m:\u001b[0m invalid syntax\n"
     ]
    }
   ],
   "source": [
    "complex(,-2)"
   ]
  },
  {
   "cell_type": "code",
   "execution_count": 12,
   "id": "aef7f130",
   "metadata": {},
   "outputs": [
    {
     "data": {
      "text/plain": [
       "-7j"
      ]
     },
     "execution_count": 12,
     "metadata": {},
     "output_type": "execute_result"
    }
   ],
   "source": [
    "complex(0,-7)"
   ]
  },
  {
   "cell_type": "code",
   "execution_count": 13,
   "id": "4f7025b7",
   "metadata": {},
   "outputs": [
    {
     "data": {
      "text/plain": [
       "(-9+0j)"
      ]
     },
     "execution_count": 13,
     "metadata": {},
     "output_type": "execute_result"
    }
   ],
   "source": [
    "complex(-9)"
   ]
  },
  {
   "cell_type": "code",
   "execution_count": 14,
   "id": "1b532400",
   "metadata": {},
   "outputs": [
    {
     "name": "stdout",
     "output_type": "stream",
     "text": [
      "<class 'int'>\n",
      "<class 'float'>\n",
      "<class 'complex'>\n"
     ]
    }
   ],
   "source": [
    "x1 = 1\n",
    "y1 = 1.1\n",
    "z1 = 1 + 1j\n",
    "\n",
    "print(type(x1))\n",
    "print(type(y1))\n",
    "print(type(z1)) "
   ]
  },
  {
   "cell_type": "code",
   "execution_count": 15,
   "id": "01cb7bb7",
   "metadata": {},
   "outputs": [
    {
     "ename": "TypeError",
     "evalue": "can't convert complex to int",
     "output_type": "error",
     "traceback": [
      "\u001b[1;31m---------------------------------------------------------------------------\u001b[0m",
      "\u001b[1;31mTypeError\u001b[0m                                 Traceback (most recent call last)",
      "\u001b[1;32m~\\AppData\\Local\\Temp/ipykernel_9880/3512149257.py\u001b[0m in \u001b[0;36m<module>\u001b[1;34m\u001b[0m\n\u001b[0;32m      1\u001b[0m \u001b[0mx2\u001b[0m \u001b[1;33m=\u001b[0m \u001b[0mfloat\u001b[0m\u001b[1;33m(\u001b[0m\u001b[0mx1\u001b[0m\u001b[1;33m)\u001b[0m\u001b[1;33m\u001b[0m\u001b[1;33m\u001b[0m\u001b[0m\n\u001b[0;32m      2\u001b[0m \u001b[0my2\u001b[0m \u001b[1;33m=\u001b[0m \u001b[0mint\u001b[0m\u001b[1;33m(\u001b[0m\u001b[0my1\u001b[0m\u001b[1;33m)\u001b[0m\u001b[1;33m\u001b[0m\u001b[1;33m\u001b[0m\u001b[0m\n\u001b[1;32m----> 3\u001b[1;33m \u001b[0mz2\u001b[0m \u001b[1;33m=\u001b[0m \u001b[0mint\u001b[0m\u001b[1;33m(\u001b[0m\u001b[0mz1\u001b[0m\u001b[1;33m)\u001b[0m\u001b[1;33m\u001b[0m\u001b[1;33m\u001b[0m\u001b[0m\n\u001b[0m\u001b[0;32m      4\u001b[0m \u001b[0mx3\u001b[0m \u001b[1;33m=\u001b[0m \u001b[0mcomplex\u001b[0m\u001b[1;33m(\u001b[0m\u001b[0my\u001b[0m\u001b[1;33m)\u001b[0m\u001b[1;33m\u001b[0m\u001b[1;33m\u001b[0m\u001b[0m\n\u001b[0;32m      5\u001b[0m \u001b[1;33m\u001b[0m\u001b[0m\n",
      "\u001b[1;31mTypeError\u001b[0m: can't convert complex to int"
     ]
    }
   ],
   "source": [
    "x2 = float(x1)\n",
    "y2 = int(y1)\n",
    "z2 = int(z1)\n",
    "x3 = complex(y)\n",
    "\n",
    "print(x2)\n",
    "print(y2)\n",
    "print(z2)\n",
    "print(x3)"
   ]
  },
  {
   "cell_type": "code",
   "execution_count": 16,
   "id": "86a1fe7e",
   "metadata": {},
   "outputs": [
    {
     "name": "stdout",
     "output_type": "stream",
     "text": [
      "1.0\n",
      "1\n"
     ]
    }
   ],
   "source": [
    "x2 = float(x1)\n",
    "y2 = int(y1)\n",
    "\n",
    "print(x2)\n",
    "print(y2)"
   ]
  },
  {
   "cell_type": "code",
   "execution_count": 17,
   "id": "f2f2adc6",
   "metadata": {},
   "outputs": [
    {
     "name": "stdout",
     "output_type": "stream",
     "text": [
      "0b101\n"
     ]
    }
   ],
   "source": [
    "a = 5\n",
    "print(bin(a))"
   ]
  },
  {
   "cell_type": "code",
   "execution_count": 18,
   "id": "8e9ec66a",
   "metadata": {},
   "outputs": [
    {
     "name": "stdout",
     "output_type": "stream",
     "text": [
      "The Binary number of 7 is =  0b111\n",
      "The Binary number of 77 is =  0b1001101\n",
      "The Binary number of 777 is =  0b1100001001\n"
     ]
    }
   ],
   "source": [
    "l = 7\n",
    "m = 77\n",
    "n = 777\n",
    "\n",
    "print(\"The Binary number of 7 is = \",bin(l))\n",
    "print(\"The Binary number of 77 is = \",bin(m))\n",
    "print(\"The Binary number of 777 is = \",bin(n))"
   ]
  },
  {
   "cell_type": "code",
   "execution_count": 19,
   "id": "9589a9a5",
   "metadata": {},
   "outputs": [
    {
     "name": "stdout",
     "output_type": "stream",
     "text": [
      "The Hexadecimal number of 7 is =  0x7\n",
      "The hexadecimal number of 77 is =  0x4d\n",
      "The Hexadecimal number of 777 is =  0x309\n"
     ]
    }
   ],
   "source": [
    "print(\"The Hexadecimal number of 7 is = \",hex(l))\n",
    "print(\"The hexadecimal number of 77 is = \",hex(m))\n",
    "print(\"The Hexadecimal number of 777 is = \",hex(n))"
   ]
  },
  {
   "cell_type": "code",
   "execution_count": 20,
   "id": "96a87025",
   "metadata": {},
   "outputs": [
    {
     "name": "stdout",
     "output_type": "stream",
     "text": [
      "The Octal number of 7 is =  0o7\n",
      "The Octal number of 77 is =  0o115\n",
      "The Octal number of 777 is =  0o1411\n"
     ]
    }
   ],
   "source": [
    "print(\"The Octal number of 7 is = \",oct(l))\n",
    "print(\"The Octal number of 77 is = \",oct(m))\n",
    "print(\"The Octal number of 777 is = \",oct(n))"
   ]
  },
  {
   "cell_type": "code",
   "execution_count": 21,
   "id": "b6cf2e45",
   "metadata": {},
   "outputs": [
    {
     "data": {
      "text/plain": [
       "12"
      ]
     },
     "execution_count": 21,
     "metadata": {},
     "output_type": "execute_result"
    }
   ],
   "source": [
    "int(12.5)"
   ]
  },
  {
   "cell_type": "code",
   "execution_count": 22,
   "id": "ba625900",
   "metadata": {},
   "outputs": [
    {
     "data": {
      "text/plain": [
       "12"
      ]
     },
     "execution_count": 22,
     "metadata": {},
     "output_type": "execute_result"
    }
   ],
   "source": [
    "int(12)"
   ]
  },
  {
   "cell_type": "code",
   "execution_count": 23,
   "id": "c9422ef1",
   "metadata": {},
   "outputs": [
    {
     "data": {
      "text/plain": [
       "12"
      ]
     },
     "execution_count": 23,
     "metadata": {},
     "output_type": "execute_result"
    }
   ],
   "source": [
    "int(\"12\")"
   ]
  },
  {
   "cell_type": "code",
   "execution_count": 24,
   "id": "d2282ed0",
   "metadata": {},
   "outputs": [
    {
     "ename": "ValueError",
     "evalue": "invalid literal for int() with base 10: '12.12'",
     "output_type": "error",
     "traceback": [
      "\u001b[1;31m---------------------------------------------------------------------------\u001b[0m",
      "\u001b[1;31mValueError\u001b[0m                                Traceback (most recent call last)",
      "\u001b[1;32m~\\AppData\\Local\\Temp/ipykernel_9880/1474158602.py\u001b[0m in \u001b[0;36m<module>\u001b[1;34m\u001b[0m\n\u001b[1;32m----> 1\u001b[1;33m \u001b[0mint\u001b[0m\u001b[1;33m(\u001b[0m\u001b[1;34m\"12.12\"\u001b[0m\u001b[1;33m)\u001b[0m\u001b[1;33m\u001b[0m\u001b[1;33m\u001b[0m\u001b[0m\n\u001b[0m",
      "\u001b[1;31mValueError\u001b[0m: invalid literal for int() with base 10: '12.12'"
     ]
    }
   ],
   "source": [
    "int(\"12.12\")"
   ]
  },
  {
   "cell_type": "code",
   "execution_count": 25,
   "id": "0d05084f",
   "metadata": {},
   "outputs": [
    {
     "ename": "ValueError",
     "evalue": "invalid literal for int() with base 10: 'Ten'",
     "output_type": "error",
     "traceback": [
      "\u001b[1;31m---------------------------------------------------------------------------\u001b[0m",
      "\u001b[1;31mValueError\u001b[0m                                Traceback (most recent call last)",
      "\u001b[1;32m~\\AppData\\Local\\Temp/ipykernel_9880/360983921.py\u001b[0m in \u001b[0;36m<module>\u001b[1;34m\u001b[0m\n\u001b[1;32m----> 1\u001b[1;33m \u001b[0mint\u001b[0m\u001b[1;33m(\u001b[0m\u001b[1;34m\"Ten\"\u001b[0m\u001b[1;33m)\u001b[0m\u001b[1;33m\u001b[0m\u001b[1;33m\u001b[0m\u001b[0m\n\u001b[0m",
      "\u001b[1;31mValueError\u001b[0m: invalid literal for int() with base 10: 'Ten'"
     ]
    }
   ],
   "source": [
    "int(\"Ten\")"
   ]
  },
  {
   "cell_type": "code",
   "execution_count": null,
   "id": "8d4eeda9",
   "metadata": {},
   "outputs": [],
   "source": []
  }
 ],
 "metadata": {
  "kernelspec": {
   "display_name": "Python 3 (ipykernel)",
   "language": "python",
   "name": "python3"
  },
  "language_info": {
   "codemirror_mode": {
    "name": "ipython",
    "version": 3
   },
   "file_extension": ".py",
   "mimetype": "text/x-python",
   "name": "python",
   "nbconvert_exporter": "python",
   "pygments_lexer": "ipython3",
   "version": "3.9.7"
  }
 },
 "nbformat": 4,
 "nbformat_minor": 5
}
