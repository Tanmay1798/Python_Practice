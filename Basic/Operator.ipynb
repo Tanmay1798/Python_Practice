{
 "cells": [
  {
   "cell_type": "code",
   "execution_count": 2,
   "id": "64a10057",
   "metadata": {},
   "outputs": [
    {
     "data": {
      "text/plain": [
       "'0b1011101'"
      ]
     },
     "execution_count": 2,
     "metadata": {},
     "output_type": "execute_result"
    }
   ],
   "source": [
    "bin(93)"
   ]
  },
  {
   "cell_type": "code",
   "execution_count": 5,
   "id": "659b76e2",
   "metadata": {},
   "outputs": [
    {
     "name": "stdout",
     "output_type": "stream",
     "text": [
      "Addition =  63\n",
      "Addition =  25\n",
      "Subtraction =  27\n",
      "Subtraction =  -27\n",
      "Multiplication =  810\n",
      "Division =  2.5\n",
      "Division =  0.4\n",
      "Floor Div =  2\n",
      "Floor Div =  0\n",
      "modulus=  9\n",
      "modulus =  18\n",
      "exponent =  25\n"
     ]
    }
   ],
   "source": [
    "a = 45 \n",
    "b = 18\n",
    "c = 5\n",
    "d = 2\n",
    "\n",
    "print(\"Addition = \" , a+b)\n",
    "print(\"Addition = \" , d+c+b)\n",
    "print(\"Subtraction = \" , a-b)\n",
    "print(\"Subtraction = \" , b-a)\n",
    "print(\"Multiplication = \" , a*b)\n",
    "print(\"Division = \" , a/b)\n",
    "print(\"Division = \" , b/a)\n",
    "print(\"Floor Div = \" , a//b)\n",
    "print(\"Floor Div = \" , b//a)\n",
    "print(\"modulus= \" , a%b)\n",
    "print(\"modulus = \" , b%a)\n",
    "print(\"exponent = \" , c**d)"
   ]
  },
  {
   "cell_type": "code",
   "execution_count": 7,
   "id": "13317d62",
   "metadata": {},
   "outputs": [
    {
     "name": "stdout",
     "output_type": "stream",
     "text": [
      "True\n",
      "True\n",
      "True\n",
      "False\n",
      "False\n",
      "False\n",
      "True\n",
      "True\n",
      "True\n"
     ]
    }
   ],
   "source": [
    "a = 45\n",
    "b = 18\n",
    "c = 10\n",
    "d = 12\n",
    "\n",
    "print (a>b)\n",
    "print(b>c)\n",
    "print(a>b>c)\n",
    "print(a<b)\n",
    "print(b<c)\n",
    "print(a==c)\n",
    "print(a!=d)\n",
    "print(b>=c)\n",
    "print(c<=a)"
   ]
  },
  {
   "cell_type": "code",
   "execution_count": 8,
   "id": "4f08d312",
   "metadata": {},
   "outputs": [
    {
     "name": "stdout",
     "output_type": "stream",
     "text": [
      "False\n"
     ]
    }
   ],
   "source": [
    "a = 45\n",
    "b = 17\n",
    "c = 10\n",
    "\n",
    "print(b>c>a)"
   ]
  },
  {
   "cell_type": "code",
   "execution_count": 9,
   "id": "78a3a309",
   "metadata": {},
   "outputs": [
    {
     "name": "stdout",
     "output_type": "stream",
     "text": [
      "False\n",
      "True\n",
      "False\n",
      "False\n"
     ]
    }
   ],
   "source": [
    "a = 45\n",
    "b = 17\n",
    "c = 10\n",
    "d = 10\n",
    "\n",
    "print(b<c<a)\n",
    "print(b>c<a)\n",
    "print(b<c>a)\n",
    "print(b<c>d)"
   ]
  },
  {
   "cell_type": "code",
   "execution_count": 10,
   "id": "c8b82519",
   "metadata": {},
   "outputs": [
    {
     "name": "stdout",
     "output_type": "stream",
     "text": [
      "True\n"
     ]
    }
   ],
   "source": [
    "a = 45\n",
    "b = 17\n",
    "c = 10\n",
    "\n",
    "print(c<b<a)"
   ]
  },
  {
   "cell_type": "code",
   "execution_count": 12,
   "id": "9a5973dc",
   "metadata": {},
   "outputs": [
    {
     "name": "stdout",
     "output_type": "stream",
     "text": [
      "False\n",
      "True\n",
      "True\n"
     ]
    }
   ],
   "source": [
    "a = 45\n",
    "b = 17\n",
    "c = 10\n",
    "d = 10\n",
    "\n",
    "print(b <= c >= d)\n",
    "print(b >= c >= d)\n",
    "print(b >= c <= a)"
   ]
  },
  {
   "cell_type": "code",
   "execution_count": 13,
   "id": "4dc7b073",
   "metadata": {},
   "outputs": [
    {
     "name": "stdout",
     "output_type": "stream",
     "text": [
      "False\n"
     ]
    }
   ],
   "source": [
    "a = 45\n",
    "b = 17\n",
    "c = 10\n",
    "d = 10\n",
    "\n",
    "print(b <= c & c >= d)"
   ]
  },
  {
   "cell_type": "code",
   "execution_count": 14,
   "id": "ae68e954",
   "metadata": {},
   "outputs": [
    {
     "name": "stdout",
     "output_type": "stream",
     "text": [
      "True\n"
     ]
    }
   ],
   "source": [
    "a = 45\n",
    "b = 17\n",
    "c = 10\n",
    "d = 10\n",
    "\n",
    "print(b <= c or c >= d)"
   ]
  },
  {
   "cell_type": "code",
   "execution_count": 15,
   "id": "510fdc34",
   "metadata": {},
   "outputs": [
    {
     "name": "stdout",
     "output_type": "stream",
     "text": [
      "False\n"
     ]
    }
   ],
   "source": [
    "a = 45\n",
    "b = 17\n",
    "c = 10\n",
    "d = 10\n",
    "\n",
    "print(b <= c and c >= d)"
   ]
  },
  {
   "cell_type": "code",
   "execution_count": 16,
   "id": "548fcf33",
   "metadata": {},
   "outputs": [
    {
     "name": "stdout",
     "output_type": "stream",
     "text": [
      "0\n"
     ]
    }
   ],
   "source": [
    "a = 45\n",
    "b = 17\n",
    "c = 10\n",
    "d = 10\n",
    "\n",
    "print(b & c)"
   ]
  },
  {
   "cell_type": "code",
   "execution_count": 18,
   "id": "0c5efc5c",
   "metadata": {},
   "outputs": [
    {
     "name": "stdout",
     "output_type": "stream",
     "text": [
      "0\n",
      "10\n"
     ]
    }
   ],
   "source": [
    "a = 45\n",
    "b = 17\n",
    "c = 10\n",
    "d = 10\n",
    "\n",
    "print(b & c)\n",
    "print(b and c)"
   ]
  },
  {
   "cell_type": "code",
   "execution_count": 19,
   "id": "49997484",
   "metadata": {},
   "outputs": [
    {
     "name": "stdout",
     "output_type": "stream",
     "text": [
      "False\n"
     ]
    }
   ],
   "source": [
    "a = 5\n",
    "b = 2\n",
    "\n",
    "print(a<b  and  b<a)"
   ]
  },
  {
   "cell_type": "code",
   "execution_count": 20,
   "id": "274744bb",
   "metadata": {},
   "outputs": [
    {
     "name": "stdout",
     "output_type": "stream",
     "text": [
      "False\n",
      "False\n"
     ]
    }
   ],
   "source": [
    "a = 5\n",
    "b = 2\n",
    "\n",
    "print(a<b  and  b>a)\n",
    "print(a<b  or  b>a)"
   ]
  },
  {
   "cell_type": "code",
   "execution_count": 21,
   "id": "5a1eee94",
   "metadata": {},
   "outputs": [
    {
     "name": "stdout",
     "output_type": "stream",
     "text": [
      "True\n",
      "False\n",
      "False\n",
      "False\n"
     ]
    }
   ],
   "source": [
    "a = 5\n",
    "b = 2\n",
    "\n",
    "print(a>b  and  b<a)\n",
    "print(a<b  and  b<a)\n",
    "print(a>b  and  b>a)\n",
    "print(a<b  and  b>a)"
   ]
  },
  {
   "cell_type": "code",
   "execution_count": 22,
   "id": "41178c9c",
   "metadata": {},
   "outputs": [
    {
     "name": "stdout",
     "output_type": "stream",
     "text": [
      "True\n",
      "True\n",
      "True\n",
      "False\n"
     ]
    }
   ],
   "source": [
    "a = 5\n",
    "b = 2\n",
    "\n",
    "print(a>b  or  b<a)\n",
    "print(a<b  or  b<a)\n",
    "print(a>b  or  b>a)\n",
    "print(a<b  or  b>a)"
   ]
  },
  {
   "cell_type": "code",
   "execution_count": 23,
   "id": "cfd6bf9f",
   "metadata": {},
   "outputs": [
    {
     "name": "stdout",
     "output_type": "stream",
     "text": [
      "enter number between 89 to 9990\n",
      "enter number between 89 to 9991\n",
      "90\n",
      "91\n",
      "1\n"
     ]
    }
   ],
   "source": [
    "a = int(input(\"enter number between 89 to 99\"))\n",
    "b = int(input(\"enter number between 89 to 99\"))\n",
    "\n",
    "print (a & b)\n",
    "print (a | b)\n",
    "print (a ^ b)"
   ]
  },
  {
   "cell_type": "code",
   "execution_count": 24,
   "id": "24fe91d1",
   "metadata": {},
   "outputs": [
    {
     "ename": "SyntaxError",
     "evalue": "invalid syntax (Temp/ipykernel_15632/56468506.py, line 4)",
     "output_type": "error",
     "traceback": [
      "\u001b[1;36m  File \u001b[1;32m\"C:\\Users\\User\\AppData\\Local\\Temp/ipykernel_15632/56468506.py\"\u001b[1;36m, line \u001b[1;32m4\u001b[0m\n\u001b[1;33m    print(a+=b)\u001b[0m\n\u001b[1;37m           ^\u001b[0m\n\u001b[1;31mSyntaxError\u001b[0m\u001b[1;31m:\u001b[0m invalid syntax\n"
     ]
    }
   ],
   "source": [
    "a = 7\n",
    "b = 3\n",
    "\n",
    "print(a+=b)"
   ]
  },
  {
   "cell_type": "code",
   "execution_count": 25,
   "id": "1d2efc63",
   "metadata": {},
   "outputs": [
    {
     "name": "stdout",
     "output_type": "stream",
     "text": [
      "10\n"
     ]
    }
   ],
   "source": [
    "a = 7\n",
    "b = 3\n",
    "\n",
    "a+=b\n",
    "\n",
    "print(a)"
   ]
  },
  {
   "cell_type": "code",
   "execution_count": 26,
   "id": "77581c17",
   "metadata": {},
   "outputs": [
    {
     "name": "stdout",
     "output_type": "stream",
     "text": [
      "7\n"
     ]
    }
   ],
   "source": [
    "a = 7\n",
    "b = 3\n",
    "\n",
    "a+=b\n",
    "a-=b\n",
    "\n",
    "print(a)"
   ]
  },
  {
   "cell_type": "code",
   "execution_count": 27,
   "id": "7531bfba",
   "metadata": {},
   "outputs": [
    {
     "name": "stdout",
     "output_type": "stream",
     "text": [
      "10\n",
      "7\n"
     ]
    }
   ],
   "source": [
    "a = 7\n",
    "b = 3\n",
    "\n",
    "a+=b\n",
    "print(a)\n",
    "\n",
    "a-=b\n",
    "print(a)"
   ]
  },
  {
   "cell_type": "code",
   "execution_count": 28,
   "id": "f578c2de",
   "metadata": {},
   "outputs": [
    {
     "name": "stdout",
     "output_type": "stream",
     "text": [
      "3\n"
     ]
    }
   ],
   "source": [
    "a= 5\n",
    "b= 2\n",
    "\n",
    "a-=b\n",
    "print(a)"
   ]
  },
  {
   "cell_type": "code",
   "execution_count": 29,
   "id": "c2520ab6",
   "metadata": {},
   "outputs": [
    {
     "name": "stdout",
     "output_type": "stream",
     "text": [
      "1\n"
     ]
    }
   ],
   "source": [
    "a = 6\n",
    "b = 4\n",
    "\n",
    "a//=b\n",
    "\n",
    "print(a)"
   ]
  },
  {
   "cell_type": "code",
   "execution_count": 30,
   "id": "3c7e9394",
   "metadata": {},
   "outputs": [
    {
     "name": "stdout",
     "output_type": "stream",
     "text": [
      "True\n",
      "False\n",
      "False\n",
      "False\n",
      "True\n",
      "True\n"
     ]
    }
   ],
   "source": [
    "a = 10\n",
    "b = 10\n",
    "c = 11\n",
    "\n",
    "print( a is b )\n",
    "print( a is c )\n",
    "print( c is b )\n",
    "\n",
    "print( a is not b )\n",
    "print( a is not c )\n",
    "print( c is not b )"
   ]
  },
  {
   "cell_type": "code",
   "execution_count": 31,
   "id": "abe7750c",
   "metadata": {},
   "outputs": [
    {
     "name": "stdout",
     "output_type": "stream",
     "text": [
      "redmi in a\n"
     ]
    }
   ],
   "source": [
    "a = ['iphone' , 'samsung , 'realme']\n",
    "\n",
    "print(\"redmi in a\")"
   ]
  },
  {
   "cell_type": "code",
   "execution_count": 37,
   "id": "ab8082e0",
   "metadata": {},
   "outputs": [
    {
     "name": "stdout",
     "output_type": "stream",
     "text": [
      "False\n"
     ]
    }
   ],
   "source": [
    "a = [\"iphone\" , \"samsung\" , \"realme\"]\n",
    "\n",
    "print(\"redmi\" in a)"
   ]
  },
  {
   "cell_type": "code",
   "execution_count": 38,
   "id": "646144fe",
   "metadata": {},
   "outputs": [
    {
     "name": "stdout",
     "output_type": "stream",
     "text": [
      "True\n"
     ]
    }
   ],
   "source": [
    "a = [\"iphone\" , \"samsung\" , \"realme\"]\n",
    "\n",
    "print(\"redmi\" not in a)"
   ]
  },
  {
   "cell_type": "code",
   "execution_count": 39,
   "id": "3881735a",
   "metadata": {},
   "outputs": [
    {
     "name": "stdout",
     "output_type": "stream",
     "text": [
      "False\n",
      "True\n"
     ]
    }
   ],
   "source": [
    "a = [\"iphone\" , \"samsung\" , \"realme\"]\n",
    "\n",
    "print(\"iphone\" not in a)\n",
    "print(\"realme\" in a)"
   ]
  },
  {
   "cell_type": "code",
   "execution_count": null,
   "id": "72c832c2",
   "metadata": {},
   "outputs": [],
   "source": []
  }
 ],
 "metadata": {
  "kernelspec": {
   "display_name": "Python 3 (ipykernel)",
   "language": "python",
   "name": "python3"
  },
  "language_info": {
   "codemirror_mode": {
    "name": "ipython",
    "version": 3
   },
   "file_extension": ".py",
   "mimetype": "text/x-python",
   "name": "python",
   "nbconvert_exporter": "python",
   "pygments_lexer": "ipython3",
   "version": "3.9.7"
  }
 },
 "nbformat": 4,
 "nbformat_minor": 5
}
