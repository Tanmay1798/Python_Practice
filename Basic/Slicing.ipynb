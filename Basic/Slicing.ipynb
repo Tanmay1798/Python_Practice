{
 "cells": [
  {
   "cell_type": "code",
   "execution_count": 1,
   "id": "4e0bdb47",
   "metadata": {},
   "outputs": [],
   "source": [
    "str = \"My name is Tanmay Pednekar\""
   ]
  },
  {
   "cell_type": "code",
   "execution_count": 2,
   "id": "3a79fd33",
   "metadata": {},
   "outputs": [
    {
     "data": {
      "text/plain": [
       "'My name is Tanmay Pednekar'"
      ]
     },
     "execution_count": 2,
     "metadata": {},
     "output_type": "execute_result"
    }
   ],
   "source": [
    "str[:]"
   ]
  },
  {
   "cell_type": "code",
   "execution_count": 3,
   "id": "d26102bb",
   "metadata": {},
   "outputs": [
    {
     "data": {
      "text/plain": [
       "'y'"
      ]
     },
     "execution_count": 3,
     "metadata": {},
     "output_type": "execute_result"
    }
   ],
   "source": [
    "str[1:2]"
   ]
  },
  {
   "cell_type": "code",
   "execution_count": 4,
   "id": "b71b343f",
   "metadata": {},
   "outputs": [
    {
     "data": {
      "text/plain": [
       "'y'"
      ]
     },
     "execution_count": 4,
     "metadata": {},
     "output_type": "execute_result"
    }
   ],
   "source": [
    "str[1:2:2]"
   ]
  },
  {
   "cell_type": "code",
   "execution_count": 5,
   "id": "5091ec30",
   "metadata": {},
   "outputs": [
    {
     "data": {
      "text/plain": [
       "''"
      ]
     },
     "execution_count": 5,
     "metadata": {},
     "output_type": "execute_result"
    }
   ],
   "source": [
    "str[-1:2]"
   ]
  },
  {
   "cell_type": "code",
   "execution_count": 6,
   "id": "ff9cc07f",
   "metadata": {},
   "outputs": [
    {
     "data": {
      "text/plain": [
       "' name is Tanmay Pedneka'"
      ]
     },
     "execution_count": 6,
     "metadata": {},
     "output_type": "execute_result"
    }
   ],
   "source": [
    "str[2:-1]"
   ]
  },
  {
   "cell_type": "code",
   "execution_count": 7,
   "id": "24bf18ff",
   "metadata": {},
   "outputs": [
    {
     "data": {
      "text/plain": [
       "'y name is Tanmay Pedneka'"
      ]
     },
     "execution_count": 7,
     "metadata": {},
     "output_type": "execute_result"
    }
   ],
   "source": [
    "str[1:-1]"
   ]
  },
  {
   "cell_type": "code",
   "execution_count": 8,
   "id": "2b9123f3",
   "metadata": {},
   "outputs": [
    {
     "data": {
      "text/plain": [
       "'M aei amyPdea'"
      ]
     },
     "execution_count": 8,
     "metadata": {},
     "output_type": "execute_result"
    }
   ],
   "source": [
    "str[:-1:2]"
   ]
  },
  {
   "cell_type": "code",
   "execution_count": 9,
   "id": "c1c9a1a3",
   "metadata": {},
   "outputs": [
    {
     "data": {
      "text/plain": [
       "'ame i'"
      ]
     },
     "execution_count": 9,
     "metadata": {},
     "output_type": "execute_result"
    }
   ],
   "source": [
    "str[4:9:1]"
   ]
  },
  {
   "cell_type": "code",
   "execution_count": 10,
   "id": "70996b5d",
   "metadata": {},
   "outputs": [
    {
     "data": {
      "text/plain": [
       "'nm s'"
      ]
     },
     "execution_count": 10,
     "metadata": {},
     "output_type": "execute_result"
    }
   ],
   "source": [
    "str[3:10:2]"
   ]
  },
  {
   "cell_type": "code",
   "execution_count": 11,
   "id": "37f749ac",
   "metadata": {},
   "outputs": [
    {
     "data": {
      "text/plain": [
       "' is Tanmay Pednekar'"
      ]
     },
     "execution_count": 11,
     "metadata": {},
     "output_type": "execute_result"
    }
   ],
   "source": [
    "str[7:]"
   ]
  },
  {
   "cell_type": "code",
   "execution_count": 12,
   "id": "966def1f",
   "metadata": {},
   "outputs": [
    {
     "data": {
      "text/plain": [
       "' sTna enkr'"
      ]
     },
     "execution_count": 12,
     "metadata": {},
     "output_type": "execute_result"
    }
   ],
   "source": [
    "str[7::2]"
   ]
  },
  {
   "cell_type": "code",
   "execution_count": 13,
   "id": "708a36d3",
   "metadata": {},
   "outputs": [
    {
     "data": {
      "text/plain": [
       "'r'"
      ]
     },
     "execution_count": 13,
     "metadata": {},
     "output_type": "execute_result"
    }
   ],
   "source": [
    "str[-1:]"
   ]
  },
  {
   "cell_type": "code",
   "execution_count": 14,
   "id": "416e0d38",
   "metadata": {},
   "outputs": [
    {
     "data": {
      "text/plain": [
       "''"
      ]
     },
     "execution_count": 14,
     "metadata": {},
     "output_type": "execute_result"
    }
   ],
   "source": [
    "str[-1:-5]"
   ]
  },
  {
   "cell_type": "code",
   "execution_count": 15,
   "id": "269f83a8",
   "metadata": {},
   "outputs": [
    {
     "data": {
      "text/plain": [
       "'rkne'"
      ]
     },
     "execution_count": 15,
     "metadata": {},
     "output_type": "execute_result"
    }
   ],
   "source": [
    "str[-1:-9:-2]"
   ]
  },
  {
   "cell_type": "code",
   "execution_count": 16,
   "id": "8e006d0e",
   "metadata": {},
   "outputs": [
    {
     "data": {
      "text/plain": [
       "''"
      ]
     },
     "execution_count": 16,
     "metadata": {},
     "output_type": "execute_result"
    }
   ],
   "source": [
    "str[-6:6]"
   ]
  },
  {
   "cell_type": "code",
   "execution_count": 17,
   "id": "ae49db4b",
   "metadata": {},
   "outputs": [
    {
     "data": {
      "text/plain": [
       "'rkne anTs mn'"
      ]
     },
     "execution_count": 17,
     "metadata": {},
     "output_type": "execute_result"
    }
   ],
   "source": [
    "str[-1:1:-2]"
   ]
  },
  {
   "cell_type": "code",
   "execution_count": 18,
   "id": "7774caee",
   "metadata": {},
   "outputs": [
    {
     "data": {
      "text/plain": [
       "''"
      ]
     },
     "execution_count": 18,
     "metadata": {},
     "output_type": "execute_result"
    }
   ],
   "source": [
    "str[-1:1:2]"
   ]
  },
  {
   "cell_type": "code",
   "execution_count": 19,
   "id": "132002cb",
   "metadata": {},
   "outputs": [
    {
     "data": {
      "text/plain": [
       "''"
      ]
     },
     "execution_count": 19,
     "metadata": {},
     "output_type": "execute_result"
    }
   ],
   "source": [
    "str[1:-1:-2]"
   ]
  },
  {
   "cell_type": "code",
   "execution_count": 20,
   "id": "9ffe0773",
   "metadata": {},
   "outputs": [
    {
     "data": {
      "text/plain": [
       "''"
      ]
     },
     "execution_count": 20,
     "metadata": {},
     "output_type": "execute_result"
    }
   ],
   "source": [
    "str[5:5:1]"
   ]
  },
  {
   "cell_type": "code",
   "execution_count": 21,
   "id": "46c2c963",
   "metadata": {},
   "outputs": [
    {
     "data": {
      "text/plain": [
       "''"
      ]
     },
     "execution_count": 21,
     "metadata": {},
     "output_type": "execute_result"
    }
   ],
   "source": [
    "str[-1:0]"
   ]
  },
  {
   "cell_type": "code",
   "execution_count": 22,
   "id": "85fc9883",
   "metadata": {},
   "outputs": [
    {
     "data": {
      "text/plain": [
       "'rakendeP yamnaT si eman y'"
      ]
     },
     "execution_count": 22,
     "metadata": {},
     "output_type": "execute_result"
    }
   ],
   "source": [
    "str[-1:0:-1]"
   ]
  },
  {
   "cell_type": "code",
   "execution_count": 23,
   "id": "cdfecc3f",
   "metadata": {},
   "outputs": [
    {
     "data": {
      "text/plain": [
       "'rakendeP yamnaT si eman yM'"
      ]
     },
     "execution_count": 23,
     "metadata": {},
     "output_type": "execute_result"
    }
   ],
   "source": [
    "str[-1::-1]"
   ]
  },
  {
   "cell_type": "code",
   "execution_count": 24,
   "id": "e9e5527f",
   "metadata": {},
   "outputs": [
    {
     "data": {
      "text/plain": [
       "' is Tanmay Pe'"
      ]
     },
     "execution_count": 24,
     "metadata": {},
     "output_type": "execute_result"
    }
   ],
   "source": [
    "str[7:-6]"
   ]
  },
  {
   "cell_type": "code",
   "execution_count": 25,
   "id": "df720d80",
   "metadata": {},
   "outputs": [
    {
     "data": {
      "text/plain": [
       "''"
      ]
     },
     "execution_count": 25,
     "metadata": {},
     "output_type": "execute_result"
    }
   ],
   "source": [
    "str[-6:7]"
   ]
  },
  {
   "cell_type": "code",
   "execution_count": 26,
   "id": "943da10d",
   "metadata": {},
   "outputs": [
    {
     "data": {
      "text/plain": [
       "'deP yamnaT si'"
      ]
     },
     "execution_count": 26,
     "metadata": {},
     "output_type": "execute_result"
    }
   ],
   "source": [
    "str[-6:7:-1]"
   ]
  },
  {
   "cell_type": "code",
   "execution_count": 27,
   "id": "76b5ad36",
   "metadata": {},
   "outputs": [
    {
     "data": {
      "text/plain": [
       "' Pedneka'"
      ]
     },
     "execution_count": 27,
     "metadata": {},
     "output_type": "execute_result"
    }
   ],
   "source": [
    "str[-9:-1:1]"
   ]
  },
  {
   "cell_type": "code",
   "execution_count": 28,
   "id": "bff60a35",
   "metadata": {},
   "outputs": [
    {
     "data": {
      "text/plain": [
       "''"
      ]
     },
     "execution_count": 28,
     "metadata": {},
     "output_type": "execute_result"
    }
   ],
   "source": [
    "str[-9:-1:-1]"
   ]
  },
  {
   "cell_type": "code",
   "execution_count": 29,
   "id": "cde132fe",
   "metadata": {},
   "outputs": [
    {
     "data": {
      "text/plain": [
       "' yamnaT si eman '"
      ]
     },
     "execution_count": 29,
     "metadata": {},
     "output_type": "execute_result"
    }
   ],
   "source": [
    "str[-9:1:-1]"
   ]
  },
  {
   "cell_type": "code",
   "execution_count": 30,
   "id": "70e8f3ad",
   "metadata": {},
   "outputs": [
    {
     "data": {
      "text/plain": [
       "''"
      ]
     },
     "execution_count": 30,
     "metadata": {},
     "output_type": "execute_result"
    }
   ],
   "source": [
    "str[-9:1:1]"
   ]
  },
  {
   "cell_type": "code",
   "execution_count": null,
   "id": "45265561",
   "metadata": {},
   "outputs": [],
   "source": []
  }
 ],
 "metadata": {
  "kernelspec": {
   "display_name": "Python 3 (ipykernel)",
   "language": "python",
   "name": "python3"
  },
  "language_info": {
   "codemirror_mode": {
    "name": "ipython",
    "version": 3
   },
   "file_extension": ".py",
   "mimetype": "text/x-python",
   "name": "python",
   "nbconvert_exporter": "python",
   "pygments_lexer": "ipython3",
   "version": "3.9.7"
  }
 },
 "nbformat": 4,
 "nbformat_minor": 5
}
