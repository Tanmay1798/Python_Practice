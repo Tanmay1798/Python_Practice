{
 "cells": [
  {
   "cell_type": "code",
   "execution_count": 1,
   "id": "763aac78",
   "metadata": {},
   "outputs": [],
   "source": [
    "# SWAPPING Questions"
   ]
  },
  {
   "cell_type": "code",
   "execution_count": null,
   "id": "c0e09dbb",
   "metadata": {},
   "outputs": [],
   "source": []
  },
  {
   "cell_type": "code",
   "execution_count": 2,
   "id": "73527c99",
   "metadata": {},
   "outputs": [
    {
     "name": "stdout",
     "output_type": "stream",
     "text": [
      "a =  20\n",
      "b =  10\n"
     ]
    }
   ],
   "source": [
    "a = 10 \n",
    "b = 20\n",
    "a , b = b , a\n",
    "print(\"a = \" , a)\n",
    "print(\"b = \" , b)"
   ]
  },
  {
   "cell_type": "code",
   "execution_count": 3,
   "id": "6dd15449",
   "metadata": {},
   "outputs": [
    {
     "name": "stdout",
     "output_type": "stream",
     "text": [
      "a =  25\n",
      "b =  10\n"
     ]
    }
   ],
   "source": [
    "a = 10 \n",
    "b = 15 + a\n",
    "a , b = b , a\n",
    "print(\"a = \" , a)\n",
    "print(\"b = \" , b)"
   ]
  },
  {
   "cell_type": "code",
   "execution_count": 4,
   "id": "903deaf0",
   "metadata": {},
   "outputs": [
    {
     "name": "stdout",
     "output_type": "stream",
     "text": [
      "a =  90\n",
      "b =  110\n"
     ]
    }
   ],
   "source": [
    "a = 20 \n",
    "b = 70 + a\n",
    "a , b = b , a + b\n",
    "print(\"a = \" , a)\n",
    "print(\"b = \" , b)"
   ]
  },
  {
   "cell_type": "code",
   "execution_count": 5,
   "id": "de20065f",
   "metadata": {},
   "outputs": [
    {
     "name": "stdout",
     "output_type": "stream",
     "text": [
      "a =  50\n",
      "b =  70\n"
     ]
    }
   ],
   "source": [
    "a = 20 \n",
    "b = 70 - a\n",
    "a , b = b , a + b\n",
    "print(\"a = \" , a)\n",
    "print(\"b = \" , b)"
   ]
  },
  {
   "cell_type": "code",
   "execution_count": 6,
   "id": "17e62c29",
   "metadata": {},
   "outputs": [
    {
     "name": "stdout",
     "output_type": "stream",
     "text": [
      "a =  2\n",
      "b =  1.0\n",
      "c =  10\n"
     ]
    }
   ],
   "source": [
    "a , b = 2 , 10\n",
    "c , b = a * 5 , a / 2\n",
    "print(\"a = \" , a)\n",
    "print(\"b = \" , b)\n",
    "print(\"c = \" , c)"
   ]
  },
  {
   "cell_type": "code",
   "execution_count": 7,
   "id": "b32db11f",
   "metadata": {},
   "outputs": [
    {
     "name": "stdout",
     "output_type": "stream",
     "text": [
      "a =  10\n",
      "b =  3200000\n"
     ]
    }
   ],
   "source": [
    "a = 20\n",
    "b = 5\n",
    "a , b = a //2 , a ** b\n",
    "print(\"a = \" , a)\n",
    "print(\"b = \" , b)"
   ]
  },
  {
   "cell_type": "code",
   "execution_count": 8,
   "id": "1370cd9f",
   "metadata": {},
   "outputs": [
    {
     "name": "stdout",
     "output_type": "stream",
     "text": [
      "Enter 1st number = 1.2\n",
      "Enter 2nd number = 1.2\n",
      "a =  0.6\n",
      "b =  2.4\n"
     ]
    }
   ],
   "source": [
    "a = float(input(\"Enter 1st number = \"))\n",
    "b = float(input(\"Enter 2nd number = \"))\n",
    "\n",
    "a , b = b / 2 , a * 2\n",
    "print(\"a = \" , a)\n",
    "print(\"b = \" , b) "
   ]
  },
  {
   "cell_type": "code",
   "execution_count": null,
   "id": "95c5ad7e",
   "metadata": {},
   "outputs": [],
   "source": [
    "\n"
   ]
  },
  {
   "cell_type": "code",
   "execution_count": 9,
   "id": "cea1c09b",
   "metadata": {},
   "outputs": [
    {
     "name": "stdout",
     "output_type": "stream",
     "text": [
      "20\n",
      "None\n"
     ]
    }
   ],
   "source": [
    "print(print(20))"
   ]
  },
  {
   "cell_type": "code",
   "execution_count": 11,
   "id": "968d6315",
   "metadata": {},
   "outputs": [
    {
     "name": "stdout",
     "output_type": "stream",
     "text": [
      "Tanmay\n",
      "None\n"
     ]
    }
   ],
   "source": [
    "print(print(\"Tanmay\"))"
   ]
  },
  {
   "cell_type": "code",
   "execution_count": 12,
   "id": "8374a519",
   "metadata": {},
   "outputs": [
    {
     "name": "stdout",
     "output_type": "stream",
     "text": [
      "50\n",
      "None\n"
     ]
    }
   ],
   "source": [
    "print(print(int(50.50)))"
   ]
  },
  {
   "cell_type": "code",
   "execution_count": null,
   "id": "df1b1a5a",
   "metadata": {},
   "outputs": [],
   "source": []
  },
  {
   "cell_type": "code",
   "execution_count": null,
   "id": "a6040e91",
   "metadata": {},
   "outputs": [],
   "source": []
  },
  {
   "cell_type": "code",
   "execution_count": 13,
   "id": "c16a4ba1",
   "metadata": {},
   "outputs": [],
   "source": [
    "a = True "
   ]
  },
  {
   "cell_type": "code",
   "execution_count": 14,
   "id": "bcef529e",
   "metadata": {},
   "outputs": [
    {
     "data": {
      "text/plain": [
       "True"
      ]
     },
     "execution_count": 14,
     "metadata": {},
     "output_type": "execute_result"
    }
   ],
   "source": [
    "a = True\n",
    "B = False\n",
    "\n",
    "not a == b"
   ]
  },
  {
   "cell_type": "code",
   "execution_count": 15,
   "id": "38a5ef43",
   "metadata": {},
   "outputs": [
    {
     "ename": "SyntaxError",
     "evalue": "invalid syntax (Temp/ipykernel_8720/2402672868.py, line 1)",
     "output_type": "error",
     "traceback": [
      "\u001b[1;36m  File \u001b[1;32m\"C:\\Users\\User\\AppData\\Local\\Temp/ipykernel_8720/2402672868.py\"\u001b[1;36m, line \u001b[1;32m1\u001b[0m\n\u001b[1;33m    a == not b\u001b[0m\n\u001b[1;37m         ^\u001b[0m\n\u001b[1;31mSyntaxError\u001b[0m\u001b[1;31m:\u001b[0m invalid syntax\n"
     ]
    }
   ],
   "source": [
    "a == not b"
   ]
  },
  {
   "cell_type": "code",
   "execution_count": null,
   "id": "6b4b0437",
   "metadata": {},
   "outputs": [],
   "source": [
    " "
   ]
  },
  {
   "cell_type": "code",
   "execution_count": null,
   "id": "3f0c32e3",
   "metadata": {},
   "outputs": [],
   "source": [
    "# End "
   ]
  }
 ],
 "metadata": {
  "kernelspec": {
   "display_name": "Python 3 (ipykernel)",
   "language": "python",
   "name": "python3"
  },
  "language_info": {
   "codemirror_mode": {
    "name": "ipython",
    "version": 3
   },
   "file_extension": ".py",
   "mimetype": "text/x-python",
   "name": "python",
   "nbconvert_exporter": "python",
   "pygments_lexer": "ipython3",
   "version": "3.9.7"
  }
 },
 "nbformat": 4,
 "nbformat_minor": 5
}
