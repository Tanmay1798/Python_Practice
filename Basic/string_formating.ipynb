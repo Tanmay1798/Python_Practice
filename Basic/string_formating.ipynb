{
 "cells": [
  {
   "cell_type": "code",
   "execution_count": 1,
   "id": "6d623d3f",
   "metadata": {},
   "outputs": [
    {
     "name": "stdout",
     "output_type": "stream",
     "text": [
      "My name is 'Tanmay'\n"
     ]
    }
   ],
   "source": [
    "print(\"My name is %a\" %'Tanmay')"
   ]
  },
  {
   "cell_type": "code",
   "execution_count": 52,
   "id": "96ef6b9b",
   "metadata": {},
   "outputs": [
    {
     "ename": "TypeError",
     "evalue": "%x format: an integer is required, not str",
     "output_type": "error",
     "traceback": [
      "\u001b[1;31m---------------------------------------------------------------------------\u001b[0m",
      "\u001b[1;31mTypeError\u001b[0m                                 Traceback (most recent call last)",
      "\u001b[1;32m~\\AppData\\Local\\Temp/ipykernel_12388/2424402215.py\u001b[0m in \u001b[0;36m<module>\u001b[1;34m\u001b[0m\n\u001b[1;32m----> 1\u001b[1;33m \u001b[0mprint\u001b[0m\u001b[1;33m(\u001b[0m\u001b[1;34m\"My name is %x\"\u001b[0m \u001b[1;33m%\u001b[0m\u001b[1;34m'may'\u001b[0m\u001b[1;33m)\u001b[0m\u001b[1;33m\u001b[0m\u001b[1;33m\u001b[0m\u001b[0m\n\u001b[0m",
      "\u001b[1;31mTypeError\u001b[0m: %x format: an integer is required, not str"
     ]
    }
   ],
   "source": [
    "print(\"My name is %x\" %'may')"
   ]
  },
  {
   "cell_type": "code",
   "execution_count": 3,
   "id": "faace323",
   "metadata": {},
   "outputs": [
    {
     "name": "stdout",
     "output_type": "stream",
     "text": [
      "My name is Tanmay\n"
     ]
    }
   ],
   "source": [
    "print(\"My name is %s\" %\"Tanmay\")"
   ]
  },
  {
   "cell_type": "code",
   "execution_count": 4,
   "id": "1536c389",
   "metadata": {},
   "outputs": [
    {
     "name": "stdout",
     "output_type": "stream",
     "text": [
      "My name is Tanmay\n"
     ]
    }
   ],
   "source": [
    "print(\"My name is %s\" %'Tanmay')"
   ]
  },
  {
   "cell_type": "code",
   "execution_count": 10,
   "id": "2f2621c0",
   "metadata": {},
   "outputs": [
    {
     "name": "stdout",
     "output_type": "stream",
     "text": [
      "My name is Tanmay\n"
     ]
    }
   ],
   "source": [
    "print(\"My name is %s\" %'Tanmay')"
   ]
  },
  {
   "cell_type": "code",
   "execution_count": 12,
   "id": "75f48518",
   "metadata": {},
   "outputs": [],
   "source": [
    "a = \"tanmay\"\n",
    "b = 12\n"
   ]
  },
  {
   "cell_type": "code",
   "execution_count": 13,
   "id": "9662e325",
   "metadata": {},
   "outputs": [
    {
     "name": "stdout",
     "output_type": "stream",
     "text": [
      "My name is tanmay\n"
     ]
    }
   ],
   "source": [
    "print(\"My name is %s\" %a)"
   ]
  },
  {
   "cell_type": "code",
   "execution_count": 16,
   "id": "c3adaa71",
   "metadata": {},
   "outputs": [
    {
     "name": "stdout",
     "output_type": "stream",
     "text": [
      "My name is tanmay. I am 12 years old\n"
     ]
    }
   ],
   "source": [
    "print(\"My name is %s. I am %s years old\" %(a ,b))"
   ]
  },
  {
   "cell_type": "code",
   "execution_count": 17,
   "id": "aaa17e5b",
   "metadata": {},
   "outputs": [
    {
     "name": "stdout",
     "output_type": "stream",
     "text": [
      "My name is Tanmay. I am 12.000000 years old\n"
     ]
    }
   ],
   "source": [
    "a = \"Tanmay\"\n",
    "b = 12\n",
    "print(\"My name is %s. I am %f years old\" %(a ,b))"
   ]
  },
  {
   "cell_type": "code",
   "execution_count": 19,
   "id": "d04e0386",
   "metadata": {},
   "outputs": [
    {
     "name": "stdout",
     "output_type": "stream",
     "text": [
      "My name is Tanmay. I am 12.000000 years old\n"
     ]
    }
   ],
   "source": [
    "a = \"Tanmay\"\n",
    "b = 12\n",
    "print(\"My name is %s. I am %f years old\" %(a ,b))"
   ]
  },
  {
   "cell_type": "code",
   "execution_count": 20,
   "id": "817dcc36",
   "metadata": {},
   "outputs": [
    {
     "name": "stdout",
     "output_type": "stream",
     "text": [
      "My name is Tanmay. I am 101 years old\n"
     ]
    }
   ],
   "source": [
    "a = \"Tanmay\"\n",
    "b = 101\n",
    "print(\"My name is %s. I am %d years old\" %(a ,b))"
   ]
  },
  {
   "cell_type": "code",
   "execution_count": 21,
   "id": "72abadc5",
   "metadata": {},
   "outputs": [
    {
     "name": "stdout",
     "output_type": "stream",
     "text": [
      "My name is Tanmay. I am 10102 years old\n"
     ]
    }
   ],
   "source": [
    "a = \"Tanmay\"\n",
    "b = 10102\n",
    "print(\"My name is %s. I am %d years old\" %(a ,b))"
   ]
  },
  {
   "cell_type": "code",
   "execution_count": 23,
   "id": "431026f3",
   "metadata": {},
   "outputs": [
    {
     "name": "stdout",
     "output_type": "stream",
     "text": [
      "My name is Tanmay. I am 101.000000 years old\n"
     ]
    }
   ],
   "source": [
    "a = \"Tanmay\"\n",
    "b = 101\n",
    "print(\"My name is %s. I am %f years old\" %(a ,b))"
   ]
  },
  {
   "cell_type": "code",
   "execution_count": 55,
   "id": "ed83d66f",
   "metadata": {},
   "outputs": [
    {
     "ename": "ValueError",
     "evalue": "unsupported format character 'b' (0x62) at index 21",
     "output_type": "error",
     "traceback": [
      "\u001b[1;31m---------------------------------------------------------------------------\u001b[0m",
      "\u001b[1;31mValueError\u001b[0m                                Traceback (most recent call last)",
      "\u001b[1;32m~\\AppData\\Local\\Temp/ipykernel_12388/3168360723.py\u001b[0m in \u001b[0;36m<module>\u001b[1;34m\u001b[0m\n\u001b[0;32m      1\u001b[0m \u001b[0ma\u001b[0m \u001b[1;33m=\u001b[0m \u001b[1;34m\"Tanmay\"\u001b[0m\u001b[1;33m\u001b[0m\u001b[1;33m\u001b[0m\u001b[0m\n\u001b[0;32m      2\u001b[0m \u001b[0mc\u001b[0m \u001b[1;33m=\u001b[0m \u001b[1;36m0b101\u001b[0m\u001b[1;33m\u001b[0m\u001b[1;33m\u001b[0m\u001b[0m\n\u001b[1;32m----> 3\u001b[1;33m \u001b[0mprint\u001b[0m\u001b[1;33m(\u001b[0m\u001b[1;34m\"My name is %s. I am %b years old\"\u001b[0m \u001b[1;33m%\u001b[0m\u001b[1;33m(\u001b[0m\u001b[0ma\u001b[0m \u001b[1;33m,\u001b[0m\u001b[0mc\u001b[0m\u001b[1;33m)\u001b[0m\u001b[1;33m)\u001b[0m\u001b[1;33m\u001b[0m\u001b[1;33m\u001b[0m\u001b[0m\n\u001b[0m",
      "\u001b[1;31mValueError\u001b[0m: unsupported format character 'b' (0x62) at index 21"
     ]
    }
   ],
   "source": [
    "a = \"Tanmay\"\n",
    "c = 0b101\n",
    "print(\"My name is %s. I am %b years old\" %(a ,c))"
   ]
  },
  {
   "cell_type": "code",
   "execution_count": 25,
   "id": "24f769fb",
   "metadata": {},
   "outputs": [
    {
     "name": "stdout",
     "output_type": "stream",
     "text": [
      "pi is = 3.142\n"
     ]
    }
   ],
   "source": [
    "print(\"pi is = %1.3f\" %3.1415982365494464)"
   ]
  },
  {
   "cell_type": "code",
   "execution_count": 26,
   "id": "96d64072",
   "metadata": {},
   "outputs": [
    {
     "name": "stdout",
     "output_type": "stream",
     "text": [
      "number is = 3454666.142\n"
     ]
    }
   ],
   "source": [
    "print(\"number is = %1.3f\" %3454666.1415982365494464)"
   ]
  },
  {
   "cell_type": "code",
   "execution_count": 27,
   "id": "3ba1a123",
   "metadata": {},
   "outputs": [
    {
     "name": "stdout",
     "output_type": "stream",
     "text": [
      "number is =       3.14\n"
     ]
    }
   ],
   "source": [
    "print(\"number is = %10.2f\" %3.141598236549)"
   ]
  },
  {
   "cell_type": "code",
   "execution_count": 28,
   "id": "758c9734",
   "metadata": {},
   "outputs": [
    {
     "ename": "IndexError",
     "evalue": "Replacement index 1 out of range for positional args tuple",
     "output_type": "error",
     "traceback": [
      "\u001b[1;31m---------------------------------------------------------------------------\u001b[0m",
      "\u001b[1;31mIndexError\u001b[0m                                Traceback (most recent call last)",
      "\u001b[1;32m~\\AppData\\Local\\Temp/ipykernel_12388/3847887878.py\u001b[0m in \u001b[0;36m<module>\u001b[1;34m\u001b[0m\n\u001b[1;32m----> 1\u001b[1;33m \u001b[0mprint\u001b[0m\u001b[1;33m(\u001b[0m\u001b[1;34m\"my name is {}. and full name is {} pednekar. evryone called me 'Tammy' insted of {} \"\u001b[0m \u001b[1;33m.\u001b[0m\u001b[0mformat\u001b[0m\u001b[1;33m(\u001b[0m\u001b[1;34m'Tanmay'\u001b[0m\u001b[1;33m)\u001b[0m\u001b[1;33m)\u001b[0m\u001b[1;33m\u001b[0m\u001b[1;33m\u001b[0m\u001b[0m\n\u001b[0m",
      "\u001b[1;31mIndexError\u001b[0m: Replacement index 1 out of range for positional args tuple"
     ]
    }
   ],
   "source": [
    "print(\"my name is {}. and full name is {} pednekar. evryone called me 'Tammy' insted of {} \" .format('Tanmay'))"
   ]
  },
  {
   "cell_type": "code",
   "execution_count": 29,
   "id": "ec39965f",
   "metadata": {},
   "outputs": [
    {
     "name": "stdout",
     "output_type": "stream",
     "text": [
      "my name is Tanmay. and full name is Tanmay pednekar. evryone called me 'Tammy' insted of Tanmay \n"
     ]
    }
   ],
   "source": [
    "print(\"my name is {a}. and full name is {a} pednekar. evryone called me 'Tammy' insted of {a} \" .format(a='Tanmay'))"
   ]
  },
  {
   "cell_type": "code",
   "execution_count": 33,
   "id": "85b92b68",
   "metadata": {},
   "outputs": [
    {
     "name": "stdout",
     "output_type": "stream",
     "text": [
      "pednekar kamlesh tanmay\n"
     ]
    }
   ],
   "source": [
    "print('{2} {1} {0}' .format(\"tanmay\", \"kamlesh\",\"pednekar\"))"
   ]
  },
  {
   "cell_type": "code",
   "execution_count": 35,
   "id": "fc0a822a",
   "metadata": {},
   "outputs": [],
   "source": [
    "a = \"photography\""
   ]
  },
  {
   "cell_type": "code",
   "execution_count": 37,
   "id": "a1e5c7b1",
   "metadata": {},
   "outputs": [
    {
     "name": "stdout",
     "output_type": "stream",
     "text": [
      "My hobby is photography\n"
     ]
    }
   ],
   "source": [
    "print(f\"My hobby is {a}\")"
   ]
  },
  {
   "cell_type": "code",
   "execution_count": 38,
   "id": "40f386d5",
   "metadata": {},
   "outputs": [],
   "source": [
    "a = 9\n",
    "b = 10\n",
    "c = 11"
   ]
  },
  {
   "cell_type": "code",
   "execution_count": 40,
   "id": "1563d7d4",
   "metadata": {},
   "outputs": [
    {
     "name": "stdout",
     "output_type": "stream",
     "text": [
      "Tanmay score 101 runs in yesterday match.\n"
     ]
    }
   ],
   "source": [
    "print(f\"Tanmay score {a*b+c} runs in yesterday match.\")"
   ]
  },
  {
   "cell_type": "code",
   "execution_count": 41,
   "id": "9e405331",
   "metadata": {},
   "outputs": [
    {
     "name": "stdout",
     "output_type": "stream",
     "text": [
      "Tanmay score 219 runs in yesterday match.\n"
     ]
    }
   ],
   "source": [
    "print(f\"Tanmay score {a*b+c*a+b+a+c} runs in yesterday match.\")"
   ]
  },
  {
   "cell_type": "code",
   "execution_count": 44,
   "id": "5390d5a3",
   "metadata": {},
   "outputs": [
    {
     "name": "stdout",
     "output_type": "stream",
     "text": [
      "Tanmay score 318 runs in yesterday match.\n"
     ]
    }
   ],
   "source": [
    "print(f\"Tanmay score {a*b+c*a+b+a+c*10} runs in yesterday match.\")"
   ]
  },
  {
   "cell_type": "code",
   "execution_count": 45,
   "id": "b00255a1",
   "metadata": {},
   "outputs": [
    {
     "ename": "IndexError",
     "evalue": "Replacement index 4 out of range for positional args tuple",
     "output_type": "error",
     "traceback": [
      "\u001b[1;31m---------------------------------------------------------------------------\u001b[0m",
      "\u001b[1;31mIndexError\u001b[0m                                Traceback (most recent call last)",
      "\u001b[1;32m~\\AppData\\Local\\Temp/ipykernel_12388/1687113185.py\u001b[0m in \u001b[0;36m<module>\u001b[1;34m\u001b[0m\n\u001b[1;32m----> 1\u001b[1;33m \u001b[0mprint\u001b[0m\u001b[1;33m(\u001b[0m\u001b[1;34m'The valueof pi is: {4:1.5f}'\u001b[0m\u001b[1;33m.\u001b[0m\u001b[0mformat\u001b[0m\u001b[1;33m(\u001b[0m\u001b[1;36m3.141592\u001b[0m\u001b[1;33m)\u001b[0m\u001b[1;33m)\u001b[0m\u001b[1;33m\u001b[0m\u001b[1;33m\u001b[0m\u001b[0m\n\u001b[0m",
      "\u001b[1;31mIndexError\u001b[0m: Replacement index 4 out of range for positional args tuple"
     ]
    }
   ],
   "source": [
    "print('The valueof pi is: {4:1.5f}'.format(3.141592))"
   ]
  },
  {
   "cell_type": "code",
   "execution_count": 46,
   "id": "3ced9ce0",
   "metadata": {},
   "outputs": [
    {
     "name": "stdout",
     "output_type": "stream",
     "text": [
      "The valueof pi is: 3.14159\n"
     ]
    }
   ],
   "source": [
    "print('The valueof pi is: {0:1.5f}'.format(3.141592))"
   ]
  },
  {
   "cell_type": "code",
   "execution_count": 47,
   "id": "d6be7d99",
   "metadata": {},
   "outputs": [
    {
     "ename": "IndexError",
     "evalue": "Replacement index 1 out of range for positional args tuple",
     "output_type": "error",
     "traceback": [
      "\u001b[1;31m---------------------------------------------------------------------------\u001b[0m",
      "\u001b[1;31mIndexError\u001b[0m                                Traceback (most recent call last)",
      "\u001b[1;32m~\\AppData\\Local\\Temp/ipykernel_12388/1238496901.py\u001b[0m in \u001b[0;36m<module>\u001b[1;34m\u001b[0m\n\u001b[1;32m----> 1\u001b[1;33m \u001b[0mprint\u001b[0m\u001b[1;33m(\u001b[0m\u001b[1;34m'The valueof pi is: {1:1.5f}'\u001b[0m\u001b[1;33m.\u001b[0m\u001b[0mformat\u001b[0m\u001b[1;33m(\u001b[0m\u001b[1;36m3.141592\u001b[0m\u001b[1;33m)\u001b[0m\u001b[1;33m)\u001b[0m\u001b[1;33m\u001b[0m\u001b[1;33m\u001b[0m\u001b[0m\n\u001b[0m",
      "\u001b[1;31mIndexError\u001b[0m: Replacement index 1 out of range for positional args tuple"
     ]
    }
   ],
   "source": [
    "print('The valueof pi is: {1:1.5f}'.format(3.141592))"
   ]
  },
  {
   "cell_type": "code",
   "execution_count": 48,
   "id": "2f5f9114",
   "metadata": {},
   "outputs": [
    {
     "name": "stdout",
     "output_type": "stream",
     "text": [
      "The valueof pi is: 3.14159\n"
     ]
    }
   ],
   "source": [
    "print('The valueof pi is: {0:6.5f}'.format(3.141592))"
   ]
  },
  {
   "cell_type": "code",
   "execution_count": 49,
   "id": "0ae2e484",
   "metadata": {},
   "outputs": [
    {
     "name": "stdout",
     "output_type": "stream",
     "text": [
      "The valueof nymber is: 3454646464.14159\n"
     ]
    }
   ],
   "source": [
    "print('The valueof nymber is: {0:4.5f}'.format(3454646464.141592))"
   ]
  },
  {
   "cell_type": "code",
   "execution_count": 51,
   "id": "6f769003",
   "metadata": {},
   "outputs": [
    {
     "name": "stdout",
     "output_type": "stream",
     "text": [
      "The valueof number is: 3454646464.14159\n"
     ]
    }
   ],
   "source": [
    "print('The valueof number is: {0:4.5f}'.format(3454646464.141592))"
   ]
  },
  {
   "cell_type": "code",
   "execution_count": null,
   "id": "4d489ae1",
   "metadata": {},
   "outputs": [],
   "source": []
  }
 ],
 "metadata": {
  "kernelspec": {
   "display_name": "Python 3 (ipykernel)",
   "language": "python",
   "name": "python3"
  },
  "language_info": {
   "codemirror_mode": {
    "name": "ipython",
    "version": 3
   },
   "file_extension": ".py",
   "mimetype": "text/x-python",
   "name": "python",
   "nbconvert_exporter": "python",
   "pygments_lexer": "ipython3",
   "version": "3.9.7"
  }
 },
 "nbformat": 4,
 "nbformat_minor": 5
}
