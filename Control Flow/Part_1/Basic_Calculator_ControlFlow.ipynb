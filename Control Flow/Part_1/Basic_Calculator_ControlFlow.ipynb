{
 "cells": [
  {
   "cell_type": "code",
   "execution_count": 1,
   "id": "d50eee75",
   "metadata": {},
   "outputs": [],
   "source": [
    "# 12. Make a simple calculator using input"
   ]
  },
  {
   "cell_type": "code",
   "execution_count": 1,
   "id": "0d9c9b5c",
   "metadata": {},
   "outputs": [
    {
     "name": "stdout",
     "output_type": "stream",
     "text": [
      "BASIC CALCULATOR\n",
      "Enter 1st number = 15\n",
      "Enter 2nd number = 3\n",
      "Which expression do you want to perform?\n",
      "1. + (Addition)\n",
      "2. - (Subtraction)\n",
      "3. * (Multiplication)\n",
      "4. / (Division)\n",
      "Enter number for expression = 3\n",
      "Multiplication is =  45.0\n"
     ]
    }
   ],
   "source": [
    "print(\"BASIC CALCULATOR\")\n",
    "\n",
    "n1 = float(input(\"Enter 1st number = \"))\n",
    "n2 = float(input(\"Enter 2nd number = \"))\n",
    "\n",
    "print(\"Which expression do you want to perform?\")\n",
    "print(\"1. + (Addition)\")\n",
    "print(\"2. - (Subtraction)\")\n",
    "print(\"3. * (Multiplication)\")\n",
    "print(\"4. / (Division)\")\n",
    "\n",
    "num = int(input(\"Enter number for expression = \"))\n",
    "\n",
    "if num == 1:\n",
    "    print(\"Addition is = \",n1+n2)\n",
    "elif num == 2:\n",
    "    print(\"Subtraction is = \",n1-n2)\n",
    "elif num == 3:\n",
    "    print(\"Multiplication is = \",n1*n2)\n",
    "elif num == 4:\n",
    "    print(\"Division is = \",n1/n2)\n",
    "else:\n",
    "    print(\"Please Enter vaild expression number.\")"
   ]
  },
  {
   "cell_type": "code",
   "execution_count": null,
   "id": "c97da61c",
   "metadata": {},
   "outputs": [],
   "source": []
  }
 ],
 "metadata": {
  "kernelspec": {
   "display_name": "Python 3 (ipykernel)",
   "language": "python",
   "name": "python3"
  },
  "language_info": {
   "codemirror_mode": {
    "name": "ipython",
    "version": 3
   },
   "file_extension": ".py",
   "mimetype": "text/x-python",
   "name": "python",
   "nbconvert_exporter": "python",
   "pygments_lexer": "ipython3",
   "version": "3.9.7"
  }
 },
 "nbformat": 4,
 "nbformat_minor": 5
}
