{
 "cells": [
  {
   "cell_type": "code",
   "execution_count": 1,
   "id": "76fbcc87",
   "metadata": {},
   "outputs": [],
   "source": [
    "# 7. Accept the following from the user and calculate the percentage of class attended:\n",
    "#    a. Total number of working days\n",
    "#    b. Total number of days for present\n",
    "#    After calculating percentage show that, If the percentage is less than 75, than student will not be able to sit in exam."
   ]
  },
  {
   "cell_type": "code",
   "execution_count": 2,
   "id": "ec40412d",
   "metadata": {},
   "outputs": [
    {
     "name": "stdout",
     "output_type": "stream",
     "text": [
      "To check student will be able to sit in exam?\n",
      "Enter Total number of working days = 365\n",
      "Enter Total number of days for present = 200\n",
      "54.79 % Sorry , You are not eligible for EXAM because your attendance below 75%\n"
     ]
    }
   ],
   "source": [
    "print(\"To check student will be able to sit in exam?\")\n",
    "\n",
    "td = int(input(\"Enter Total number of working days = \"))\n",
    "pd = int(input(\"Enter Total number of days for present = \"))\n",
    "\n",
    "percentage = (pd/td) * 100\n",
    "\n",
    "if percentage >= 75:\n",
    "    print(\"Yes , You are eligible for EXAM\")\n",
    "else:\n",
    "    print(\"%.2f\" %percentage,\"% Sorry , You are not eligible for EXAM because your attendance below 75%\")"
   ]
  },
  {
   "cell_type": "code",
   "execution_count": null,
   "id": "6592b032",
   "metadata": {},
   "outputs": [],
   "source": []
  },
  {
   "cell_type": "code",
   "execution_count": null,
   "id": "6fb92496",
   "metadata": {},
   "outputs": [],
   "source": []
  },
  {
   "cell_type": "code",
   "execution_count": 3,
   "id": "dfd06ffb",
   "metadata": {},
   "outputs": [],
   "source": [
    "# 10. Accept any city from the user and display monument of that city.\n",
    "#                  City                                 Monument\n",
    "#                  Delhi                               Red Fort\n",
    "#                  Agra                                Taj Mahal\n",
    "#                  Jaipur                              Jal Mahal"
   ]
  },
  {
   "cell_type": "code",
   "execution_count": 4,
   "id": "02506d24",
   "metadata": {},
   "outputs": [
    {
     "name": "stdout",
     "output_type": "stream",
     "text": [
      "Enter the city name to check monument of the city = Agra\n",
      "Monument of the Agra city is  'TAJ MAHAL'.\n"
     ]
    }
   ],
   "source": [
    "city = input(\"Enter the city name to check monument of the city = \")\n",
    "c = city.capitalize()\n",
    "\n",
    "if \"Delhi\" == c:\n",
    "    print(\"Monument of the Delhi city is  'RED FORT'.\")\n",
    "elif \"Agra\" == c:\n",
    "    print(\"Monument of the Agra city is  'TAJ MAHAL'.\")\n",
    "elif \"Jaipur\" == c:\n",
    "    print(\"Monument of the Jaipur city is  'JAL MAHAL'.\")\n",
    "else:\n",
    "    print(\"Enter Valid City name Or Other City name.\")"
   ]
  },
  {
   "cell_type": "code",
   "execution_count": null,
   "id": "f2d660c9",
   "metadata": {},
   "outputs": [],
   "source": []
  }
 ],
 "metadata": {
  "kernelspec": {
   "display_name": "Python 3 (ipykernel)",
   "language": "python",
   "name": "python3"
  },
  "language_info": {
   "codemirror_mode": {
    "name": "ipython",
    "version": 3
   },
   "file_extension": ".py",
   "mimetype": "text/x-python",
   "name": "python",
   "nbconvert_exporter": "python",
   "pygments_lexer": "ipython3",
   "version": "3.9.7"
  }
 },
 "nbformat": 4,
 "nbformat_minor": 5
}
