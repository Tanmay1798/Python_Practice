{
 "cells": [
  {
   "cell_type": "code",
   "execution_count": 1,
   "id": "8ad578ef",
   "metadata": {},
   "outputs": [],
   "source": [
    "# 8. Check whether the letter is vowel or not"
   ]
  },
  {
   "cell_type": "code",
   "execution_count": 2,
   "id": "38a58415",
   "metadata": {},
   "outputs": [
    {
     "name": "stdout",
     "output_type": "stream",
     "text": [
      "Enter letter to check vowel or not = a\n",
      "a is vowel.\n"
     ]
    }
   ],
   "source": [
    "v = input(\"Enter letter to check vowel or not = \")\n",
    "\n",
    "vowels = [\"A\",\"E\",\"I\",\"O\",\"U\",\"a\",\"e\",\"i\",\"o\",\"u\"]\n",
    "\n",
    "if v in vowels:\n",
    "    print(v , \"is vowel.\")\n",
    "else:\n",
    "    print(v , \"is not vowel.\")"
   ]
  },
  {
   "cell_type": "code",
   "execution_count": null,
   "id": "1e0f014a",
   "metadata": {},
   "outputs": [],
   "source": []
  },
  {
   "cell_type": "code",
   "execution_count": null,
   "id": "93bd7aab",
   "metadata": {},
   "outputs": [],
   "source": []
  },
  {
   "cell_type": "code",
   "execution_count": 3,
   "id": "5c898881",
   "metadata": {},
   "outputs": [],
   "source": [
    "# 9. Write a program to accept the number from 1 to 7 and display the name of the day like 1 for sunday,2 for monday and so on."
   ]
  },
  {
   "cell_type": "code",
   "execution_count": 4,
   "id": "068cb639",
   "metadata": {},
   "outputs": [
    {
     "name": "stdout",
     "output_type": "stream",
     "text": [
      "Enter number between 1 to 7 to display the name of day = 5\n",
      "Thursday\n"
     ]
    }
   ],
   "source": [
    "num = int(input(\"Enter number between 1 to 7 to display the name of day = \"))\n",
    "\n",
    "if num == 1:\n",
    "    print(\"Sunday\")\n",
    "elif num == 2:\n",
    "    print(\"Monday\")\n",
    "elif num == 3:\n",
    "    print(\"Tuesday\")\n",
    "elif num == 4:\n",
    "    print(\"Wednesday\")\n",
    "elif num == 5:\n",
    "    print(\"Thursday\")\n",
    "elif num == 6:\n",
    "    print(\"Friday\")\n",
    "elif num == 7:\n",
    "    print(\"Saturday\")\n",
    "else:\n",
    "    print(\"Please enter valid number.\")"
   ]
  },
  {
   "cell_type": "code",
   "execution_count": null,
   "id": "ed72e8f2",
   "metadata": {},
   "outputs": [],
   "source": []
  },
  {
   "cell_type": "code",
   "execution_count": null,
   "id": "3f433678",
   "metadata": {},
   "outputs": [],
   "source": []
  },
  {
   "cell_type": "code",
   "execution_count": 5,
   "id": "b19bc980",
   "metadata": {},
   "outputs": [],
   "source": [
    "# 11. Check whether the person is eligible for voting or not."
   ]
  },
  {
   "cell_type": "code",
   "execution_count": 6,
   "id": "56f75009",
   "metadata": {},
   "outputs": [
    {
     "name": "stdout",
     "output_type": "stream",
     "text": [
      "To check you are eligible or not for voting\n",
      "Enter the age = 14\n",
      "Sorry, You are not Eligible for voting.\n"
     ]
    }
   ],
   "source": [
    "print(\"To check you are eligible or not for voting\")\n",
    "age = int(input(\"Enter the age = \"))\n",
    "\n",
    "if age >= 18:\n",
    "    print(\"You are Eligible for voting.\")\n",
    "else:\n",
    "    print(\"Sorry, You are not Eligible for voting.\")"
   ]
  },
  {
   "cell_type": "code",
   "execution_count": null,
   "id": "442fc02e",
   "metadata": {},
   "outputs": [],
   "source": []
  },
  {
   "cell_type": "code",
   "execution_count": null,
   "id": "dd66e48b",
   "metadata": {},
   "outputs": [],
   "source": []
  },
  {
   "cell_type": "code",
   "execution_count": 7,
   "id": "5aecee0e",
   "metadata": {},
   "outputs": [],
   "source": [
    "# 13. Check whether the figure is square or not by giving length and breadth"
   ]
  },
  {
   "cell_type": "code",
   "execution_count": 8,
   "id": "9b13ba02",
   "metadata": {},
   "outputs": [
    {
     "name": "stdout",
     "output_type": "stream",
     "text": [
      "To check figure is square or not\n",
      "Enter the length = 4\n",
      "Enter the breadth = 4\n",
      "This figure is a SQUARE\n"
     ]
    }
   ],
   "source": [
    "print(\"To check figure is square or not\")\n",
    "l = int(input(\"Enter the length = \"))\n",
    "b = int(input(\"Enter the breadth = \"))\n",
    "\n",
    "if l == b:\n",
    "    print(\"This figure is a SQUARE\")\n",
    "else:\n",
    "    print(\"This figure is NOT SQUARE\")"
   ]
  },
  {
   "cell_type": "code",
   "execution_count": null,
   "id": "49b16420",
   "metadata": {},
   "outputs": [],
   "source": []
  }
 ],
 "metadata": {
  "kernelspec": {
   "display_name": "Python 3 (ipykernel)",
   "language": "python",
   "name": "python3"
  },
  "language_info": {
   "codemirror_mode": {
    "name": "ipython",
    "version": 3
   },
   "file_extension": ".py",
   "mimetype": "text/x-python",
   "name": "python",
   "nbconvert_exporter": "python",
   "pygments_lexer": "ipython3",
   "version": "3.9.7"
  }
 },
 "nbformat": 4,
 "nbformat_minor": 5
}
