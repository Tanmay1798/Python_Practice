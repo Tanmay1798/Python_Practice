{
 "cells": [
  {
   "cell_type": "code",
   "execution_count": 1,
   "id": "80d9f1c5",
   "metadata": {},
   "outputs": [],
   "source": [
    "# 4. Accept three sides of triangle and check whether the triangle is possible or not."
   ]
  },
  {
   "cell_type": "code",
   "execution_count": 5,
   "id": "e56abaea",
   "metadata": {},
   "outputs": [
    {
     "name": "stdout",
     "output_type": "stream",
     "text": [
      "Enter 1st side = 15\n",
      "Enter 2nd side = 4\n",
      "Enter 3rd side = 2\n",
      "Sorry Triangle Not Possible.\n"
     ]
    }
   ],
   "source": [
    "a = int(input(\"Enter 1st side = \"))\n",
    "b = int(input(\"Enter 2nd side = \"))\n",
    "c = int(input(\"Enter 3rd side = \"))\n",
    "\n",
    "if a + b >= c and a + c >= b and b + c >= a:\n",
    "    print(\"Definately Triangle is possible.\")\n",
    "else:\n",
    "    print(\"Sorry Triangle Not Possible.\")"
   ]
  },
  {
   "cell_type": "code",
   "execution_count": null,
   "id": "ccf1b220",
   "metadata": {},
   "outputs": [],
   "source": []
  }
 ],
 "metadata": {
  "kernelspec": {
   "display_name": "Python 3 (ipykernel)",
   "language": "python",
   "name": "python3"
  },
  "language_info": {
   "codemirror_mode": {
    "name": "ipython",
    "version": 3
   },
   "file_extension": ".py",
   "mimetype": "text/x-python",
   "name": "python",
   "nbconvert_exporter": "python",
   "pygments_lexer": "ipython3",
   "version": "3.9.7"
  }
 },
 "nbformat": 4,
 "nbformat_minor": 5
}
