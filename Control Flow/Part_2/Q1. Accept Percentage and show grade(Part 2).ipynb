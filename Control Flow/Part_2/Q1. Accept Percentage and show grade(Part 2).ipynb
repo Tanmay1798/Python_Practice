{
 "cells": [
  {
   "cell_type": "code",
   "execution_count": null,
   "id": "0100385e",
   "metadata": {},
   "outputs": [],
   "source": [
    "# 1. Accept the percentage from the user and display the  grade according to the following criteria:\n",
    "\n",
    "#    Below 25 —- D\n",
    "#    25 to 45 —- C\n",
    "#    45 to 50 —- B\n",
    "#    50 to 60 –– B+\n",
    "#    60 to 80 —- A\n",
    "#    Above 80 –- A+"
   ]
  },
  {
   "cell_type": "code",
   "execution_count": 3,
   "id": "ceff15e3",
   "metadata": {},
   "outputs": [
    {
     "name": "stdout",
     "output_type": "stream",
     "text": [
      "To find your Grade you need to give percentage.\n",
      "Enter Percentage = 101\n",
      "Please Enter Valid Percentage.\n"
     ]
    }
   ],
   "source": [
    "print(\"To find your Grade you need to give percentage.\")\n",
    "p = int(input(\"Enter Percentage = \"))\n",
    "\n",
    "if p < 25:\n",
    "    print(\"Your Grade is 'D'\")\n",
    "elif p >= 25 and p < 45:\n",
    "    print(\"Your Grade is 'C'\")\n",
    "elif p >= 45 and p < 50:\n",
    "    print(\"Your Grade is 'B'\")\n",
    "elif p >= 50 and p < 60:\n",
    "    print(\"Your Grade is 'B+'\")\n",
    "elif p >= 60 and p < 80:\n",
    "    print(\"Your Grade is 'A'\")\n",
    "elif p >= 80 and p <= 100:\n",
    "    print(\"Your Grade is 'A+'\")\n",
    "else:\n",
    "    print(\"Please Enter Valid Percentage.\")"
   ]
  },
  {
   "cell_type": "code",
   "execution_count": null,
   "id": "01711960",
   "metadata": {},
   "outputs": [],
   "source": []
  },
  {
   "cell_type": "code",
   "execution_count": null,
   "id": "fdfe7900",
   "metadata": {},
   "outputs": [],
   "source": []
  },
  {
   "cell_type": "code",
   "execution_count": null,
   "id": "8e3a2ff8",
   "metadata": {},
   "outputs": [],
   "source": []
  }
 ],
 "metadata": {
  "kernelspec": {
   "display_name": "Python 3 (ipykernel)",
   "language": "python",
   "name": "python3"
  },
  "language_info": {
   "codemirror_mode": {
    "name": "ipython",
    "version": 3
   },
   "file_extension": ".py",
   "mimetype": "text/x-python",
   "name": "python",
   "nbconvert_exporter": "python",
   "pygments_lexer": "ipython3",
   "version": "3.9.7"
  }
 },
 "nbformat": 4,
 "nbformat_minor": 5
}
