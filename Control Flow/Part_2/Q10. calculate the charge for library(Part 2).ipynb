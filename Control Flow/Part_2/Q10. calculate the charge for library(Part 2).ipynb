{
 "cells": [
  {
   "cell_type": "code",
   "execution_count": 1,
   "id": "3f0db8a2",
   "metadata": {},
   "outputs": [],
   "source": [
    "# 10. Accept the number of days from the user and \n",
    "#     calculate the charge for library according to following :\n",
    "\n",
    "# Till 05  days  : Rs 2/day\n",
    "# 6 to 10  days  : Rs 3/day\n",
    "# 11 to 15 days  : Rs 4/day\n",
    "# After 15 days  : Rs 5/day"
   ]
  },
  {
   "cell_type": "code",
   "execution_count": 1,
   "id": "88c709af",
   "metadata": {},
   "outputs": [
    {
     "name": "stdout",
     "output_type": "stream",
     "text": [
      "Enter how many days = 7\n",
      "You need to pay 21 Rs.\n"
     ]
    }
   ],
   "source": [
    "days = int(input(\"Enter how many days = \"))\n",
    "\n",
    "if days > 0 and days <= 5:\n",
    "    print(\"You need to pay\",days*2,\"Rs.\")\n",
    "elif days >= 6 and days <= 10:\n",
    "    print(\"You need to pay\",days*3,\"Rs.\")\n",
    "elif days >= 11 and days <= 15:\n",
    "    print(\"You need to pay\",days*4,\"Rs.\")\n",
    "elif days >= 15:\n",
    "    print(\"You need to pay\",days*5,\"Rs.\")\n",
    "else:\n",
    "    print(\"Enter Valid Input\")"
   ]
  },
  {
   "cell_type": "code",
   "execution_count": null,
   "id": "b8de0bb4",
   "metadata": {},
   "outputs": [],
   "source": []
  }
 ],
 "metadata": {
  "kernelspec": {
   "display_name": "Python 3 (ipykernel)",
   "language": "python",
   "name": "python3"
  },
  "language_info": {
   "codemirror_mode": {
    "name": "ipython",
    "version": 3
   },
   "file_extension": ".py",
   "mimetype": "text/x-python",
   "name": "python",
   "nbconvert_exporter": "python",
   "pygments_lexer": "ipython3",
   "version": "3.9.7"
  }
 },
 "nbformat": 4,
 "nbformat_minor": 5
}
