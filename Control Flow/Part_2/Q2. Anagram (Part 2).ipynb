{
 "cells": [
  {
   "cell_type": "code",
   "execution_count": 1,
   "id": "516ccd9f",
   "metadata": {},
   "outputs": [],
   "source": [
    "# 2. Check if two strings are anagram or not. (care = race)"
   ]
  },
  {
   "cell_type": "code",
   "execution_count": 6,
   "id": "b62c3581",
   "metadata": {},
   "outputs": [
    {
     "name": "stdout",
     "output_type": "stream",
     "text": [
      "Enter 1st string = care\n",
      "Enter 2nd string = mare\n",
      "Its not an anagram.\n"
     ]
    }
   ],
   "source": [
    "s1 = input(\"Enter 1st string = \")\n",
    "s2 = input(\"Enter 2nd string = \")\n",
    "\n",
    "\n",
    "if len(s1) == len(s2):\n",
    "    if sorted(s1) == sorted(s2):\n",
    "        print(\"Its an anagram.\")\n",
    "    else:\n",
    "        print(\"Its not an anagram.\")\n",
    "else:\n",
    "    print(\"Its not an anagram.\")"
   ]
  },
  {
   "cell_type": "code",
   "execution_count": null,
   "id": "7b087470",
   "metadata": {},
   "outputs": [],
   "source": []
  },
  {
   "cell_type": "code",
   "execution_count": null,
   "id": "d9784e28",
   "metadata": {},
   "outputs": [],
   "source": []
  }
 ],
 "metadata": {
  "kernelspec": {
   "display_name": "Python 3 (ipykernel)",
   "language": "python",
   "name": "python3"
  },
  "language_info": {
   "codemirror_mode": {
    "name": "ipython",
    "version": 3
   },
   "file_extension": ".py",
   "mimetype": "text/x-python",
   "name": "python",
   "nbconvert_exporter": "python",
   "pygments_lexer": "ipython3",
   "version": "3.9.7"
  }
 },
 "nbformat": 4,
 "nbformat_minor": 5
}
