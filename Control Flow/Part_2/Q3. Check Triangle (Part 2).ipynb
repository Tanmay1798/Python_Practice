{
 "cells": [
  {
   "cell_type": "code",
   "execution_count": 1,
   "id": "daa91ae1",
   "metadata": {},
   "outputs": [],
   "source": [
    "# 3. Accept three sides of a triangle and check whether it is an equilateral, isosceles or scalene triangle."
   ]
  },
  {
   "cell_type": "code",
   "execution_count": 4,
   "id": "baac38b3",
   "metadata": {},
   "outputs": [
    {
     "name": "stdout",
     "output_type": "stream",
     "text": [
      "Enter 1st side = 4\n",
      "Enter 2nd side = 5\n",
      "Enter 3rd side = 6\n",
      "Its a Scalene Triangle.\n"
     ]
    }
   ],
   "source": [
    "x = int(input(\"Enter 1st side = \"))\n",
    "y = int(input(\"Enter 2nd side = \"))\n",
    "z = int(input(\"Enter 3rd side = \"))\n",
    "\n",
    "if x == y == z:\n",
    "    print(\"Its an Equilateral Triangle.\")\n",
    "elif x == y or x == z or y == z:\n",
    "    print(\"Its an Isosceles Triangle.\")\n",
    "else:\n",
    "    print(\"Its a Scalene Triangle.\")"
   ]
  },
  {
   "cell_type": "code",
   "execution_count": null,
   "id": "5c9d07fc",
   "metadata": {},
   "outputs": [],
   "source": []
  }
 ],
 "metadata": {
  "kernelspec": {
   "display_name": "Python 3 (ipykernel)",
   "language": "python",
   "name": "python3"
  },
  "language_info": {
   "codemirror_mode": {
    "name": "ipython",
    "version": 3
   },
   "file_extension": ".py",
   "mimetype": "text/x-python",
   "name": "python",
   "nbconvert_exporter": "python",
   "pygments_lexer": "ipython3",
   "version": "3.9.7"
  }
 },
 "nbformat": 4,
 "nbformat_minor": 5
}
