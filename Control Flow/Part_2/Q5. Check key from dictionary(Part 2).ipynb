{
 "cells": [
  {
   "cell_type": "code",
   "execution_count": 1,
   "id": "afdf6cf1",
   "metadata": {},
   "outputs": [],
   "source": [
    "# 5. Check whether the given key is present in the dictionary or not"
   ]
  },
  {
   "cell_type": "code",
   "execution_count": 7,
   "id": "593fb122",
   "metadata": {},
   "outputs": [
    {
     "name": "stdout",
     "output_type": "stream",
     "text": [
      "{'a': 'Tanmay', 'b': 'Yash', 'c': 'Varun', 'd': 'Parth'}\n",
      "Enter key = b\n",
      "Key Exists\n"
     ]
    }
   ],
   "source": [
    "dict = {\"a\":\"Tanmay\" , \"b\":\"Yash\" , \"c\":\"Varun\" , \"d\":\"Parth\"}\n",
    "print(dict)\n",
    "\n",
    "s = input(\"Enter key = \")\n",
    "\n",
    "if s in dict:\n",
    "    print(\"Key Exists\")\n",
    "else:\n",
    "    print(\"Key not Exists\")"
   ]
  },
  {
   "cell_type": "code",
   "execution_count": null,
   "id": "41731ba6",
   "metadata": {},
   "outputs": [],
   "source": []
  }
 ],
 "metadata": {
  "kernelspec": {
   "display_name": "Python 3 (ipykernel)",
   "language": "python",
   "name": "python3"
  },
  "language_info": {
   "codemirror_mode": {
    "name": "ipython",
    "version": 3
   },
   "file_extension": ".py",
   "mimetype": "text/x-python",
   "name": "python",
   "nbconvert_exporter": "python",
   "pygments_lexer": "ipython3",
   "version": "3.9.7"
  }
 },
 "nbformat": 4,
 "nbformat_minor": 5
}
