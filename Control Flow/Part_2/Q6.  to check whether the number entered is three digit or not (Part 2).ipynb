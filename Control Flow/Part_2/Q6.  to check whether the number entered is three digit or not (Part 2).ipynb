{
 "cells": [
  {
   "cell_type": "code",
   "execution_count": 1,
   "id": "666fc920",
   "metadata": {},
   "outputs": [],
   "source": [
    "# 6. Write a program to check whether the number entered is three digit or not"
   ]
  },
  {
   "cell_type": "code",
   "execution_count": 1,
   "id": "5e6746a4",
   "metadata": {},
   "outputs": [
    {
     "name": "stdout",
     "output_type": "stream",
     "text": [
      "Enter the number = 450\n",
      "Perfect , You enterd 3 digit number.\n"
     ]
    }
   ],
   "source": [
    "num = int(input(\"Enter the number = \"))\n",
    " \n",
    "if num >= 100  and  num <= 999:\n",
    "    print(\"Perfect , You enterd 3 digit number.\")\n",
    "else:\n",
    "    print(\"Sorry , You not enterd 3 digit number.\")"
   ]
  },
  {
   "cell_type": "code",
   "execution_count": null,
   "id": "c64eec07",
   "metadata": {},
   "outputs": [],
   "source": []
  }
 ],
 "metadata": {
  "kernelspec": {
   "display_name": "Python 3 (ipykernel)",
   "language": "python",
   "name": "python3"
  },
  "language_info": {
   "codemirror_mode": {
    "name": "ipython",
    "version": 3
   },
   "file_extension": ".py",
   "mimetype": "text/x-python",
   "name": "python",
   "nbconvert_exporter": "python",
   "pygments_lexer": "ipython3",
   "version": "3.9.7"
  }
 },
 "nbformat": 4,
 "nbformat_minor": 5
}
