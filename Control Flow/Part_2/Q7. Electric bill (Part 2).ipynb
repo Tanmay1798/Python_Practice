{
 "cells": [
  {
   "cell_type": "code",
   "execution_count": 1,
   "id": "8b76f8ac",
   "metadata": {},
   "outputs": [],
   "source": [
    "# 7. Accept the electric units from user and calculate the bill according to the following rates.\n",
    "\n",
    "# First 100 Units     :  Free\n",
    "# Next 200 Units      :  Rs 2 per unit.\n",
    "# Above 300 Units     :  Rs 5 per unit.\n",
    "\n",
    "# if number of unit is 500 then total bill = 0 +400 + 1000 = 1400"
   ]
  },
  {
   "cell_type": "code",
   "execution_count": 1,
   "id": "d426d4c6",
   "metadata": {},
   "outputs": [
    {
     "name": "stdout",
     "output_type": "stream",
     "text": [
      "Enter total units = 500\n",
      "Your bill amount is =  1400 Rs.\n"
     ]
    }
   ],
   "source": [
    "units = int(input(\"Enter total units = \"))\n",
    "\n",
    "if units <= 100:\n",
    "    print(\"Your bill amount is = 00 Rs.\")\n",
    "elif units > 100 and units <= 300:\n",
    "    a = (units - 100) * 2\n",
    "    print(\"Your bill amount is = \" ,a,\"Rs.\")\n",
    "elif units > 300:\n",
    "    b = ((200)*2) + ((units-300) * 5)\n",
    "    print(\"Your bill amount is = \" ,b,\"Rs.\")\n",
    "else:\n",
    "    print(\"Please Enter valid units\")"
   ]
  },
  {
   "cell_type": "code",
   "execution_count": null,
   "id": "d6004f5b",
   "metadata": {},
   "outputs": [],
   "source": []
  }
 ],
 "metadata": {
  "kernelspec": {
   "display_name": "Python 3 (ipykernel)",
   "language": "python",
   "name": "python3"
  },
  "language_info": {
   "codemirror_mode": {
    "name": "ipython",
    "version": 3
   },
   "file_extension": ".py",
   "mimetype": "text/x-python",
   "name": "python",
   "nbconvert_exporter": "python",
   "pygments_lexer": "ipython3",
   "version": "3.9.7"
  }
 },
 "nbformat": 4,
 "nbformat_minor": 5
}
