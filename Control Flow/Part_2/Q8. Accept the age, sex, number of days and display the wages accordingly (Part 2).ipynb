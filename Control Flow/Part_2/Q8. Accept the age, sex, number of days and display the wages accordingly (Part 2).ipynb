{
 "cells": [
  {
   "cell_type": "code",
   "execution_count": 1,
   "id": "3af570eb",
   "metadata": {},
   "outputs": [],
   "source": [
    "# 8. Accept the age, sex (‘M’, ‘F’), number of days and display the wages accordingly\n",
    "\n",
    "# \tAge\tSex\t\tWage/day\n",
    "# >=18 and <30\tM\t\t700\n",
    "# \t\tF\t\t750\n",
    "# \t\n",
    "\n",
    "# >=30 and <=40\tM\t\t800\n",
    "# \t\tF\t\t850\n",
    "# \t\n",
    "# Python if else\n",
    "# If age does not fall in any range then display the following message: “Enter appropriate age”"
   ]
  },
  {
   "cell_type": "code",
   "execution_count": 6,
   "id": "7ceacdc9",
   "metadata": {},
   "outputs": [
    {
     "name": "stdout",
     "output_type": "stream",
     "text": [
      "Enter age = 25\n",
      "Enter sex M/F = f\n",
      "Enter total days of work = 1\n",
      "Total wages is =  750 Rs.\n"
     ]
    }
   ],
   "source": [
    "age = int(input(\"Enter age = \"))\n",
    "sex = input(\"Enter sex M/F = \")\n",
    "days = int(input(\"Enter total days of work = \"))\n",
    "s = sex.capitalize()\n",
    "\n",
    "if age >= 18 and age < 30 and s == \"M\":\n",
    "    a1 = days * 700\n",
    "    print(\"Total wages is = \",a1,\"Rs.\")\n",
    "elif age >= 18 and age < 30 and s == \"F\":\n",
    "    a2 = days * 750\n",
    "    print(\"Total wages is = \",a2,\"Rs.\")\n",
    "elif age >= 30 and age <= 40 and s == \"M\":\n",
    "    a3 = days * 800\n",
    "    print(\"Total wages is = \",a3,\"Rs.\")\n",
    "elif age >= 30 and age <= 40 and s == \"F\":\n",
    "    a4 = days * 850\n",
    "    print(\"Total wages is = \",a4,\"Rs.\")\n",
    "else:\n",
    "    print(\"Please Enter Appropriate age and details.\")"
   ]
  },
  {
   "cell_type": "code",
   "execution_count": null,
   "id": "b0143af2",
   "metadata": {},
   "outputs": [],
   "source": []
  },
  {
   "cell_type": "code",
   "execution_count": null,
   "id": "8f42145d",
   "metadata": {},
   "outputs": [],
   "source": []
  }
 ],
 "metadata": {
  "kernelspec": {
   "display_name": "Python 3 (ipykernel)",
   "language": "python",
   "name": "python3"
  },
  "language_info": {
   "codemirror_mode": {
    "name": "ipython",
    "version": 3
   },
   "file_extension": ".py",
   "mimetype": "text/x-python",
   "name": "python",
   "nbconvert_exporter": "python",
   "pygments_lexer": "ipython3",
   "version": "3.9.7"
  }
 },
 "nbformat": 4,
 "nbformat_minor": 5
}
