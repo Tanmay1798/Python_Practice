{
 "cells": [
  {
   "cell_type": "code",
   "execution_count": 5,
   "id": "ad1e4219",
   "metadata": {},
   "outputs": [
    {
     "name": "stdout",
     "output_type": "stream",
     "text": [
      "Enter Your name = Tanmay\n",
      "Enter MARATHI subject marks out of 100 = 97\n",
      "Enter ENGLISH subject marks out of 100 = 99\n",
      "Enter HIN/SAN subject marks out of 100 = 98\n",
      "Enter MATHS   subject marks out of 100 = 65\n",
      "Enter SCIENCE subject marks out of 100 = 99\n",
      "Tanmay Congratulations , You passed with 'DISTINCTION' and you got 91.60 %\n"
     ]
    }
   ],
   "source": [
    "name = input(\"Enter Your name = \")\n",
    "\n",
    "s1 = int(input(\"Enter MARATHI subject marks out of 100 = \"))\n",
    "s2 = int(input(\"Enter ENGLISH subject marks out of 100 = \"))\n",
    "s3 = int(input(\"Enter HIN/SAN subject marks out of 100 = \"))\n",
    "s4 = int(input(\"Enter MATHS   subject marks out of 100 = \"))\n",
    "s5 = int(input(\"Enter SCIENCE subject marks out of 100 = \"))\n",
    "\n",
    "total = s1 + s2 + s3 + s4 + s5\n",
    "percentage = (total / 500) * 100\n",
    "if s1 >35 and s2 >35 and s3 >35 and s4 >35 and s5 >35:\n",
    "    if percentage >= 75 and percentage <= 100:\n",
    "        print(name,\"Congratulations , You passed with 'DISTINCTION' and you got\",\"%.2f\" %percentage,\"%\" )\n",
    "    elif percentage >= 60 and percentage < 75:\n",
    "        print(name,\"Congratulations , You passed with '1st CLASS' and you got\",\"%.2f\" %percentage,\"%\" )\n",
    "    elif percentage >= 50 and percentage < 60:\n",
    "        print(name,\"Congratulations , You passed with '2nd CLASS' and you got\",\"%.2f\" %percentage,\"%\" )\n",
    "    elif percentage >= 35 and percentage < 50:\n",
    "        print(name,\"Congratulations , You passed with '3rd CLASS' and you got\",\"%.2f\" %percentage,\"%\" )\n",
    "    else:\n",
    "        print(name,\"Sorry , YOU FAILED , DO Study well.\")\n",
    "else:\n",
    "    print(name,\"Sorry , YOU FAILED , DO Study well.\")"
   ]
  },
  {
   "cell_type": "code",
   "execution_count": null,
   "id": "f871f2e4",
   "metadata": {},
   "outputs": [],
   "source": []
  }
 ],
 "metadata": {
  "kernelspec": {
   "display_name": "Python 3 (ipykernel)",
   "language": "python",
   "name": "python3"
  },
  "language_info": {
   "codemirror_mode": {
    "name": "ipython",
    "version": 3
   },
   "file_extension": ".py",
   "mimetype": "text/x-python",
   "name": "python",
   "nbconvert_exporter": "python",
   "pygments_lexer": "ipython3",
   "version": "3.9.7"
  }
 },
 "nbformat": 4,
 "nbformat_minor": 5
}
