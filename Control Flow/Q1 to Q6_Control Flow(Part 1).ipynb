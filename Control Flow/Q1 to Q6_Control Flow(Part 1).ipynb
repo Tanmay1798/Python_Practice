{
 "cells": [
  {
   "cell_type": "code",
   "execution_count": 1,
   "id": "6faba811",
   "metadata": {},
   "outputs": [],
   "source": [
    "# 1.Check whether the number is divisible by 7"
   ]
  },
  {
   "cell_type": "code",
   "execution_count": 1,
   "id": "4fb89989",
   "metadata": {},
   "outputs": [
    {
     "name": "stdout",
     "output_type": "stream",
     "text": [
      "Enter the number = 49\n",
      "49 is Divisible by 7 👍  .\n"
     ]
    }
   ],
   "source": [
    "num = int(input(\"Enter the number = \"))\n",
    "\n",
    "if num % 7 == 0:\n",
    "    print(num, \"is Divisible by 7 \\U0001F44D  .\")\n",
    "else:\n",
    "    print(num, \"is Not Divisible by 7 \\U0001F44E  .\")"
   ]
  },
  {
   "cell_type": "code",
   "execution_count": null,
   "id": "4371039a",
   "metadata": {},
   "outputs": [],
   "source": []
  },
  {
   "cell_type": "code",
   "execution_count": null,
   "id": "06018a7a",
   "metadata": {},
   "outputs": [],
   "source": []
  },
  {
   "cell_type": "code",
   "execution_count": 2,
   "id": "a6663c36",
   "metadata": {},
   "outputs": [],
   "source": [
    "# 2. Check whether the given number is even or odd"
   ]
  },
  {
   "cell_type": "code",
   "execution_count": 3,
   "id": "47546914",
   "metadata": {},
   "outputs": [
    {
     "name": "stdout",
     "output_type": "stream",
     "text": [
      "Enter the number = 7\n",
      "7 number is ODD .\n"
     ]
    }
   ],
   "source": [
    "number = int(input(\"Enter the number = \"))\n",
    "\n",
    "if number % 2 == 0:\n",
    "    print(number, \"number is EVEN .\")\n",
    "else:\n",
    "    print(number, \"number is ODD .\")"
   ]
  },
  {
   "cell_type": "code",
   "execution_count": null,
   "id": "43c0e073",
   "metadata": {},
   "outputs": [],
   "source": []
  },
  {
   "cell_type": "code",
   "execution_count": null,
   "id": "cb00e3a0",
   "metadata": {},
   "outputs": [],
   "source": []
  },
  {
   "cell_type": "code",
   "execution_count": 4,
   "id": "8be031c7",
   "metadata": {},
   "outputs": [],
   "source": [
    "# 3. Check whether the given number is positive, negative or equal to zero."
   ]
  },
  {
   "cell_type": "code",
   "execution_count": 4,
   "id": "914a42f2",
   "metadata": {},
   "outputs": [
    {
     "name": "stdout",
     "output_type": "stream",
     "text": [
      "Enter the number = 77\n",
      "77 is Positive number.\n"
     ]
    }
   ],
   "source": [
    "n1 = int(input(\"Enter the number = \"))\n",
    "\n",
    "if n1 > 0:\n",
    "    print(n1, \"is Positive number.\")\n",
    "elif n1 < 0:\n",
    "    print(n1, \"is Negative number.\")\n",
    "else:\n",
    "    print(n1, \"ZEROOOOOO.\")"
   ]
  },
  {
   "cell_type": "code",
   "execution_count": null,
   "id": "d7eb25c7",
   "metadata": {},
   "outputs": [],
   "source": []
  },
  {
   "cell_type": "code",
   "execution_count": null,
   "id": "6ae7a064",
   "metadata": {},
   "outputs": [],
   "source": []
  },
  {
   "cell_type": "code",
   "execution_count": 5,
   "id": "6a0d66d2",
   "metadata": {},
   "outputs": [],
   "source": [
    "# 4. check whether 'a' is in 'Python' string or not"
   ]
  },
  {
   "cell_type": "code",
   "execution_count": 7,
   "id": "0b2069d3",
   "metadata": {},
   "outputs": [
    {
     "name": "stdout",
     "output_type": "stream",
     "text": [
      "Enter word = P\n",
      "P is Present in 'Python'.\n"
     ]
    }
   ],
   "source": [
    "s = input(\"Enter word = \")\n",
    "string = \"Python\"\n",
    "\n",
    "s1 = s.lower()\n",
    "s2 = string.lower()\n",
    "\n",
    "if s1 in s2:\n",
    "    print(s, \"is Present in 'Python'.\")\n",
    "else:\n",
    "    print(s, \"is Not Present in 'Python'.\")"
   ]
  },
  {
   "cell_type": "code",
   "execution_count": null,
   "id": "c80dc7df",
   "metadata": {},
   "outputs": [],
   "source": []
  },
  {
   "cell_type": "code",
   "execution_count": null,
   "id": "15b64214",
   "metadata": {},
   "outputs": [],
   "source": []
  },
  {
   "cell_type": "code",
   "execution_count": 8,
   "id": "c7d5b5da",
   "metadata": {},
   "outputs": [],
   "source": [
    "# 5. Find the largest number among three number with user input"
   ]
  },
  {
   "cell_type": "code",
   "execution_count": 1,
   "id": "a5cf7d85",
   "metadata": {},
   "outputs": [
    {
     "name": "stdout",
     "output_type": "stream",
     "text": [
      "To Find the largest number among 3 number\n",
      "Enter 1st number = 4\n",
      "Enter 2nd number = 5\n",
      "Enter 3rd number = 6\n",
      "The largest number is   6\n"
     ]
    }
   ],
   "source": [
    "print(\"To Find the largest number among 3 number\")\n",
    "\n",
    "n1 = int(input(\"Enter 1st number = \"))\n",
    "n2 = int(input(\"Enter 2nd number = \"))\n",
    "n3 = int(input(\"Enter 3rd number = \"))\n",
    "\n",
    "if n1 > n2 and n1 > n3:\n",
    "    print(\"The largest number is  \",n1)\n",
    "elif n2 > n1 and n2 > n3:\n",
    "    print(\"The largest number is  \",n2)\n",
    "else:\n",
    "    print(\"The largest number is  \",n3)"
   ]
  },
  {
   "cell_type": "code",
   "execution_count": null,
   "id": "72246992",
   "metadata": {},
   "outputs": [],
   "source": []
  },
  {
   "cell_type": "code",
   "execution_count": null,
   "id": "13a266f6",
   "metadata": {},
   "outputs": [],
   "source": []
  },
  {
   "cell_type": "code",
   "execution_count": 2,
   "id": "8d0deec2",
   "metadata": {},
   "outputs": [],
   "source": [
    "# 6.Check whether year is leap year or not"
   ]
  },
  {
   "cell_type": "code",
   "execution_count": 4,
   "id": "b8de0c3c",
   "metadata": {},
   "outputs": [
    {
     "name": "stdout",
     "output_type": "stream",
     "text": [
      "To check leap year or Not\n",
      "Enter Year = 1700\n",
      "1700 is not leap year.\n"
     ]
    }
   ],
   "source": [
    "print(\"To check leap year or Not\")\n",
    "\n",
    "year = int(input(\"Enter Year = \"))\n",
    "\n",
    "if (year % 400 == 0) and (year % 100 == 0):\n",
    "    print(year , \"is leap year.\")\n",
    "elif (year % 4 ==0) and (year % 100 != 0):\n",
    "    print(year , \"is leap year.\")\n",
    "else:\n",
    "    print(year , \"is not leap year.\")"
   ]
  },
  {
   "cell_type": "code",
   "execution_count": null,
   "id": "4d184517",
   "metadata": {},
   "outputs": [],
   "source": []
  }
 ],
 "metadata": {
  "kernelspec": {
   "display_name": "Python 3 (ipykernel)",
   "language": "python",
   "name": "python3"
  },
  "language_info": {
   "codemirror_mode": {
    "name": "ipython",
    "version": 3
   },
   "file_extension": ".py",
   "mimetype": "text/x-python",
   "name": "python",
   "nbconvert_exporter": "python",
   "pygments_lexer": "ipython3",
   "version": "3.9.7"
  }
 },
 "nbformat": 4,
 "nbformat_minor": 5
}
