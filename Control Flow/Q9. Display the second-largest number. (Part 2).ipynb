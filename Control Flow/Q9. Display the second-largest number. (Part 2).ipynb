{
 "cells": [
  {
   "cell_type": "code",
   "execution_count": 1,
   "id": "250a7d02",
   "metadata": {},
   "outputs": [],
   "source": [
    "# 9.  Accept three numbers from the user and display the second largest number."
   ]
  },
  {
   "cell_type": "code",
   "execution_count": 1,
   "id": "22daf27c",
   "metadata": {},
   "outputs": [
    {
     "name": "stdout",
     "output_type": "stream",
     "text": [
      "Enter 1st number = 11\n",
      "Enter 2nd number = 12\n",
      "Enter 3rd number = 13\n",
      "Second Largest number is  12\n"
     ]
    }
   ],
   "source": [
    "num1 = int(input(\"Enter 1st number = \"))\n",
    "num2 = int(input(\"Enter 2nd number = \"))\n",
    "num3 = int(input(\"Enter 3rd number = \"))\n",
    "\n",
    "if num1 > num2 and num1 > num3:\n",
    "    if num2 > num3:\n",
    "        print(\"Second Largest number is \",num2)\n",
    "    else:\n",
    "        print(\"Second Largest number is \",num3)\n",
    "        \n",
    "elif num2 > num1 and num2 > num3:\n",
    "    if num1 > num3:\n",
    "        print(\"Second Largest number is \",num1)\n",
    "    else:\n",
    "        print(\"Second Largest number is \",num3)\n",
    "        \n",
    "else:\n",
    "    if num1 > num2:\n",
    "        print(\"Second Largest number is \",num1)\n",
    "    else:\n",
    "        print(\"Second Largest number is \",num2)"
   ]
  },
  {
   "cell_type": "code",
   "execution_count": null,
   "id": "feada466",
   "metadata": {},
   "outputs": [],
   "source": []
  }
 ],
 "metadata": {
  "kernelspec": {
   "display_name": "Python 3 (ipykernel)",
   "language": "python",
   "name": "python3"
  },
  "language_info": {
   "codemirror_mode": {
    "name": "ipython",
    "version": 3
   },
   "file_extension": ".py",
   "mimetype": "text/x-python",
   "name": "python",
   "nbconvert_exporter": "python",
   "pygments_lexer": "ipython3",
   "version": "3.9.7"
  }
 },
 "nbformat": 4,
 "nbformat_minor": 5
}
