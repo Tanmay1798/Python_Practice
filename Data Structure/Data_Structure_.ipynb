{
 "cells": [
  {
   "cell_type": "code",
   "execution_count": 1,
   "id": "49f97e40",
   "metadata": {},
   "outputs": [],
   "source": [
    "# 1. Make new list from two existing list which contain duplicate values ,  output should be unique."
   ]
  },
  {
   "cell_type": "code",
   "execution_count": 3,
   "id": "04856ccd",
   "metadata": {},
   "outputs": [
    {
     "name": "stdout",
     "output_type": "stream",
     "text": [
      "[1, 2, 3, 4, 5, 6, 2, 1, 4, 5, 3, 1, 1, 2, 3, 1, 2, 3, 4, 5, 6, 1, 2, 5]\n"
     ]
    }
   ],
   "source": [
    "a1 = [1,2,3,4,5,6,2,1,4,5,3,1]\n",
    "a2 = [1,2,3,1,2,3,4,5,6,1,2,5]\n",
    "\n",
    "c = a1 + a2\n",
    "print(c)"
   ]
  },
  {
   "cell_type": "code",
   "execution_count": 5,
   "id": "890ab1b9",
   "metadata": {},
   "outputs": [],
   "source": [
    "c1 = set((c))"
   ]
  },
  {
   "cell_type": "code",
   "execution_count": 6,
   "id": "c228d0a7",
   "metadata": {},
   "outputs": [
    {
     "name": "stdout",
     "output_type": "stream",
     "text": [
      "Answer is =  [1, 2, 3, 4, 5, 6]\n"
     ]
    }
   ],
   "source": [
    "ans = list((c1))\n",
    "print(\"Answer is = \",ans)"
   ]
  },
  {
   "cell_type": "code",
   "execution_count": null,
   "id": "f93bbeb9",
   "metadata": {},
   "outputs": [],
   "source": []
  },
  {
   "cell_type": "code",
   "execution_count": null,
   "id": "380f6b38",
   "metadata": {},
   "outputs": [],
   "source": []
  },
  {
   "cell_type": "code",
   "execution_count": null,
   "id": "0535cb83",
   "metadata": {},
   "outputs": [],
   "source": []
  },
  {
   "cell_type": "code",
   "execution_count": 7,
   "id": "6f7bc87c",
   "metadata": {},
   "outputs": [],
   "source": [
    "# 2. Find unique tuple from existing tuple which contains lot of duplicate values."
   ]
  },
  {
   "cell_type": "code",
   "execution_count": 8,
   "id": "614965f4",
   "metadata": {},
   "outputs": [],
   "source": [
    "b1 = (1,2,1,2,3,1,4,5,6,1,2,1,2,3,4,3,1,3,1,3,1,2,3,1,3,1,4)\n",
    "\n",
    "b2 = set((b1))\n",
    "\n",
    "b3 = tuple((b2))"
   ]
  },
  {
   "cell_type": "code",
   "execution_count": 9,
   "id": "4f62e296",
   "metadata": {},
   "outputs": [
    {
     "name": "stdout",
     "output_type": "stream",
     "text": [
      "Answer is =  (1, 2, 3, 4, 5, 6)\n"
     ]
    }
   ],
   "source": [
    "print(\"Answer is = \",b3)"
   ]
  },
  {
   "cell_type": "code",
   "execution_count": null,
   "id": "3fc1f48c",
   "metadata": {},
   "outputs": [],
   "source": []
  },
  {
   "cell_type": "code",
   "execution_count": null,
   "id": "4529b82b",
   "metadata": {},
   "outputs": [],
   "source": []
  },
  {
   "cell_type": "code",
   "execution_count": null,
   "id": "70042139",
   "metadata": {},
   "outputs": [],
   "source": []
  },
  {
   "cell_type": "code",
   "execution_count": 18,
   "id": "f66bbbd0",
   "metadata": {},
   "outputs": [],
   "source": [
    "# 3.     A = [1,2,3,4,5]\n",
    "#        B = [1,6,7,8]\n",
    "#        C = [8,9,10]\n",
    "\n",
    "#        Expected output : [1,2,3,4,5,6,7,8,9,10] & [1,8] \n"
   ]
  },
  {
   "cell_type": "code",
   "execution_count": 15,
   "id": "fac998fd",
   "metadata": {},
   "outputs": [],
   "source": [
    "A = [1,2,3,4,5]\n",
    "B = [1,6,7,8]\n",
    "C = [8,9,10]"
   ]
  },
  {
   "cell_type": "code",
   "execution_count": 16,
   "id": "1121a740",
   "metadata": {},
   "outputs": [],
   "source": [
    "D = A + B + C\n",
    "\n",
    "E = set((D))\n",
    "\n",
    "Ans = list((E))"
   ]
  },
  {
   "cell_type": "code",
   "execution_count": 17,
   "id": "80187194",
   "metadata": {},
   "outputs": [
    {
     "name": "stdout",
     "output_type": "stream",
     "text": [
      "Answer is =  [1, 2, 3, 4, 5, 6, 7, 8, 9, 10]\n"
     ]
    }
   ],
   "source": [
    "print(\"Answer is = \",Ans)"
   ]
  },
  {
   "cell_type": "code",
   "execution_count": null,
   "id": "35061c5f",
   "metadata": {},
   "outputs": [],
   "source": []
  },
  {
   "cell_type": "code",
   "execution_count": null,
   "id": "5cab9c6b",
   "metadata": {},
   "outputs": [],
   "source": []
  },
  {
   "cell_type": "code",
   "execution_count": 19,
   "id": "9e9abf9a",
   "metadata": {},
   "outputs": [],
   "source": [
    "A1 = set((A))\n",
    "B1 = set((B))\n",
    "C1 = set((C))\n",
    "\n",
    "D1 = A1 & B1\n",
    "D2 = B1 & C1\n",
    "\n",
    "E1 = list((D1))\n",
    "E2 = list((D2))"
   ]
  },
  {
   "cell_type": "code",
   "execution_count": 20,
   "id": "b13df947",
   "metadata": {},
   "outputs": [
    {
     "name": "stdout",
     "output_type": "stream",
     "text": [
      "Answer is =  [1, 8]\n"
     ]
    }
   ],
   "source": [
    "Ans = E1 + E2\n",
    "\n",
    "print(\"Answer is = \",Ans)"
   ]
  },
  {
   "cell_type": "code",
   "execution_count": null,
   "id": "a309dce6",
   "metadata": {},
   "outputs": [],
   "source": []
  }
 ],
 "metadata": {
  "kernelspec": {
   "display_name": "Python 3 (ipykernel)",
   "language": "python",
   "name": "python3"
  },
  "language_info": {
   "codemirror_mode": {
    "name": "ipython",
    "version": 3
   },
   "file_extension": ".py",
   "mimetype": "text/x-python",
   "name": "python",
   "nbconvert_exporter": "python",
   "pygments_lexer": "ipython3",
   "version": "3.9.7"
  }
 },
 "nbformat": 4,
 "nbformat_minor": 5
}
