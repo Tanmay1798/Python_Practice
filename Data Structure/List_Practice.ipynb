{
 "cells": [
  {
   "cell_type": "code",
   "execution_count": 2,
   "id": "2a149e1d",
   "metadata": {},
   "outputs": [
    {
     "name": "stdout",
     "output_type": "stream",
     "text": [
      "['Tanmay', 23, 'IT', 'Thane']\n"
     ]
    }
   ],
   "source": [
    "# 1 . create list of your name , age , field , location using list constructor\n",
    "\n",
    "sample = list((\"Tanmay\", 23, \"IT\", \"Thane\"))\n",
    "print(sample)"
   ]
  },
  {
   "cell_type": "code",
   "execution_count": 3,
   "id": "c3f8b876",
   "metadata": {},
   "outputs": [
    {
     "name": "stdout",
     "output_type": "stream",
     "text": [
      "Your field is =  IT\n"
     ]
    }
   ],
   "source": [
    "# 2 . print only your field using index\n",
    "ans2 = sample[2]\n",
    "print(\"Your field is = \",ans2)"
   ]
  },
  {
   "cell_type": "code",
   "execution_count": 4,
   "id": "f7570834",
   "metadata": {},
   "outputs": [
    {
     "name": "stdout",
     "output_type": "stream",
     "text": [
      "Position of loctaion is =  3\n"
     ]
    }
   ],
   "source": [
    "# 3 . print the position of location element\n",
    "ans3 = sample.index(\"Thane\")\n",
    "print(\"Position of loctaion is = \",ans3)"
   ]
  },
  {
   "cell_type": "code",
   "execution_count": 9,
   "id": "fc20b2b3",
   "metadata": {},
   "outputs": [
    {
     "name": "stdout",
     "output_type": "stream",
     "text": [
      "Answer is =  ['IT']\n"
     ]
    }
   ],
   "source": [
    "# 4 . print element btw age and locaton ,using forward and backward indexing\n",
    "ans4 = sample[2:3]\n",
    "print(\"Answer is = \",ans4)"
   ]
  },
  {
   "cell_type": "code",
   "execution_count": 10,
   "id": "434f7675",
   "metadata": {},
   "outputs": [
    {
     "name": "stdout",
     "output_type": "stream",
     "text": [
      "Answer is = Pednekar\n"
     ]
    }
   ],
   "source": [
    "# 5 . replace the element of name with surname\n",
    "\n",
    "sample[0] = \"Pednekar\"\n",
    "ans5 = sample[0]\n",
    "\n",
    "print(\"Answer is =\",ans5)"
   ]
  },
  {
   "cell_type": "code",
   "execution_count": 11,
   "id": "cba3ca80",
   "metadata": {},
   "outputs": [
    {
     "name": "stdout",
     "output_type": "stream",
     "text": [
      "['Pednekar', 23, 'IT', 'Thane']\n"
     ]
    }
   ],
   "source": [
    "print(sample)"
   ]
  },
  {
   "cell_type": "code",
   "execution_count": 12,
   "id": "049c9223",
   "metadata": {},
   "outputs": [
    {
     "name": "stdout",
     "output_type": "stream",
     "text": [
      "ans6\n",
      "['Tanmay', 22, 'IT-software developer', 'Thane']\n"
     ]
    }
   ],
   "source": [
    "# 6 . replace the element of name ,age and field\n",
    "\n",
    "sample[0:3]=[\"Tanmay\",22,\"IT-software developer\"]\n",
    "print(\"ans6\")\n",
    "print(sample)"
   ]
  },
  {
   "cell_type": "code",
   "execution_count": 23,
   "id": "0ad86372",
   "metadata": {},
   "outputs": [
    {
     "name": "stdout",
     "output_type": "stream",
     "text": [
      "ans7=\n",
      "['Pednekar', 'IT-software developer', 'Thane']\n"
     ]
    }
   ],
   "source": [
    "# 7 . replace the element of name,age with only surname\n",
    "sample = [\"Tanmay\",22,\"IT-software developer\",\"Thane\"]\n",
    "sample[0:2]=[\"Pednekar\"]\n",
    "print(\"ans7=\")\n",
    "print(sample)"
   ]
  },
  {
   "cell_type": "code",
   "execution_count": 27,
   "id": "455002c1",
   "metadata": {},
   "outputs": [
    {
     "name": "stdout",
     "output_type": "stream",
     "text": [
      "ans 8 = ['Tanu', 'Pednekar', 'IT-software developer', 'Thane']\n"
     ]
    }
   ],
   "source": [
    "# 8 . replace the element of name with your nickname and surname' \n",
    "sample = [\"Pednekar\", \"IT-software developer\", \"Thane\"]\n",
    "sample[0:1] = [\"Tanu\",\"Pednekar\"]\n",
    "print(\"ans 8 =\",sample)"
   ]
  },
  {
   "cell_type": "code",
   "execution_count": null,
   "id": "60bff0f8",
   "metadata": {},
   "outputs": [],
   "source": [
    "# 9 . add your surname in the list after your first name"
   ]
  },
  {
   "cell_type": "code",
   "execution_count": 28,
   "id": "67e54d27",
   "metadata": {},
   "outputs": [
    {
     "name": "stdout",
     "output_type": "stream",
     "text": [
      "ans 10= ['Tanu', 'Pednekar', 'IT-software developer', 'Thane', 'photography']\n"
     ]
    }
   ],
   "source": [
    "# 10 . add your only one hobby at the end of the list\n",
    "sample.append(\"photography\")\n",
    "print(\"ans 10=\",sample)"
   ]
  },
  {
   "cell_type": "code",
   "execution_count": 32,
   "id": "85fec670",
   "metadata": {},
   "outputs": [
    {
     "name": "stdout",
     "output_type": "stream",
     "text": [
      "ans 11= ['Tanu', 'Pednekar', 'IT-software developer', 'Thane', 'photography', 'cricket', 'dance', 'reading']\n"
     ]
    }
   ],
   "source": [
    "# 11 . add your n-numbers of hobbies at the end of list\n",
    "sample= [\"Tanu\", \"Pednekar\", \"IT-software developer\", \"Thane\", \"photography\"]\n",
    "sample.extend([\"cricket\",\"dance\",\"reading\"])\n",
    "print(\"ans 11=\",sample)\n"
   ]
  },
  {
   "cell_type": "code",
   "execution_count": 33,
   "id": "bf58e0e8",
   "metadata": {},
   "outputs": [
    {
     "name": "stdout",
     "output_type": "stream",
     "text": [
      "ans 12 = ['Tanu', 'Pednekar', 'IT-software developer', 'photography', 'cricket', 'dance', 'reading']\n"
     ]
    }
   ],
   "source": [
    "# 12 . remove your location from list\n",
    "del sample[3]\n",
    "\n",
    "print(\"ans 12 =\" ,sample)"
   ]
  },
  {
   "cell_type": "code",
   "execution_count": 34,
   "id": "d7d65c1f",
   "metadata": {},
   "outputs": [],
   "source": [
    "sample.insert(2,23)"
   ]
  },
  {
   "cell_type": "code",
   "execution_count": 35,
   "id": "8b9eae90",
   "metadata": {},
   "outputs": [
    {
     "name": "stdout",
     "output_type": "stream",
     "text": [
      "['Tanu', 'Pednekar', 23, 'IT-software developer', 'photography', 'cricket', 'dance', 'reading']\n"
     ]
    }
   ],
   "source": [
    "print(sample)"
   ]
  },
  {
   "cell_type": "code",
   "execution_count": 39,
   "id": "63c3cef5",
   "metadata": {},
   "outputs": [
    {
     "name": "stdout",
     "output_type": "stream",
     "text": [
      "ans 13 =  ['Tanu', 'Pednekar', 'IT-software developer', 'photography', 'cricket', 'dance', 'reading']\n"
     ]
    }
   ],
   "source": [
    "# 13 . remove your age from list[using 2 methods]\n",
    "\n",
    "# method 1\n",
    "\n",
    "sample.remove(23)\n",
    "print(\"ans 13 = \",sample)"
   ]
  },
  {
   "cell_type": "code",
   "execution_count": 41,
   "id": "d7707714",
   "metadata": {},
   "outputs": [],
   "source": [
    "# method 2\n",
    "\n",
    "#    sample.pop(2)"
   ]
  },
  {
   "cell_type": "code",
   "execution_count": 44,
   "id": "527d61fd",
   "metadata": {},
   "outputs": [
    {
     "name": "stdout",
     "output_type": "stream",
     "text": [
      "ans 15 =  ['Tanu', 'Pednekar', 'IT-software developer', 'photography', 'cricket', 'dance']\n"
     ]
    }
   ],
   "source": [
    "# 14 . remove last element from the list\n",
    "sample = ['Tanu', 'Pednekar', 'IT-software developer', 'photography', 'cricket', 'dance', 'reading']\n",
    "sample.pop()\n",
    "print(\"ans 15 = \",sample)"
   ]
  },
  {
   "cell_type": "code",
   "execution_count": 45,
   "id": "114d3b8f",
   "metadata": {},
   "outputs": [
    {
     "name": "stdout",
     "output_type": "stream",
     "text": [
      "ans 15= []\n"
     ]
    }
   ],
   "source": [
    "# 15 . remove all element from the list(empty)\n",
    "sample.clear()\n",
    "print(\"ans 15=\",sample)"
   ]
  },
  {
   "cell_type": "code",
   "execution_count": 46,
   "id": "ba9961cf",
   "metadata": {},
   "outputs": [
    {
     "ename": "NameError",
     "evalue": "name 'sample' is not defined",
     "output_type": "error",
     "traceback": [
      "\u001b[1;31m---------------------------------------------------------------------------\u001b[0m",
      "\u001b[1;31mNameError\u001b[0m                                 Traceback (most recent call last)",
      "\u001b[1;32m~\\AppData\\Local\\Temp/ipykernel_6980/2974829138.py\u001b[0m in \u001b[0;36m<module>\u001b[1;34m\u001b[0m\n\u001b[0;32m      1\u001b[0m \u001b[1;31m# 16 . delete the list\u001b[0m\u001b[1;33m\u001b[0m\u001b[1;33m\u001b[0m\u001b[0m\n\u001b[0;32m      2\u001b[0m \u001b[1;32mdel\u001b[0m \u001b[0msample\u001b[0m\u001b[1;33m\u001b[0m\u001b[1;33m\u001b[0m\u001b[0m\n\u001b[1;32m----> 3\u001b[1;33m \u001b[0mprint\u001b[0m\u001b[1;33m(\u001b[0m\u001b[0msample\u001b[0m\u001b[1;33m)\u001b[0m\u001b[1;33m\u001b[0m\u001b[1;33m\u001b[0m\u001b[0m\n\u001b[0m",
      "\u001b[1;31mNameError\u001b[0m: name 'sample' is not defined"
     ]
    }
   ],
   "source": [
    "# 16 . delete the list\n",
    "del sample\n",
    "print(sample)"
   ]
  },
  {
   "cell_type": "code",
   "execution_count": 48,
   "id": "7b6ef9f2",
   "metadata": {},
   "outputs": [
    {
     "name": "stdout",
     "output_type": "stream",
     "text": [
      "ans 17= length of list is  8\n"
     ]
    }
   ],
   "source": [
    "# 17 . create a list of prime numbers till 20 and find the length of it.\n",
    "\n",
    "new = [2, 3, 5, 7, 11, 13, 17, 19]\n",
    "a= len(new)\n",
    "print(\"ans 17= length of list is \",a)"
   ]
  },
  {
   "cell_type": "code",
   "execution_count": 71,
   "id": "d4982959",
   "metadata": {},
   "outputs": [
    {
     "name": "stdout",
     "output_type": "stream",
     "text": [
      "ans18 =ascending [2, 5, 7, 12, 18]\n",
      "ans18 =descending [18, 12, 7, 5, 2]\n"
     ]
    }
   ],
   "source": [
    "# 18 . create a list of 5,2,18,7,,12 and print in ascending and descending order\n",
    "old = [5,2,18,7,12]\n",
    "\n",
    "# method 1\n",
    "old.sort()\n",
    "print(\"ans18 =ascending\" ,old )\n",
    "\n",
    "old.reverse()\n",
    "print(\"ans18 =descending\" ,old )"
   ]
  },
  {
   "cell_type": "code",
   "execution_count": 55,
   "id": "5ead7173",
   "metadata": {},
   "outputs": [
    {
     "name": "stdout",
     "output_type": "stream",
     "text": [
      "ans18 =decending [18, 12, 7, 5, 2]\n"
     ]
    }
   ],
   "source": [
    "old = [5,2,18,7,12]\n",
    "\n",
    "# method 1\n",
    "old.sort(reverse=True)\n",
    "print(\"ans18 =decending\" ,old )"
   ]
  },
  {
   "cell_type": "code",
   "execution_count": 56,
   "id": "e34ba47f",
   "metadata": {},
   "outputs": [
    {
     "name": "stdout",
     "output_type": "stream",
     "text": [
      "ans 19 = [1, 2, 3, 4]\n",
      "ans 19 = [5, 6, 7, 8]\n"
     ]
    }
   ],
   "source": [
    "# 19 . merge two list\n",
    "\n",
    "a = [1,2]\n",
    "b = [3,4]\n",
    "c = [5,6]\n",
    "d = [7,8]\n",
    "\n",
    "ans   = a+b\n",
    "c.extend(d)\n",
    "print(\"ans 19 =\",ans)\n",
    "print(\"ans 19 =\",c)"
   ]
  },
  {
   "cell_type": "code",
   "execution_count": 59,
   "id": "03a76768",
   "metadata": {},
   "outputs": [
    {
     "name": "stdout",
     "output_type": "stream",
     "text": [
      "[1, 2]\n"
     ]
    }
   ],
   "source": [
    "# 20 . make a deep copy of list and heck whether it is copying deeply or not\n",
    "\n",
    "a1 = [1,2]\n",
    "\n",
    "a2 = a1\n",
    "\n",
    "print(a2)"
   ]
  },
  {
   "cell_type": "code",
   "execution_count": 61,
   "id": "f20b3718",
   "metadata": {},
   "outputs": [],
   "source": [
    "a1.extend(c)"
   ]
  },
  {
   "cell_type": "code",
   "execution_count": 62,
   "id": "4f94d2f5",
   "metadata": {},
   "outputs": [
    {
     "name": "stdout",
     "output_type": "stream",
     "text": [
      "[1, 2, 5, 6, 7, 8]\n",
      "[1, 2, 5, 6, 7, 8]\n"
     ]
    }
   ],
   "source": [
    "print(a1)\n",
    "print(a2)"
   ]
  },
  {
   "cell_type": "code",
   "execution_count": null,
   "id": "7c37ada2",
   "metadata": {},
   "outputs": [],
   "source": []
  },
  {
   "cell_type": "code",
   "execution_count": 63,
   "id": "642877a8",
   "metadata": {},
   "outputs": [
    {
     "name": "stdout",
     "output_type": "stream",
     "text": [
      "[1, 2, 3]\n",
      "[1, 2, 3]\n"
     ]
    }
   ],
   "source": [
    "# 21  make a copy of list in that way  making changes in one list will not affect to the another list\n",
    "x1 = [1,2,3]\n",
    "x2 = x1.copy()\n",
    "print(x1)\n",
    "print(x2)"
   ]
  },
  {
   "cell_type": "code",
   "execution_count": 64,
   "id": "9da11302",
   "metadata": {},
   "outputs": [
    {
     "name": "stdout",
     "output_type": "stream",
     "text": [
      "[1, 2, 3, 0, 0]\n",
      "[1, 2, 3]\n"
     ]
    }
   ],
   "source": [
    "x3 = [0,0]\n",
    "x1.extend(x3)\n",
    "print(x1)\n",
    "print(x2)"
   ]
  },
  {
   "cell_type": "code",
   "execution_count": null,
   "id": "a4d25c2e",
   "metadata": {},
   "outputs": [],
   "source": []
  },
  {
   "cell_type": "code",
   "execution_count": 65,
   "id": "b1ff14b3",
   "metadata": {},
   "outputs": [
    {
     "name": "stdout",
     "output_type": "stream",
     "text": [
      "ans 23 = [(1, 'Tanmay', 22, 17), (2, 'Yash', 23, 18), (3, 'abc', 22, 19)]\n"
     ]
    }
   ],
   "source": [
    "# 23 . zip four list contain with natural number your name,age, rollno\n",
    "\n",
    "n = [1,2,3]\n",
    "name = [\"Tanmay\",\"Yash\",\"abc\"]\n",
    "age = [22,23,22]\n",
    "r_no = [17,18,19]\n",
    "\n",
    "details = zip(n,name,age,r_no)\n",
    "details = list(details)\n",
    "\n",
    "print(\"ans 23 =\" ,details)"
   ]
  },
  {
   "cell_type": "code",
   "execution_count": 67,
   "id": "35d9c4a6",
   "metadata": {},
   "outputs": [
    {
     "name": "stdout",
     "output_type": "stream",
     "text": [
      "(1, 2, 3)\n",
      "('Tanmay', 'Yash', 'abc')\n",
      "(22, 23, 22)\n",
      "(17, 18, 19)\n"
     ]
    }
   ],
   "source": [
    "# 24 . unzip \n",
    "\n",
    "n1,name1,age1,r_no1 = zip(*details)\n",
    "print(n1)\n",
    "print(name1)\n",
    "print(age1)\n",
    "print(r_no1)"
   ]
  },
  {
   "cell_type": "code",
   "execution_count": 68,
   "id": "54dbcb90",
   "metadata": {},
   "outputs": [
    {
     "data": {
      "text/plain": [
       "7"
      ]
     },
     "execution_count": 68,
     "metadata": {},
     "output_type": "execute_result"
    }
   ],
   "source": [
    "# stack and queue\n",
    "\n",
    "#stack \n",
    "s = [1,2,3,4,5,6]\n",
    "s.append(7)\n",
    "s.pop()"
   ]
  },
  {
   "cell_type": "code",
   "execution_count": 69,
   "id": "e547c0ee",
   "metadata": {},
   "outputs": [
    {
     "name": "stdout",
     "output_type": "stream",
     "text": [
      "[1, 2, 3, 5]\n"
     ]
    }
   ],
   "source": [
    "# queue\n",
    "q = [1,2,3]\n",
    "q.append(5)\n",
    "print(q)"
   ]
  },
  {
   "cell_type": "code",
   "execution_count": 70,
   "id": "28f03083",
   "metadata": {},
   "outputs": [
    {
     "data": {
      "text/plain": [
       "1"
      ]
     },
     "execution_count": 70,
     "metadata": {},
     "output_type": "execute_result"
    }
   ],
   "source": [
    "q.pop(0)"
   ]
  },
  {
   "cell_type": "code",
   "execution_count": null,
   "id": "0cbd0786",
   "metadata": {},
   "outputs": [],
   "source": []
  }
 ],
 "metadata": {
  "kernelspec": {
   "display_name": "Python 3 (ipykernel)",
   "language": "python",
   "name": "python3"
  },
  "language_info": {
   "codemirror_mode": {
    "name": "ipython",
    "version": 3
   },
   "file_extension": ".py",
   "mimetype": "text/x-python",
   "name": "python",
   "nbconvert_exporter": "python",
   "pygments_lexer": "ipython3",
   "version": "3.9.7"
  }
 },
 "nbformat": 4,
 "nbformat_minor": 5
}
