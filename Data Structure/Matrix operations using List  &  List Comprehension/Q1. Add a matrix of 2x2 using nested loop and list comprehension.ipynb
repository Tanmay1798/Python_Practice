{
 "cells": [
  {
   "cell_type": "code",
   "execution_count": 1,
   "id": "f8393fbd",
   "metadata": {},
   "outputs": [],
   "source": [
    "# 1. Add a matrix of 2*2 using nested loop and list comprehension\n",
    "\n",
    "# X = [[2, 4],\n",
    "#     [5, 6]]\n",
    "\n",
    "# Y = [[3, 1],\n",
    "#     [6, 2]]"
   ]
  },
  {
   "cell_type": "code",
   "execution_count": 6,
   "id": "9ead91f1",
   "metadata": {},
   "outputs": [
    {
     "name": "stdout",
     "output_type": "stream",
     "text": [
      "[5, 5]\n",
      "[11, 8]\n"
     ]
    }
   ],
   "source": [
    "X = [[2,4],\n",
    "     [5,6]]\n",
    "\n",
    "Y = [[3, 1],\n",
    "     [6, 2]]\n",
    "\n",
    "result = [[0,0],\n",
    "          [0,0]]\n",
    "for i in range (len(X)):\n",
    "    for j in range (len(X)):\n",
    "        result[i][j] += X[i][j] + Y[i][j]\n",
    "\n",
    "for r in result:\n",
    "    print(r)"
   ]
  },
  {
   "cell_type": "code",
   "execution_count": 13,
   "id": "a1da73b5",
   "metadata": {},
   "outputs": [
    {
     "name": "stdout",
     "output_type": "stream",
     "text": [
      "[5, 5]\n",
      "[11, 8]\n"
     ]
    }
   ],
   "source": [
    "x = [[2,4],\n",
    "     [5,6]]\n",
    "\n",
    "y = [[3, 1],\n",
    "     [6, 2]]\n",
    "\n",
    "res = [[0,0],\n",
    "       [0,0]]\n",
    "\n",
    "r = [[X[i][j] + Y[i][j] for j in range (len(X)) ] for i in range (len(X))]\n",
    "\n",
    "for a in r:\n",
    "    print(a)"
   ]
  },
  {
   "cell_type": "code",
   "execution_count": null,
   "id": "eb170526",
   "metadata": {},
   "outputs": [],
   "source": []
  }
 ],
 "metadata": {
  "kernelspec": {
   "display_name": "Python 3 (ipykernel)",
   "language": "python",
   "name": "python3"
  },
  "language_info": {
   "codemirror_mode": {
    "name": "ipython",
    "version": 3
   },
   "file_extension": ".py",
   "mimetype": "text/x-python",
   "name": "python",
   "nbconvert_exporter": "python",
   "pygments_lexer": "ipython3",
   "version": "3.9.7"
  }
 },
 "nbformat": 4,
 "nbformat_minor": 5
}
