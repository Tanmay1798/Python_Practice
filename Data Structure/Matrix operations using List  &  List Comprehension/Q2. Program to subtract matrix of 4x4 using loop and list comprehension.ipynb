{
 "cells": [
  {
   "cell_type": "code",
   "execution_count": 1,
   "id": "b730900e",
   "metadata": {},
   "outputs": [],
   "source": [
    "# 2. Program to substract matrix of 4*4 using loop and list comprehension\n",
    "\n",
    "# X = [[9, 8, 7, 6],\n",
    "#     [8, 7, 6, 5],\n",
    "#     [7, 6, 5, 4],\n",
    "#     [6, 5, 4, 3]]\n",
    "\n",
    "# Y = [[1, 2, 3, 4],\n",
    "#     [2, 3, 4, 5],\n",
    "#     [3, 4, 5, 6],\n",
    "#     [4, 5, 6, 7]]"
   ]
  },
  {
   "cell_type": "code",
   "execution_count": 5,
   "id": "d748a396",
   "metadata": {},
   "outputs": [
    {
     "name": "stdout",
     "output_type": "stream",
     "text": [
      "[8, 6, 4, 2]\n",
      "[6, 4, 2, 0]\n",
      "[4, 2, 0, -2]\n",
      "[2, 0, -2, -4]\n"
     ]
    }
   ],
   "source": [
    "X = [[9, 8, 7, 6],\n",
    "     [8, 7, 6, 5],\n",
    "     [7, 6, 5, 4],\n",
    "     [6, 5, 4, 3]]\n",
    "\n",
    "Y = [[1, 2, 3, 4],\n",
    "     [2, 3, 4, 5],\n",
    "     [3, 4, 5, 6],\n",
    "     [4, 5, 6, 7]]\n",
    "\n",
    "result = [[0,0,0,0],\n",
    "          [0,0,0,0],\n",
    "          [0,0,0,0],\n",
    "          [0,0,0,0]]\n",
    "\n",
    "for i in range (len(X)):\n",
    "    for j in range(len(X)):\n",
    "        result[i][j] = X[i][j] - Y[i][j]\n",
    "\n",
    "        \n",
    "for r in result:\n",
    "    print(r)"
   ]
  },
  {
   "cell_type": "code",
   "execution_count": 7,
   "id": "31cfc20c",
   "metadata": {},
   "outputs": [
    {
     "name": "stdout",
     "output_type": "stream",
     "text": [
      "[8, 6, 4, 2]\n",
      "[6, 4, 2, 0]\n",
      "[4, 2, 0, -2]\n",
      "[2, 0, -2, -4]\n"
     ]
    }
   ],
   "source": [
    "X = [[9, 8, 7, 6],\n",
    "     [8, 7, 6, 5],\n",
    "     [7, 6, 5, 4],\n",
    "     [6, 5, 4, 3]]\n",
    "\n",
    "Y = [[1, 2, 3, 4],\n",
    "     [2, 3, 4, 5],\n",
    "     [3, 4, 5, 6],\n",
    "     [4, 5, 6, 7]]\n",
    "\n",
    "result = [[0,0,0,0],\n",
    "          [0,0,0,0],\n",
    "          [0,0,0,0],\n",
    "          [0,0,0,0]]\n",
    "\n",
    "r = [[X[i][j] - Y[i][j] for j in range(len(X)) ]for i in range (len(X))]\n",
    "\n",
    "for a in r:\n",
    "    print(a)"
   ]
  },
  {
   "cell_type": "code",
   "execution_count": null,
   "id": "bbd320e3",
   "metadata": {},
   "outputs": [],
   "source": []
  }
 ],
 "metadata": {
  "kernelspec": {
   "display_name": "Python 3 (ipykernel)",
   "language": "python",
   "name": "python3"
  },
  "language_info": {
   "codemirror_mode": {
    "name": "ipython",
    "version": 3
   },
   "file_extension": ".py",
   "mimetype": "text/x-python",
   "name": "python",
   "nbconvert_exporter": "python",
   "pygments_lexer": "ipython3",
   "version": "3.9.7"
  }
 },
 "nbformat": 4,
 "nbformat_minor": 5
}
