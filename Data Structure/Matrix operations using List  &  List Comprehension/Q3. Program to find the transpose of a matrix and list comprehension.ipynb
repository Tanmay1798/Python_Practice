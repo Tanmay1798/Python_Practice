{
 "cells": [
  {
   "cell_type": "code",
   "execution_count": null,
   "id": "5f59e345",
   "metadata": {},
   "outputs": [],
   "source": [
    "# 3. Program to find the transpose of a matrix and list comprehension:\n",
    "# X =[[1, 2, 3],\n",
    "#    [2, 3, 4]]\n",
    "\n",
    "# result = [[0, 0],\n",
    "#          [0, 0],\n",
    "#          [0, 0]]"
   ]
  },
  {
   "cell_type": "code",
   "execution_count": 1,
   "id": "18b59fe3",
   "metadata": {},
   "outputs": [
    {
     "name": "stdout",
     "output_type": "stream",
     "text": [
      "[1, 2]\n",
      "[2, 3]\n",
      "[3, 4]\n"
     ]
    }
   ],
   "source": [
    "X =[[1, 2, 3],\n",
    "    [2, 3, 4]]\n",
    "\n",
    "result = [[0, 0],\n",
    "          [0, 0],\n",
    "          [0, 0]]\n",
    "\n",
    "for i in range(len(X)):\n",
    "   for j in range(len(X[0])):\n",
    "       result[j][i] = X[i][j]\n",
    "\n",
    "for r in result:\n",
    "   print(r)"
   ]
  },
  {
   "cell_type": "code",
   "execution_count": 5,
   "id": "0ee3e664",
   "metadata": {},
   "outputs": [
    {
     "name": "stdout",
     "output_type": "stream",
     "text": [
      "[1, 2]\n",
      "[2, 3]\n",
      "[3, 4]\n"
     ]
    }
   ],
   "source": [
    "X =[[1, 2, 3],\n",
    "    [2, 3, 4]]\n",
    "\n",
    "result = [[0, 0],\n",
    "          [0, 0],\n",
    "          [0, 0]]\n",
    "\n",
    "r = [[X[j][i] for j in range(len(X))] for i in range(len(X[0]))]\n",
    "\n",
    "for a in r:\n",
    "    print(a)"
   ]
  },
  {
   "cell_type": "code",
   "execution_count": null,
   "id": "7f6218d5",
   "metadata": {},
   "outputs": [],
   "source": []
  }
 ],
 "metadata": {
  "kernelspec": {
   "display_name": "Python 3 (ipykernel)",
   "language": "python",
   "name": "python3"
  },
  "language_info": {
   "codemirror_mode": {
    "name": "ipython",
    "version": 3
   },
   "file_extension": ".py",
   "mimetype": "text/x-python",
   "name": "python",
   "nbconvert_exporter": "python",
   "pygments_lexer": "ipython3",
   "version": "3.9.7"
  }
 },
 "nbformat": 4,
 "nbformat_minor": 5
}
