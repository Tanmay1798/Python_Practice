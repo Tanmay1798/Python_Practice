{
 "cells": [
  {
   "cell_type": "code",
   "execution_count": 1,
   "id": "e7fca6df",
   "metadata": {},
   "outputs": [],
   "source": [
    "# 4. Program to find the transpose of a matrix and list compehension:"
   ]
  },
  {
   "cell_type": "code",
   "execution_count": 2,
   "id": "e40a0ca0",
   "metadata": {},
   "outputs": [
    {
     "name": "stdout",
     "output_type": "stream",
     "text": [
      "[2, 4, 6]\n",
      "[3, 5, 7]\n",
      "[4, 6, 8]\n",
      "[5, 7, 9]\n"
     ]
    }
   ],
   "source": [
    "Y = [[2, 3, 4, 5],\n",
    "     [4, 5, 6, 7],\n",
    "     [6, 7, 8, 9]]\n",
    "\n",
    "result = [[0 , 0 , 0],\n",
    "          [0 , 0 , 0],\n",
    "          [0 , 0 , 0],\n",
    "          [0 , 0 , 0]]\n",
    "\n",
    "for i in range(len(Y)):\n",
    "    for j in range(len(Y[0])):\n",
    "        result[j][i] = Y[i][j]\n",
    "        \n",
    "for r in result:\n",
    "    print(r)"
   ]
  },
  {
   "cell_type": "code",
   "execution_count": null,
   "id": "2a76d989",
   "metadata": {},
   "outputs": [],
   "source": []
  },
  {
   "cell_type": "code",
   "execution_count": 4,
   "id": "fb7d5d52",
   "metadata": {},
   "outputs": [
    {
     "name": "stdout",
     "output_type": "stream",
     "text": [
      "[2, 4, 6]\n",
      "[3, 5, 7]\n",
      "[4, 6, 8]\n",
      "[5, 7, 9]\n"
     ]
    }
   ],
   "source": [
    "Y = [[2, 3, 4, 5],\n",
    "     [4, 5, 6, 7],\n",
    "     [6, 7, 8, 9]]\n",
    "\n",
    "r = [[Y[j][i] for j in range(len(Y))] for i in range(len(Y[0]))]\n",
    "\n",
    "for a in r:\n",
    "    print(a)"
   ]
  },
  {
   "cell_type": "code",
   "execution_count": null,
   "id": "cc82a163",
   "metadata": {},
   "outputs": [],
   "source": []
  }
 ],
 "metadata": {
  "kernelspec": {
   "display_name": "Python 3 (ipykernel)",
   "language": "python",
   "name": "python3"
  },
  "language_info": {
   "codemirror_mode": {
    "name": "ipython",
    "version": 3
   },
   "file_extension": ".py",
   "mimetype": "text/x-python",
   "name": "python",
   "nbconvert_exporter": "python",
   "pygments_lexer": "ipython3",
   "version": "3.9.7"
  }
 },
 "nbformat": 4,
 "nbformat_minor": 5
}
