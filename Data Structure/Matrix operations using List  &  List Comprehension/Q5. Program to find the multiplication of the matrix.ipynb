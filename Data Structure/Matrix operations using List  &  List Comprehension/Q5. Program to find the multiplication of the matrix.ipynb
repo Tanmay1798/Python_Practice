{
 "cells": [
  {
   "cell_type": "code",
   "execution_count": null,
   "id": "7eee934a",
   "metadata": {},
   "outputs": [],
   "source": [
    "# 5. Program to find the multiplication of the matrix\n",
    "\n",
    "#X = [[9, 8, 7, 6],\n",
    "#     [8, 7, 6, 5],\n",
    "#     [7, 6, 5, 4],\n",
    "#     [6, 5, 4, 3]]\n",
    "\n",
    "#Y = [[1, 2, 3, 4],\n",
    "#     [2, 3, 4, 5],\n",
    "#     [3, 4, 5, 6],\n",
    "#     [4, 5, 6, 7]]"
   ]
  },
  {
   "cell_type": "code",
   "execution_count": 3,
   "id": "1ac70299",
   "metadata": {},
   "outputs": [
    {
     "name": "stdout",
     "output_type": "stream",
     "text": [
      "[70, 100, 130, 160]\n",
      "[60, 86, 112, 138]\n",
      "[50, 72, 94, 116]\n",
      "[40, 58, 76, 94]\n"
     ]
    }
   ],
   "source": [
    "X = [[9, 8, 7, 6],\n",
    "     [8, 7, 6, 5],\n",
    "     [7, 6, 5, 4],\n",
    "     [6, 5, 4, 3]]\n",
    "\n",
    "Y = [[1, 2, 3, 4],\n",
    "     [2, 3, 4, 5],\n",
    "     [3, 4, 5, 6],\n",
    "     [4, 5, 6, 7]]\n",
    "\n",
    "result = [[0 , 0 , 0 , 0],\n",
    "          [0 , 0 , 0 , 0],\n",
    "          [0 , 0 , 0 , 0],\n",
    "          [0 , 0 , 0 , 0]]\n",
    "\n",
    "for i in range (len(X)):\n",
    "    for j in range (len(Y)):\n",
    "        for k in range (len(Y[0])):\n",
    "            result[i][j] += X[i][k] * Y[k][j]\n",
    "\n",
    "for r in result:\n",
    "    print(r)"
   ]
  },
  {
   "cell_type": "code",
   "execution_count": null,
   "id": "50ccfa35",
   "metadata": {},
   "outputs": [],
   "source": []
  }
 ],
 "metadata": {
  "kernelspec": {
   "display_name": "Python 3 (ipykernel)",
   "language": "python",
   "name": "python3"
  },
  "language_info": {
   "codemirror_mode": {
    "name": "ipython",
    "version": 3
   },
   "file_extension": ".py",
   "mimetype": "text/x-python",
   "name": "python",
   "nbconvert_exporter": "python",
   "pygments_lexer": "ipython3",
   "version": "3.9.7"
  }
 },
 "nbformat": 4,
 "nbformat_minor": 5
}
