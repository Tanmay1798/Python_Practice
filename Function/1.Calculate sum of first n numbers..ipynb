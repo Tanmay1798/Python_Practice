{
 "cells": [
  {
   "cell_type": "code",
   "execution_count": null,
   "id": "2e8157b0",
   "metadata": {},
   "outputs": [],
   "source": [
    "# 2. Calculate sum of first n numbers."
   ]
  },
  {
   "cell_type": "code",
   "execution_count": 1,
   "id": "8bec8974",
   "metadata": {},
   "outputs": [
    {
     "name": "stdout",
     "output_type": "stream",
     "text": [
      "Enter number = 20\n",
      "Total sum upto 20 is =  210\n"
     ]
    }
   ],
   "source": [
    "def sum(n):\n",
    "    if n <= 1:\n",
    "        return n\n",
    "    else:\n",
    "        return n + sum(n-1)\n",
    "    \n",
    "num = int(input(\"Enter number = \"))\n",
    "\n",
    "if num < 1 :\n",
    "    print(\"Please Enter Positive Number\")\n",
    "else:\n",
    "    print(\"Total sum upto\",num, \"is = \" ,sum(num))"
   ]
  },
  {
   "cell_type": "code",
   "execution_count": null,
   "id": "23e290d5",
   "metadata": {},
   "outputs": [],
   "source": []
  }
 ],
 "metadata": {
  "kernelspec": {
   "display_name": "Python 3 (ipykernel)",
   "language": "python",
   "name": "python3"
  },
  "language_info": {
   "codemirror_mode": {
    "name": "ipython",
    "version": 3
   },
   "file_extension": ".py",
   "mimetype": "text/x-python",
   "name": "python",
   "nbconvert_exporter": "python",
   "pygments_lexer": "ipython3",
   "version": "3.9.7"
  }
 },
 "nbformat": 4,
 "nbformat_minor": 5
}
