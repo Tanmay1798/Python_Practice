{
 "cells": [
  {
   "cell_type": "code",
   "execution_count": null,
   "id": "4acc012d",
   "metadata": {},
   "outputs": [],
   "source": [
    "# 1. Make a calculator using function."
   ]
  },
  {
   "cell_type": "code",
   "execution_count": 1,
   "id": "8b34bcc1",
   "metadata": {},
   "outputs": [
    {
     "name": "stdout",
     "output_type": "stream",
     "text": [
      "Select option\n",
      "1.Add\n",
      "2.Subtract\n",
      "3.Multiply\n",
      "4.Divide\n",
      "5.Floor Division\n",
      "Enter Choice(1 / 2 / 3 / 4 / 5)6\n",
      "Invalid Input\n",
      "Enter Choice(1 / 2 / 3 / 4 / 5)2\n",
      "Enter 1st Number = 44\n",
      "Enter 2nd Number = 55\n",
      "Subtraction of  44.0 - 55.0 = -11.0\n",
      "Do you want to perform (yes / no ) = no\n"
     ]
    }
   ],
   "source": [
    "def add(a , b):\n",
    "    return a + b\n",
    "\n",
    "def sub(a , b):\n",
    "    return a - b\n",
    "\n",
    "def mul(a , b):\n",
    "    return a * b\n",
    "\n",
    "def div(a , b):\n",
    "    return a / b\n",
    "\n",
    "def fdiv(a , b):\n",
    "    return a - b\n",
    "\n",
    "print(\"Select option\")\n",
    "print(\"1.Add\")\n",
    "print(\"2.Subtract\")\n",
    "print(\"3.Multiply\")\n",
    "print(\"4.Divide\")\n",
    "print(\"5.Floor Division\")\n",
    "\n",
    "while True:\n",
    "    choice = int(input(\"Enter Choice(1 / 2 / 3 / 4 / 5)\"))\n",
    "    \n",
    "    if choice in (1 , 2 , 3 , 4):\n",
    "        n1 = float(input(\"Enter 1st Number = \"))\n",
    "        n2 = float(input(\"Enter 2nd Number = \"))\n",
    "        \n",
    "        if choice == 1:\n",
    "            print(\"Addition of \" ,n1, \"+\", n2, \"=\", add(n1, n2))\n",
    "        elif choice == 2:\n",
    "            print(\"Subtraction of \" ,n1, \"-\", n2, \"=\", sub(n1, n2))\n",
    "        elif choice == 3:\n",
    "            print(\"Multiplication of \" ,n1, \"*\", n2, \"=\", mul(n1, n2))\n",
    "        elif choice == 4:\n",
    "            print(\"Division of \" ,n1, \"/\", n2, \"=\", div(n1, n2))\n",
    "        elif choice == 5:\n",
    "            print(\"Floor Division of \" ,n1, \"//\", n2, \"=\", fdiv(n1, n2))\n",
    "            \n",
    "        next = input(\"Do you want to perform (yes / no ) = \")\n",
    "        if next == \"no\":\n",
    "            break\n",
    "        \n",
    "    else:\n",
    "        print(\"Invalid Input\")\n",
    "            "
   ]
  },
  {
   "cell_type": "code",
   "execution_count": null,
   "id": "051d72a7",
   "metadata": {},
   "outputs": [],
   "source": []
  }
 ],
 "metadata": {
  "kernelspec": {
   "display_name": "Python 3 (ipykernel)",
   "language": "python",
   "name": "python3"
  },
  "language_info": {
   "codemirror_mode": {
    "name": "ipython",
    "version": 3
   },
   "file_extension": ".py",
   "mimetype": "text/x-python",
   "name": "python",
   "nbconvert_exporter": "python",
   "pygments_lexer": "ipython3",
   "version": "3.9.7"
  }
 },
 "nbformat": 4,
 "nbformat_minor": 5
}
