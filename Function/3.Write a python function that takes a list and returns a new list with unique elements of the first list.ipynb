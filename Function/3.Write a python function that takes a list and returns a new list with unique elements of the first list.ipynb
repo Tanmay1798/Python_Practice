{
 "cells": [
  {
   "cell_type": "code",
   "execution_count": null,
   "id": "2fc4568a",
   "metadata": {},
   "outputs": [],
   "source": [
    "# 3. Write a python function that takes a list and returns a new list with unique elements of the first list"
   ]
  },
  {
   "cell_type": "code",
   "execution_count": 1,
   "id": "489f7dd4",
   "metadata": {},
   "outputs": [
    {
     "name": "stdout",
     "output_type": "stream",
     "text": [
      "Unique list is =  [1, 2, 3, 4, 5, 6, 7, 8, 9, 22, 11]\n"
     ]
    }
   ],
   "source": [
    "def unique(l):\n",
    "    x = []\n",
    "    for a in l:\n",
    "        if a not in x:\n",
    "            x.append(a)\n",
    "    return x\n",
    "\n",
    "print(\"Unique list is = \" , end=\" \")\n",
    "print(unique([1,2,2,3,4,5,3,1,4,5,6,7,8,9,8,7,2,1,1,1,2,3,22,11,2,2,]))"
   ]
  },
  {
   "cell_type": "code",
   "execution_count": null,
   "id": "d95c8c48",
   "metadata": {},
   "outputs": [],
   "source": []
  }
 ],
 "metadata": {
  "kernelspec": {
   "display_name": "Python 3 (ipykernel)",
   "language": "python",
   "name": "python3"
  },
  "language_info": {
   "codemirror_mode": {
    "name": "ipython",
    "version": 3
   },
   "file_extension": ".py",
   "mimetype": "text/x-python",
   "name": "python",
   "nbconvert_exporter": "python",
   "pygments_lexer": "ipython3",
   "version": "3.9.7"
  }
 },
 "nbformat": 4,
 "nbformat_minor": 5
}
