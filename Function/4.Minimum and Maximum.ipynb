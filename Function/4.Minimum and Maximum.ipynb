{
 "cells": [
  {
   "cell_type": "code",
   "execution_count": null,
   "id": "230e8e73",
   "metadata": {},
   "outputs": [],
   "source": [
    "# 4. Find maximum and minimum number from two numbers using function"
   ]
  },
  {
   "cell_type": "code",
   "execution_count": 1,
   "id": "6866657a",
   "metadata": {},
   "outputs": [
    {
     "name": "stdout",
     "output_type": "stream",
     "text": [
      "Eneter 1st number = 18\n",
      "Eneter 2nd number = 45\n",
      "Maximum number between 18 & 45 is =  45\n",
      "Minimum number between 18 & 45 is =  18\n"
     ]
    }
   ],
   "source": [
    "def max( a , b ):\n",
    "    if a < b:\n",
    "        return b\n",
    "    else :\n",
    "        return a\n",
    "    \n",
    "def min( a , b ):\n",
    "    if a < b:\n",
    "        return a\n",
    "    else :\n",
    "        return b\n",
    "    \n",
    "n1 = int(input(\"Eneter 1st number = \"))\n",
    "n2 = int(input(\"Eneter 2nd number = \"))\n",
    "\n",
    "print(\"Maximum number between\",n1 ,\"&\",n2 ,\"is = \",max(n1 , n2))\n",
    "print(\"Minimum number between\",n1 ,\"&\",n2, \"is = \",min(n1 , n2))"
   ]
  },
  {
   "cell_type": "code",
   "execution_count": null,
   "id": "0ed78329",
   "metadata": {},
   "outputs": [],
   "source": []
  }
 ],
 "metadata": {
  "kernelspec": {
   "display_name": "Python 3 (ipykernel)",
   "language": "python",
   "name": "python3"
  },
  "language_info": {
   "codemirror_mode": {
    "name": "ipython",
    "version": 3
   },
   "file_extension": ".py",
   "mimetype": "text/x-python",
   "name": "python",
   "nbconvert_exporter": "python",
   "pygments_lexer": "ipython3",
   "version": "3.9.7"
  }
 },
 "nbformat": 4,
 "nbformat_minor": 5
}
