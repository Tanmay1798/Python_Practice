{
 "cells": [
  {
   "cell_type": "code",
   "execution_count": null,
   "id": "45f14a23",
   "metadata": {},
   "outputs": [],
   "source": [
    "# 5. Find the number of uppercases and lowercases letters in string"
   ]
  },
  {
   "cell_type": "code",
   "execution_count": null,
   "id": "f925a288",
   "metadata": {},
   "outputs": [],
   "source": [
    "def U(str):\n",
    "    count = 0\n",
    "    for elem in str:\n",
    "        if elem.isupper():\n",
    "            count += 1\n",
    "    return count\n",
    "def L(sr):\n",
    "    c = 0\n",
    "    for ele in sr:\n",
    "        if ele.islower():\n",
    "            c += 1\n",
    "    return c\n",
    "st = input(\"Enter a string = \")\n",
    "print(\"total upper case words is = \",U(st))\n",
    "print(\"total lower case words is = \",L(st))"
   ]
  },
  {
   "cell_type": "code",
   "execution_count": null,
   "id": "f42763fe",
   "metadata": {},
   "outputs": [],
   "source": []
  },
  {
   "cell_type": "code",
   "execution_count": null,
   "id": "2d57036f",
   "metadata": {},
   "outputs": [],
   "source": []
  }
 ],
 "metadata": {
  "kernelspec": {
   "display_name": "Python 3 (ipykernel)",
   "language": "python",
   "name": "python3"
  },
  "language_info": {
   "codemirror_mode": {
    "name": "ipython",
    "version": 3
   },
   "file_extension": ".py",
   "mimetype": "text/x-python",
   "name": "python",
   "nbconvert_exporter": "python",
   "pygments_lexer": "ipython3",
   "version": "3.9.7"
  }
 },
 "nbformat": 4,
 "nbformat_minor": 5
}
