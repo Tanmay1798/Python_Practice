{
 "cells": [
  {
   "cell_type": "code",
   "execution_count": null,
   "id": "1323fd60",
   "metadata": {},
   "outputs": [],
   "source": [
    "# 6. write a program to check number is prime or not"
   ]
  },
  {
   "cell_type": "code",
   "execution_count": 1,
   "id": "e2973b11",
   "metadata": {},
   "outputs": [
    {
     "name": "stdout",
     "output_type": "stream",
     "text": [
      "Enter a number : 444\n",
      "Not a prime\n"
     ]
    }
   ],
   "source": [
    "def prime(n):\n",
    "    count = 0\n",
    "    for i in range (1,n+1) :\n",
    "        if n % i == 0 :\n",
    "            count = count + 1\n",
    "    if (count == 2):\n",
    "        print(\"Prime\")\n",
    "    else:\n",
    "        print(\"Not a prime\")\n",
    "\n",
    "n = int(input(\"Enter a number : \"))\n",
    "prime(n)"
   ]
  },
  {
   "cell_type": "code",
   "execution_count": null,
   "id": "5d8d6f5e",
   "metadata": {},
   "outputs": [],
   "source": []
  }
 ],
 "metadata": {
  "kernelspec": {
   "display_name": "Python 3 (ipykernel)",
   "language": "python",
   "name": "python3"
  },
  "language_info": {
   "codemirror_mode": {
    "name": "ipython",
    "version": 3
   },
   "file_extension": ".py",
   "mimetype": "text/x-python",
   "name": "python",
   "nbconvert_exporter": "python",
   "pygments_lexer": "ipython3",
   "version": "3.9.7"
  }
 },
 "nbformat": 4,
 "nbformat_minor": 5
}
