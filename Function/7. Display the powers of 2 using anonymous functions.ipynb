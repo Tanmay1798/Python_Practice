{
 "cells": [
  {
   "cell_type": "code",
   "execution_count": null,
   "id": "efa31384",
   "metadata": {},
   "outputs": [],
   "source": [
    "# 7. Display the powers of 2 using anonymous functions"
   ]
  },
  {
   "cell_type": "code",
   "execution_count": 1,
   "id": "b755c440",
   "metadata": {},
   "outputs": [
    {
     "name": "stdout",
     "output_type": "stream",
     "text": [
      "Enter how many terms ? 10\n",
      "The total terms are =  10\n",
      "2 raised to power 0 is 1\n",
      "2 raised to power 1 is 2\n",
      "2 raised to power 2 is 4\n",
      "2 raised to power 3 is 8\n",
      "2 raised to power 4 is 16\n",
      "2 raised to power 5 is 32\n",
      "2 raised to power 6 is 64\n",
      "2 raised to power 7 is 128\n",
      "2 raised to power 8 is 256\n",
      "2 raised to power 9 is 512\n"
     ]
    }
   ],
   "source": [
    "def power(n):\n",
    "    result = list(map(lambda x: 2 ** x, range(n)))\n",
    "    print(\"The total terms are = \",n)\n",
    "    for i in range(n):\n",
    "        print(\"2 raised to power\",i,\"is\",result[i])\n",
    "        \n",
    "num = int(input(\"Enter how many terms ? \"))\n",
    "power(num)"
   ]
  },
  {
   "cell_type": "code",
   "execution_count": null,
   "id": "d833f80e",
   "metadata": {},
   "outputs": [],
   "source": []
  }
 ],
 "metadata": {
  "kernelspec": {
   "display_name": "Python 3 (ipykernel)",
   "language": "python",
   "name": "python3"
  },
  "language_info": {
   "codemirror_mode": {
    "name": "ipython",
    "version": 3
   },
   "file_extension": ".py",
   "mimetype": "text/x-python",
   "name": "python",
   "nbconvert_exporter": "python",
   "pygments_lexer": "ipython3",
   "version": "3.9.7"
  }
 },
 "nbformat": 4,
 "nbformat_minor": 5
}
