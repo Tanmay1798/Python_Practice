{
 "cells": [
  {
   "cell_type": "code",
   "execution_count": null,
   "id": "4e16d768",
   "metadata": {},
   "outputs": [],
   "source": [
    "# 1. Write a python program to calculate the sum of a list of number"
   ]
  },
  {
   "cell_type": "code",
   "execution_count": 1,
   "id": "3ea4d70b",
   "metadata": {},
   "outputs": [
    {
     "name": "stdout",
     "output_type": "stream",
     "text": [
      "Original List =  [1, 2, 3, 3, 4, 5]\n",
      "Sum of list =  18\n"
     ]
    }
   ],
   "source": [
    "def sum(l):\n",
    "    total = 0\n",
    "    for i in range(len(l)):\n",
    "        total = total + l[i]\n",
    "    return total\n",
    "\n",
    "lt = [1 , 2 , 3 , 3 , 4 , 5]\n",
    "print(\"Original List = \",lt)\n",
    "print(\"Sum of list = \" , sum(lt))"
   ]
  },
  {
   "cell_type": "code",
   "execution_count": null,
   "id": "73984130",
   "metadata": {},
   "outputs": [],
   "source": []
  }
 ],
 "metadata": {
  "kernelspec": {
   "display_name": "Python 3 (ipykernel)",
   "language": "python",
   "name": "python3"
  },
  "language_info": {
   "codemirror_mode": {
    "name": "ipython",
    "version": 3
   },
   "file_extension": ".py",
   "mimetype": "text/x-python",
   "name": "python",
   "nbconvert_exporter": "python",
   "pygments_lexer": "ipython3",
   "version": "3.9.7"
  }
 },
 "nbformat": 4,
 "nbformat_minor": 5
}
