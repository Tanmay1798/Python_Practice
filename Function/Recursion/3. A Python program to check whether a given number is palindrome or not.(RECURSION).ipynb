{
 "cells": [
  {
   "cell_type": "code",
   "execution_count": null,
   "id": "f3a5aa49",
   "metadata": {},
   "outputs": [],
   "source": [
    "# 3. A recursive Python program to check whether a given number is palindrome or not."
   ]
  },
  {
   "cell_type": "code",
   "execution_count": 6,
   "id": "eaaac133",
   "metadata": {},
   "outputs": [
    {
     "name": "stdout",
     "output_type": "stream",
     "text": [
      "Enter number = 1213\n",
      "Not a Palindrome\n"
     ]
    }
   ],
   "source": [
    "def pal(n):\n",
    "    temp = n \n",
    "    rev = 0\n",
    "    \n",
    "    while temp > 0:\n",
    "        r = temp % 10\n",
    "        rev = (rev * 10) + r\n",
    "        temp = temp // 10\n",
    "        \n",
    "    if rev == n:\n",
    "        print(\"Palindrome\")\n",
    "    else:\n",
    "        print(\"Not a Palindrome\")\n",
    "\n",
    "num = int(input(\"Enter number = \"))\n",
    "pal(num)"
   ]
  },
  {
   "cell_type": "code",
   "execution_count": 7,
   "id": "56723123",
   "metadata": {},
   "outputs": [
    {
     "name": "stdout",
     "output_type": "stream",
     "text": [
      "Enter number = 12121\n",
      "Palindrome\n"
     ]
    }
   ],
   "source": [
    "def pal(n):\n",
    "    temp = n \n",
    "    rev = 0\n",
    "    \n",
    "    while temp > 0:\n",
    "        r = temp % 10\n",
    "        rev = (rev * 10) + r\n",
    "        temp = temp // 10\n",
    "        \n",
    "    if rev == n:\n",
    "        print(\"Palindrome\")\n",
    "    else:\n",
    "        print(\"Not a Palindrome\")\n",
    "\n",
    "num = int(input(\"Enter number = \"))\n",
    "pal(num)"
   ]
  },
  {
   "cell_type": "code",
   "execution_count": null,
   "id": "b17dc198",
   "metadata": {},
   "outputs": [],
   "source": []
  }
 ],
 "metadata": {
  "kernelspec": {
   "display_name": "Python 3 (ipykernel)",
   "language": "python",
   "name": "python3"
  },
  "language_info": {
   "codemirror_mode": {
    "name": "ipython",
    "version": 3
   },
   "file_extension": ".py",
   "mimetype": "text/x-python",
   "name": "python",
   "nbconvert_exporter": "python",
   "pygments_lexer": "ipython3",
   "version": "3.9.7"
  }
 },
 "nbformat": 4,
 "nbformat_minor": 5
}
