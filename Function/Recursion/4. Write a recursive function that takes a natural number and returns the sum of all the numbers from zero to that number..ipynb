{
 "cells": [
  {
   "cell_type": "code",
   "execution_count": 1,
   "id": "b8614a26",
   "metadata": {},
   "outputs": [],
   "source": [
    "# 4. Write a recursive function that takes a natural number and returns the sum of all the numbers from zero to that number."
   ]
  },
  {
   "cell_type": "code",
   "execution_count": 6,
   "id": "e195e732",
   "metadata": {},
   "outputs": [
    {
     "name": "stdout",
     "output_type": "stream",
     "text": [
      "Enter number = 10\n",
      "Sum =  55\n"
     ]
    }
   ],
   "source": [
    "def sum(n):\n",
    "    total = 0\n",
    "    \n",
    "    if n == 0:\n",
    "        return n\n",
    "    else:\n",
    "        return ((n)+sum(n-1))\n",
    "    \n",
    "num = int(input(\"Enter number = \"))\n",
    "print(\"Sum = \",sum(num))"
   ]
  },
  {
   "cell_type": "code",
   "execution_count": null,
   "id": "aba2fcc6",
   "metadata": {},
   "outputs": [],
   "source": []
  }
 ],
 "metadata": {
  "kernelspec": {
   "display_name": "Python 3 (ipykernel)",
   "language": "python",
   "name": "python3"
  },
  "language_info": {
   "codemirror_mode": {
    "name": "ipython",
    "version": 3
   },
   "file_extension": ".py",
   "mimetype": "text/x-python",
   "name": "python",
   "nbconvert_exporter": "python",
   "pygments_lexer": "ipython3",
   "version": "3.9.7"
  }
 },
 "nbformat": 4,
 "nbformat_minor": 5
}
