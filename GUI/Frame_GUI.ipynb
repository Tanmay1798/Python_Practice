{
 "cells": [
  {
   "cell_type": "code",
   "execution_count": 1,
   "id": "4e439e3f",
   "metadata": {},
   "outputs": [],
   "source": [
    "from tkinter import *"
   ]
  },
  {
   "cell_type": "code",
   "execution_count": null,
   "id": "6cd522bf",
   "metadata": {},
   "outputs": [],
   "source": [
    "root = Tk()\n",
    "root.title(\"GUI\")\n",
    "root.geometry(\"700x700\")\n",
    "root.minsize(200,200)\n",
    "root.maxsize(1000,700)\n",
    "\n",
    "f1 = Frame(root , bg=\"grey\" , borderwidth = 7 , relief=GROOVE) #FLAT,GROOVE,SUNKEN,\n",
    "f1.pack(side=LEFT , fill=\"y\")\n",
    "\n",
    "\n",
    "n1 = Label(f1, text = \"Tanmay Welcome to GUI START GUI\" , font=\"Consolas 16 bold\" , fg=\"Green\" , pady=22 , padx=10)\n",
    "n1.pack()\n",
    "\n",
    "root.mainloop()"
   ]
  },
  {
   "cell_type": "code",
   "execution_count": null,
   "id": "a85cc4fb",
   "metadata": {},
   "outputs": [],
   "source": []
  }
 ],
 "metadata": {
  "kernelspec": {
   "display_name": "Python 3 (ipykernel)",
   "language": "python",
   "name": "python3"
  },
  "language_info": {
   "codemirror_mode": {
    "name": "ipython",
    "version": 3
   },
   "file_extension": ".py",
   "mimetype": "text/x-python",
   "name": "python",
   "nbconvert_exporter": "python",
   "pygments_lexer": "ipython3",
   "version": "3.9.7"
  }
 },
 "nbformat": 4,
 "nbformat_minor": 5
}
